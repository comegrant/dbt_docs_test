{
 "cells": [
  {
   "cell_type": "code",
   "execution_count": null,
   "metadata": {},
   "outputs": [],
   "source": [
    "%load_ext autoreload\n",
    "%autoreload 2"
   ]
  },
  {
   "cell_type": "code",
   "execution_count": 2,
   "metadata": {},
   "outputs": [],
   "source": [
    "from typing import Literal\n",
    "from pydantic import BaseModel\n",
    "\n",
    "class Args(BaseModel):\n",
    "    company: Literal[\"LMK\", \"AMK\", \"GL\", \"RT\"]\n",
    "    env: Literal[\"dev\", \"prod\"]\n",
    "    is_running_on_databricks: bool\n"
   ]
  },
  {
   "cell_type": "code",
   "execution_count": 3,
   "metadata": {},
   "outputs": [],
   "source": [
    "args = Args(\n",
    "    company=\"RT\",\n",
    "    env=\"dev\",\n",
    "    is_running_on_databricks=False\n",
    ")\n",
    "\n",
    "is_running_on_databricks = args.is_running_on_databricks"
   ]
  },
  {
   "cell_type": "code",
   "execution_count": 4,
   "metadata": {},
   "outputs": [],
   "source": [
    "from databricks_env import auto_setup_env\n",
    "if is_running_on_databricks:\n",
    "    auto_setup_env()"
   ]
  },
  {
   "cell_type": "code",
   "execution_count": 5,
   "metadata": {},
   "outputs": [],
   "source": [
    "from dishes_forecasting.train.configs.train_configs import get_training_configs\n",
    "train_config = get_training_configs(company_code=args.company)"
   ]
  },
  {
   "cell_type": "code",
   "execution_count": 6,
   "metadata": {},
   "outputs": [],
   "source": [
    "import logging\n",
    "\n",
    "from constants.companies import get_company_by_code\n",
    "\n",
    "company_code = args.company\n",
    "company = get_company_by_code(company_code=company_code)\n",
    "company_id = company.company_id"
   ]
  },
  {
   "cell_type": "code",
   "execution_count": 7,
   "metadata": {},
   "outputs": [],
   "source": [
    "env = \"dev\""
   ]
  },
  {
   "cell_type": "code",
   "execution_count": null,
   "metadata": {},
   "outputs": [],
   "source": [
    "from dishes_forecasting.train.training_set import create_training_set\n",
    "from dishes_forecasting.train.configs.feature_lookup_config import feature_lookup_config_list\n",
    "\n",
    "training_set, df_training_pk_target = create_training_set(\n",
    "    company_id=company_id,\n",
    "    train_config=train_config,\n",
    "    feature_lookup_config_list=feature_lookup_config_list,\n",
    "    is_drop_ignored_columns=True,\n",
    ")\n",
    "\n",
    "training_set"
   ]
  },
  {
   "cell_type": "code",
   "execution_count": null,
   "metadata": {},
   "outputs": [],
   "source": [
    "import mlflow\n",
    "\n",
    "mlflow.set_registry_uri(\"databricks-uc\")\n",
    "mlflow.set_experiment(\"/Shared/ml_experiments/dishes-forecasting\")"
   ]
  },
  {
   "cell_type": "code",
   "execution_count": null,
   "metadata": {},
   "outputs": [],
   "source": [
    "from dishes_forecasting.train.train_pipeline import train_model\n",
    "from dishes_forecasting.train.configs.hyper_params import load_hyperparams\n",
    "params_lgb, params_rf, params_xgb = load_hyperparams(company=args.company)\n",
    "\n",
    "is_running_on_databricks=False\n",
    "\n",
    "custom_pipeline, X_train, X_test, y_train, y_test, mape, mae, df_test_metrics, df_test_binned = train_model(\n",
    "    training_set=training_set,\n",
    "    params_lgb=params_lgb,\n",
    "    params_rf=params_rf,\n",
    "    params_xgb=params_xgb,\n",
    "    env=\"dev\",\n",
    "    is_running_on_databricks=is_running_on_databricks,\n",
    "    train_config=train_config,\n",
    "    company=company,\n",
    "    is_register_model=True,\n",
    "    is_log_model=True\n",
    ")"
   ]
  },
  {
   "cell_type": "code",
   "execution_count": null,
   "metadata": {},
   "outputs": [],
   "source": []
  },
  {
   "cell_type": "code",
   "execution_count": null,
   "metadata": {},
   "outputs": [],
   "source": [
    "mae"
   ]
  },
  {
   "cell_type": "code",
   "execution_count": null,
   "metadata": {},
   "outputs": [],
   "source": [
    "mape"
   ]
  },
  {
   "cell_type": "code",
   "execution_count": null,
   "metadata": {},
   "outputs": [],
   "source": [
    "df_test_binned"
   ]
  },
  {
   "cell_type": "code",
   "execution_count": 56,
   "metadata": {},
   "outputs": [],
   "source": [
    "import numpy as np\n",
    "y_pred_transformed = np.exp(custom_pipeline.predict(X_test))"
   ]
  },
  {
   "cell_type": "code",
   "execution_count": null,
   "metadata": {},
   "outputs": [],
   "source": [
    "from dishes_forecasting.train.training_set import get_training_pk_target\n",
    "df_training_target = get_training_pk_target(\n",
    "    company_id=company_id,\n",
    "    min_yyyyww=train_config[\"train_start_yyyyww\"],\n",
    "    max_yyyyww=train_config[\"train_end_yyyyww\"],\n",
    "    is_training_set=False,\n",
    ")"
   ]
  },
  {
   "cell_type": "code",
   "execution_count": 9,
   "metadata": {},
   "outputs": [],
   "source": [
    "from dishes_forecasting.schema import feature_schema\n",
    "feature_schema.coerce=True"
   ]
  },
  {
   "cell_type": "code",
   "execution_count": null,
   "metadata": {},
   "outputs": [],
   "source": [
    "feature_schema.validate(training_set.dropna())"
   ]
  },
  {
   "cell_type": "markdown",
   "metadata": {},
   "source": []
  },
  {
   "cell_type": "code",
   "execution_count": null,
   "metadata": {},
   "outputs": [],
   "source": [
    "X_test"
   ]
  },
  {
   "cell_type": "code",
   "execution_count": 82,
   "metadata": {},
   "outputs": [],
   "source": [
    "mlflow.set_tracking_uri(\"databricks\")"
   ]
  },
  {
   "cell_type": "code",
   "execution_count": null,
   "metadata": {},
   "outputs": [],
   "source": []
  }
 ],
 "metadata": {
  "kernelspec": {
   "display_name": ".venv",
   "language": "python",
   "name": "python3"
  },
  "language_info": {
   "codemirror_mode": {
    "name": "ipython",
    "version": 3
   },
   "file_extension": ".py",
   "mimetype": "text/x-python",
   "name": "python",
   "nbconvert_exporter": "python",
   "pygments_lexer": "ipython3",
   "version": "3.11.0"
  }
 },
 "nbformat": 4,
 "nbformat_minor": 2
}
