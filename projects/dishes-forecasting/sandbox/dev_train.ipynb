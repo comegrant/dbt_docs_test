{
 "cells": [
  {
   "cell_type": "code",
   "execution_count": 1,
   "metadata": {},
   "outputs": [],
   "source": [
    "%load_ext autoreload\n",
    "%autoreload 2"
   ]
  },
  {
   "cell_type": "code",
   "execution_count": 2,
   "metadata": {},
   "outputs": [],
   "source": [
    "from typing import Literal\n",
    "from pydantic import BaseModel\n",
    "\n",
    "class Args(BaseModel):\n",
    "    company: Literal[\"LMK\", \"AMK\", \"GL\", \"RT\"]\n",
    "    env: Literal[\"dev\", \"prod\"]\n",
    "    is_running_on_databricks: bool\n"
   ]
  },
  {
   "cell_type": "code",
   "execution_count": 14,
   "metadata": {},
   "outputs": [],
   "source": [
    "args = Args(\n",
    "    company=\"RT\",\n",
    "    env=\"dev\",\n",
    "    is_running_on_databricks=False\n",
    ")\n",
    "\n",
    "is_running_on_databricks = args.is_running_on_databricks"
   ]
  },
  {
   "cell_type": "code",
   "execution_count": 15,
   "metadata": {},
   "outputs": [],
   "source": [
    "from databricks_env import auto_setup_env\n",
    "if is_running_on_databricks:\n",
    "    auto_setup_env()"
   ]
  },
  {
   "cell_type": "code",
   "execution_count": 16,
   "metadata": {},
   "outputs": [],
   "source": [
    "from dishes_forecasting.spark_context import create_spark_context\n",
    "spark = create_spark_context()"
   ]
  },
  {
   "cell_type": "code",
   "execution_count": 17,
   "metadata": {},
   "outputs": [],
   "source": [
    "import logging\n",
    "\n",
    "from constants.companies import get_company_by_code\n",
    "\n",
    "company_code = args.company\n",
    "company = get_company_by_code(company_code=company_code)\n",
    "company_id = company.company_id"
   ]
  },
  {
   "cell_type": "code",
   "execution_count": 18,
   "metadata": {},
   "outputs": [],
   "source": [
    "from dishes_forecasting.train.configs.feature_lookup_config import feature_lookup_config_list\n",
    "from dishes_forecasting.train.training_set import create_training_set\n",
    "from databricks.feature_store import FeatureStoreClient\n",
    "\n",
    "from dishes_forecasting.train.configs.train_configs import get_training_configs\n",
    "train_config = get_training_configs(company_code=args.company)\n",
    "if is_running_on_databricks:\n",
    "    fs = FeatureStoreClient()\n",
    "else:\n",
    "    fs = None\n",
    "training_set, df_training_pk_target = create_training_set(\n",
    "    is_use_feature_store=False,\n",
    "    env=args.env,\n",
    "    company_id=company_id,\n",
    "    train_config=train_config,\n",
    "    spark=spark,\n",
    "    feature_lookup_config_list=feature_lookup_config_list,\n",
    "    fs=fs,\n",
    ")\n"
   ]
  },
  {
   "cell_type": "code",
   "execution_count": null,
   "metadata": {},
   "outputs": [],
   "source": [
    "from dishes_forecasting.train.train_pipeline import train_model\n",
    "from dishes_forecasting.train.configs.hyper_params import load_hyperparams\n",
    "params_lgb, params_rf, params_xgb = load_hyperparams(company=args.company)\n",
    "\n",
    "custom_pipeline, X_train, X_test, y_train, y_test, mape, mae, df_test_metrics, df_test_binned = train_model(\n",
    "    training_set=training_set,\n",
    "    params_lgb=params_lgb,\n",
    "    params_rf=params_rf,\n",
    "    params_xgb=params_xgb,\n",
    "    is_running_on_databricks=is_running_on_databricks,\n",
    "    env=\"dev\",\n",
    "    spark=spark,\n",
    "    train_config=train_config,\n",
    "    company=company\n",
    ")"
   ]
  },
  {
   "cell_type": "code",
   "execution_count": null,
   "metadata": {},
   "outputs": [],
   "source": [
    "mae"
   ]
  },
  {
   "cell_type": "code",
   "execution_count": null,
   "metadata": {},
   "outputs": [],
   "source": [
    "mape"
   ]
  },
  {
   "cell_type": "code",
   "execution_count": null,
   "metadata": {},
   "outputs": [],
   "source": [
    "df_test_binned"
   ]
  },
  {
   "cell_type": "code",
   "execution_count": 56,
   "metadata": {},
   "outputs": [],
   "source": [
    "import numpy as np\n",
    "y_pred_transformed = np.exp(custom_pipeline.predict(X_test))"
   ]
  },
  {
   "cell_type": "code",
   "execution_count": null,
   "metadata": {},
   "outputs": [],
   "source": [
    "from dishes_forecasting.train.training_set import get_training_pk_target\n",
    "df_training_target = get_training_pk_target(\n",
    "    spark=spark,\n",
    "    env=\"dev\",\n",
    "    company_id=company_id,\n",
    "    min_yyyyww=train_config[\"train_start_yyyyww\"],\n",
    "    max_yyyyww=train_config[\"train_end_yyyyww\"],\n",
    "    is_training_set=False,\n",
    ")"
   ]
  },
  {
   "cell_type": "code",
   "execution_count": null,
   "metadata": {},
   "outputs": [],
   "source": [
    "X_test"
   ]
  },
  {
   "cell_type": "code",
   "execution_count": null,
   "metadata": {},
   "outputs": [],
   "source": [
    "from dishes_forecasting.train.metrics import get_test_metrics\n",
    "df_test, mae, mape, df_test_binned = get_test_metrics(\n",
    "    spark=spark,\n",
    "    env=args.env,\n",
    "    X_test=X_test,\n",
    "    company_id=company_id,\n",
    "    y_pred_transformed=y_pred_transformed,\n",
    "    min_yyyyww=train_config[\"train_start_yyyyww\"],\n",
    "    max_yyyyww=train_config[\"train_end_yyyyww\"],\n",
    "    is_normalized=True\n",
    ")"
   ]
  },
  {
   "cell_type": "code",
   "execution_count": null,
   "metadata": {},
   "outputs": [],
   "source": [
    "mae"
   ]
  },
  {
   "cell_type": "code",
   "execution_count": null,
   "metadata": {},
   "outputs": [],
   "source": [
    "df_test[[\n",
    "    \"y_pred_transformed\",\n",
    "    \"variation_ratio\",\n",
    "    \"product_variation_qty_pred\",\n",
    "    \"product_variation_quantity\"\n",
    "]].sample(50)"
   ]
  },
  {
   "cell_type": "markdown",
   "metadata": {},
   "source": []
  }
 ],
 "metadata": {
  "kernelspec": {
   "display_name": ".venv",
   "language": "python",
   "name": "python3"
  },
  "language_info": {
   "codemirror_mode": {
    "name": "ipython",
    "version": 3
   },
   "file_extension": ".py",
   "mimetype": "text/x-python",
   "name": "python",
   "nbconvert_exporter": "python",
   "pygments_lexer": "ipython3",
   "version": "3.10.0"
  }
 },
 "nbformat": 4,
 "nbformat_minor": 2
}
