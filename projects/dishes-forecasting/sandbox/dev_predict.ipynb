{
 "cells": [
  {
   "cell_type": "code",
   "execution_count": null,
   "metadata": {},
   "outputs": [],
   "source": [
    "%load_ext autoreload\n",
    "%autoreload 2"
   ]
  },
  {
   "cell_type": "code",
   "execution_count": null,
   "metadata": {},
   "outputs": [],
   "source": [
    "from dishes_forecasting.predict.run_predict import Args\n",
    "args = Args(\n",
    "    company=\"RT\",\n",
    "    env=\"dev\",\n",
    "    is_running_on_databricks=False,\n",
    "    is_normalize_predictions=True,\n",
    "    is_modify_new_portions=True,\n",
    "    is_add_new_portions_on_top=False,\n",
    "    new_portions=[3, 5],\n",
    "    new_portions_targets=[0.20, 0.10],\n",
    ")"
   ]
  },
  {
   "cell_type": "code",
   "execution_count": 3,
   "metadata": {},
   "outputs": [],
   "source": [
    "from databricks_env import auto_setup_env\n",
    "is_running_on_databricks = args.is_running_on_databricks\n",
    "if is_running_on_databricks:\n",
    "    auto_setup_env()"
   ]
  },
  {
   "cell_type": "code",
   "execution_count": 4,
   "metadata": {},
   "outputs": [],
   "source": [
    "from constants.companies import get_company_by_code\n",
    "\n",
    "company_code = args.company\n",
    "company = get_company_by_code(company_code=company_code)\n",
    "company_id = company.company_id"
   ]
  },
  {
   "cell_type": "code",
   "execution_count": 5,
   "metadata": {},
   "outputs": [],
   "source": [
    "from dishes_forecasting.predict.configs import get_configs\n",
    "pred_configs = get_configs(company_code=args.company)"
   ]
  },
  {
   "cell_type": "code",
   "execution_count": 6,
   "metadata": {},
   "outputs": [],
   "source": [
    "from time_machine.forecasting import get_forecast_start\n",
    "\n",
    "from datetime import date\n",
    "if args.forecast_date is None:\n",
    "    forecast_date = date.today()\n",
    "year, week = get_forecast_start(\n",
    "    cut_off_day=company.cut_off_week_day,\n",
    "    forecast_date=forecast_date\n",
    ")\n",
    "min_yyyyww = year * 100 + week"
   ]
  },
  {
   "cell_type": "code",
   "execution_count": null,
   "metadata": {},
   "outputs": [],
   "source": [
    "from dishes_forecasting.predict.data import create_pred_dataset\n",
    "from dishes_forecasting.train.configs.feature_lookup_config import feature_lookup_config_list\n",
    "df_pred, df_left = create_pred_dataset(\n",
    "    min_yyyyww=min_yyyyww,\n",
    "    company=company,\n",
    "    feature_lookup_config_list=feature_lookup_config_list\n",
    ")"
   ]
  },
  {
   "cell_type": "code",
   "execution_count": 8,
   "metadata": {},
   "outputs": [],
   "source": [
    "import mlflow\n",
    "mlflow.set_registry_uri(\"databricks-uc\")\n"
   ]
  },
  {
   "cell_type": "code",
   "execution_count": null,
   "metadata": {},
   "outputs": [],
   "source": [
    "model_uri = pred_configs.model_uri[args.env]\n",
    "loaded_model = mlflow.pyfunc.load_model(model_uri)\n"
   ]
  },
  {
   "cell_type": "code",
   "execution_count": null,
   "metadata": {},
   "outputs": [],
   "source": [
    "from dishes_forecasting.predict.predictor import make_predictions\n",
    "df_predictions = make_predictions(model=loaded_model, df_pred=df_pred)"
   ]
  },
  {
   "cell_type": "code",
   "execution_count": 54,
   "metadata": {},
   "outputs": [],
   "source": [
    "from dishes_forecasting.predict.predictor import modify_new_portions, normalize_predictions\n",
    "if args.is_modify_new_portions:\n",
    "    df_predictions = modify_new_portions(\n",
    "        df_predictions=df_predictions,\n",
    "        is_add_new_portions_on_top=args.is_add_new_portions_on_top,\n",
    "        new_portions=args.new_portions,\n",
    "        new_portions_targets=args.new_portions_targets,\n",
    "    )\n",
    "elif args.is_normalize_predictions:\n",
    "    df_predictions = normalize_predictions(df_predictions=df_predictions)"
   ]
  },
  {
   "cell_type": "code",
   "execution_count": null,
   "metadata": {},
   "outputs": [],
   "source": [
    "df_predictions.groupby([\"menu_year\", \"menu_week\", \"portion_quantity\"]).variation_ratio_prediction.sum()"
   ]
  },
  {
   "cell_type": "code",
   "execution_count": null,
   "metadata": {},
   "outputs": [],
   "source": [
    "from dishes_forecasting.predict.postprocessor import format_predictions_for_output\n",
    "df_to_save = format_predictions_for_output(\n",
    "    df_predictions=df_predictions\n",
    ")\n",
    "\n",
    "df_to_save"
   ]
  },
  {
   "cell_type": "code",
   "execution_count": 26,
   "metadata": {},
   "outputs": [],
   "source": [
    "from dishes_forecasting.predict.postprocessor import save_predictions\n",
    "save_predictions(\n",
    "    df_to_write=df_to_save,\n",
    "    env=args.env,\n",
    "    table_schema=\"mloutputs\",\n",
    "    table_name=\"ml_dishes_ratios\"\n",
    ")"
   ]
  },
  {
   "cell_type": "code",
   "execution_count": null,
   "metadata": {},
   "outputs": [],
   "source": [
    "\n",
    "from dishes_forecasting.predict.run_predict import run_predict\n",
    "df_predictions = run_predict(\n",
    "    args=args,\n",
    ")"
   ]
  },
  {
   "cell_type": "code",
   "execution_count": null,
   "metadata": {},
   "outputs": [],
   "source": []
  }
 ],
 "metadata": {
  "kernelspec": {
   "display_name": ".venv",
   "language": "python",
   "name": "python3"
  },
  "language_info": {
   "codemirror_mode": {
    "name": "ipython",
    "version": 3
   },
   "file_extension": ".py",
   "mimetype": "text/x-python",
   "name": "python",
   "nbconvert_exporter": "python",
   "pygments_lexer": "ipython3",
   "version": "3.11.0"
  }
 },
 "nbformat": 4,
 "nbformat_minor": 2
}
