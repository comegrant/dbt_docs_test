{
 "cells": [
  {
   "cell_type": "code",
   "execution_count": 1,
   "metadata": {},
   "outputs": [],
   "source": [
    "%load_ext autoreload\n",
    "%autoreload 2"
   ]
  },
  {
   "cell_type": "code",
   "execution_count": 2,
   "metadata": {},
   "outputs": [],
   "source": [
    "import logging\n",
    "\n",
    "from constants.companies import get_company_by_code\n",
    "\n",
    "company_code = 'GL'\n",
    "company = get_company_by_code(company_code=company_code)\n",
    "company_id = company.company_id"
   ]
  },
  {
   "cell_type": "code",
   "execution_count": null,
   "metadata": {},
   "outputs": [],
   "source": [
    "from catalog_connector import connection\n",
    "df_truth = connection.sql(\n",
    "    f\"\"\"\n",
    "        select * from\n",
    "        mlgold.dishes_forecasting_order_history\n",
    "        where company_id = '{company_id}'\n",
    "    \"\"\"\n",
    ").toPandas()\n",
    "\n",
    "df_truth.head()"
   ]
  },
  {
   "cell_type": "code",
   "execution_count": 4,
   "metadata": {},
   "outputs": [],
   "source": [
    "from dishes_forecasting.paths import PROJECT_DIR\n",
    "forecasting_dir = PROJECT_DIR.parent.parent.parent / \"Forecasting\"\n",
    "dishes_file = forecasting_dir / f\"dishes_ml_forecast_{company_code.lower()}.csv\""
   ]
  },
  {
   "cell_type": "code",
   "execution_count": 5,
   "metadata": {},
   "outputs": [],
   "source": [
    "import pandas as pd\n",
    "\n",
    "df = pd.read_csv(dishes_file)\n",
    "\n",
    "df_old_model= df.rename(\n",
    "    columns={\n",
    "        \"variation_id\": \"product_variation_id\",\n",
    "        \"year\": \"menu_year\",\n",
    "        \"week\": \"menu_week\",\n",
    "        \"variation_ratio\": \"variation_ratio_predicted\",\n",
    "    }\n",
    ")\n",
    "\n",
    "df_old_model = df_old_model.merge(\n",
    "    df_truth,\n",
    "    on=[\"product_variation_id\", \"menu_year\", \"menu_week\", \"company_id\"],\n",
    "    how=\"left\",\n",
    ").dropna(subset=\"variation_ratio\")\n",
    "\n",
    "df_old_model[\"variation_quantity_predicted\"] = df_old_model[\"variation_ratio_predicted\"] * df_old_model[\"total_weekly_qty\"]\n",
    "df_old_model[\"error\"] = df_old_model[\"variation_quantity_predicted\"] - df_old_model[\"product_variation_quantity\"]\n",
    "df_old_model[\"abs_error\"] = df_old_model[\"error\"].abs()\n",
    "df_old_model[\"pct_error\"] = df_old_model[\"error\"] / df_old_model[\"product_variation_quantity\"]\n",
    "df_old_model[\"abs_pct_error\"] = df_old_model[\"pct_error\"].abs()"
   ]
  },
  {
   "cell_type": "code",
   "execution_count": null,
   "metadata": {},
   "outputs": [],
   "source": [
    "df_old_model.groupby(\"run_id\")[\"abs_error\"].describe()[\"mean\"].describe()"
   ]
  },
  {
   "cell_type": "code",
   "execution_count": null,
   "metadata": {},
   "outputs": [],
   "source": [
    "df_new_model = connection.sql(\n",
    "    f\"\"\"\n",
    "        select * from\n",
    "        mloutputs.ml_dishes_ratios\n",
    "        where company_id = '{company_id}'\n",
    "    \"\"\"\n",
    ").toPandas()"
   ]
  },
  {
   "cell_type": "code",
   "execution_count": 8,
   "metadata": {},
   "outputs": [],
   "source": [
    "df_new_model = df_new_model.merge(\n",
    "    df_truth,\n",
    "    on=[\"product_variation_id\", \"menu_year\", \"menu_week\", \"company_id\"],\n",
    "    how=\"left\",\n",
    ").dropna(subset=\"variation_ratio\")\n",
    "\n",
    "df_new_model[\"variation_quantity_predicted\"] = df_new_model[\"variation_ratio_prediction\"] * df_new_model[\"total_weekly_qty\"]\n",
    "df_new_model[\"error\"] = df_new_model[\"variation_quantity_predicted\"] - df_new_model[\"product_variation_quantity\"]\n",
    "df_new_model[\"abs_error\"] = df_new_model[\"error\"].abs()\n",
    "df_new_model[\"pct_error\"] = df_new_model[\"error\"] / df_new_model[\"product_variation_quantity\"]\n",
    "df_new_model[\"abs_pct_error\"] = df_new_model[\"pct_error\"].abs()"
   ]
  },
  {
   "cell_type": "code",
   "execution_count": null,
   "metadata": {},
   "outputs": [],
   "source": [
    "df_new_model[\"abs_error\"].describe()"
   ]
  },
  {
   "cell_type": "code",
   "execution_count": null,
   "metadata": {},
   "outputs": [],
   "source": [
    "df_old_model = df_old_model[df_old_model[\"menu_week\"] >= 27]\n",
    "df_old_model[\"abs_error\"].describe()"
   ]
  },
  {
   "cell_type": "code",
   "execution_count": null,
   "metadata": {},
   "outputs": [],
   "source": [
    "df_old_model.head()"
   ]
  },
  {
   "cell_type": "code",
   "execution_count": null,
   "metadata": {},
   "outputs": [],
   "source": [
    "df_old_model.groupby(\"run_timestamp\")[\"abs_error\"].describe()[\"mean\"]"
   ]
  },
  {
   "cell_type": "code",
   "execution_count": null,
   "metadata": {},
   "outputs": [],
   "source": [
    "df_new_model.groupby(\"created_at\")[\"abs_error\"].describe()[\"mean\"]"
   ]
  },
  {
   "cell_type": "code",
   "execution_count": null,
   "metadata": {},
   "outputs": [],
   "source": [
    "df_old_model.groupby(\"run_timestamp\")[\"abs_pct_error\"].describe()[\"50%\"]"
   ]
  },
  {
   "cell_type": "code",
   "execution_count": null,
   "metadata": {},
   "outputs": [],
   "source": [
    "df_new_model.groupby(\"created_at\")[\"abs_pct_error\"].describe()[\"50%\"]"
   ]
  },
  {
   "cell_type": "code",
   "execution_count": null,
   "metadata": {},
   "outputs": [],
   "source": [
    "df_new_model"
   ]
  },
  {
   "cell_type": "code",
   "execution_count": null,
   "metadata": {},
   "outputs": [],
   "source": []
  }
 ],
 "metadata": {
  "kernelspec": {
   "display_name": ".venv",
   "language": "python",
   "name": "python3"
  },
  "language_info": {
   "codemirror_mode": {
    "name": "ipython",
    "version": 3
   },
   "file_extension": ".py",
   "mimetype": "text/x-python",
   "name": "python",
   "nbconvert_exporter": "python",
   "pygments_lexer": "ipython3",
   "version": "3.11.0"
  }
 },
 "nbformat": 4,
 "nbformat_minor": 2
}
