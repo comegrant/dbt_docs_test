{
 "cells": [
  {
   "cell_type": "code",
   "execution_count": 1,
   "metadata": {},
   "outputs": [],
   "source": [
    "%load_ext autoreload\n",
    "%autoreload 2"
   ]
  },
  {
   "cell_type": "code",
   "execution_count": 74,
   "metadata": {},
   "outputs": [],
   "source": [
    "import logging\n",
    "\n",
    "from constants.companies import get_company_by_code\n",
    "\n",
    "company_code = 'AMK'\n",
    "company = get_company_by_code(company_code=company_code)\n",
    "company_id = company.company_id"
   ]
  },
  {
   "cell_type": "code",
   "execution_count": null,
   "metadata": {},
   "outputs": [],
   "source": [
    "from catalog_connector import connection\n",
    "df_truth = connection.sql(\n",
    "    f\"\"\"\n",
    "        select * from\n",
    "        mlgold.dishes_forecasting_order_history\n",
    "        where company_id = '{company_id}'\n",
    "    \"\"\"\n",
    ").toPandas()\n",
    "\n",
    "df_truth.head()"
   ]
  },
  {
   "cell_type": "code",
   "execution_count": null,
   "metadata": {},
   "outputs": [],
   "source": [
    "from dishes_forecasting.paths import PROJECT_DIR\n",
    "import pandas as pd\n",
    "forecasting_dir = PROJECT_DIR.parent.parent.parent / \"Forecasting\"\n",
    "dishes_file = forecasting_dir / f\"dishes_ml_forecast.csv\"\n",
    "\n",
    "df_old_model = pd.read_csv(dishes_file)\n",
    "df_old_model[df_old_model[\"company_id\"] == company_id]"
   ]
  },
  {
   "cell_type": "code",
   "execution_count": 77,
   "metadata": {},
   "outputs": [],
   "source": [
    "df_normalization = pd.DataFrame(\n",
    "    df_old_model.groupby(\n",
    "        [\"year\", \"week\", \"run_id\"]\n",
    "    )[\"dish_ratio\"].sum()\n",
    ").reset_index().rename(\n",
    "    columns={\"dish_ratio\": \"normalizing_constant\"}\n",
    ")\n",
    "\n",
    "df_old_model = df_old_model.merge(\n",
    "    df_normalization,\n",
    "    on=[\"year\", \"week\", \"run_id\"],\n",
    "    how=\"left\"\n",
    ")\n",
    "\n",
    "df_old_model[\"dish_ratio_normalized\"] = df_old_model[\"dish_ratio\"] / df_old_model[\"normalizing_constant\"]\n",
    "\n",
    "df_old_model= df_old_model.rename(\n",
    "    columns={\n",
    "        \"variation_id\": \"product_variation_id\",\n",
    "        \"year\": \"menu_year\",\n",
    "        \"week\": \"menu_week\",\n",
    "        \"dish_ratio_normalized\": \"variation_ratio_predicted\",\n",
    "    }\n",
    ")\n",
    "\n",
    "df_old_model = df_old_model.merge(\n",
    "    df_truth,\n",
    "    on=[\"product_variation_id\", \"menu_year\", \"menu_week\", \"company_id\"],\n",
    "    how=\"left\",\n",
    ").dropna(subset=\"variation_ratio\")\n",
    "\n",
    "df_old_model[\"variation_quantity_predicted\"] = df_old_model[\"variation_ratio_predicted\"] * df_old_model[\"total_weekly_qty\"]\n",
    "df_old_model[\"error\"] = df_old_model[\"variation_quantity_predicted\"] - df_old_model[\"product_variation_quantity\"]\n",
    "df_old_model[\"abs_error\"] = df_old_model[\"error\"].abs()\n",
    "df_old_model[\"pct_error\"] = df_old_model[\"error\"] / df_old_model[\"product_variation_quantity\"]\n",
    "df_old_model[\"abs_pct_error\"] = df_old_model[\"pct_error\"].abs()"
   ]
  },
  {
   "cell_type": "code",
   "execution_count": null,
   "metadata": {},
   "outputs": [],
   "source": [
    "df_new_model = connection.sql(\n",
    "    f\"\"\"\n",
    "        select * from\n",
    "        mloutputs.ml_dishes_ratios\n",
    "        where company_id = '{company_id}'\n",
    "    \"\"\"\n",
    ").toPandas()"
   ]
  },
  {
   "cell_type": "code",
   "execution_count": null,
   "metadata": {},
   "outputs": [],
   "source": [
    "df_new_model.columns"
   ]
  },
  {
   "cell_type": "code",
   "execution_count": 80,
   "metadata": {},
   "outputs": [],
   "source": [
    "import pandas as pd\n",
    "df_normalization = pd.DataFrame(\n",
    "    df_new_model.groupby([\"menu_year\", \"menu_week\", \"created_at\"]).variation_ratio_prediction.sum()\n",
    ").reset_index().rename(\n",
    "    columns={   \"variation_ratio_prediction\": \"normalizing_constant\"}\n",
    ")\n",
    "\n",
    "df_new_model = df_new_model.merge(\n",
    "    df_normalization,\n",
    "    on=[\"menu_year\", \"menu_week\", \"created_at\"],\n",
    "    how=\"left\"\n",
    ")\n",
    "\n",
    "df_new_model[\"variation_ratio_prediction_normalized\"] = df_new_model[\"variation_ratio_prediction\"] / df_new_model[\"normalizing_constant\"]\n",
    "df_new_model = df_new_model.merge(\n",
    "    df_truth,\n",
    "    on=[\"product_variation_id\", \"menu_year\", \"menu_week\", \"company_id\"],\n",
    "    how=\"left\",\n",
    ").dropna(subset=\"variation_ratio\")"
   ]
  },
  {
   "cell_type": "code",
   "execution_count": 81,
   "metadata": {},
   "outputs": [],
   "source": [
    "\n",
    "df_new_model[\"variation_quantity_predicted\"] = df_new_model[\"variation_ratio_prediction_normalized\"] * df_new_model[\"total_weekly_qty\"]\n",
    "df_new_model[\"error\"] = df_new_model[\"variation_quantity_predicted\"] - df_new_model[\"product_variation_quantity\"]\n",
    "df_new_model[\"abs_error\"] = df_new_model[\"error\"].abs()\n",
    "df_new_model[\"pct_error\"] = df_new_model[\"error\"] / df_new_model[\"product_variation_quantity\"]\n",
    "df_new_model[\"abs_pct_error\"] = df_new_model[\"pct_error\"].abs()"
   ]
  },
  {
   "cell_type": "code",
   "execution_count": null,
   "metadata": {},
   "outputs": [],
   "source": [
    "df_new_model"
   ]
  },
  {
   "cell_type": "code",
   "execution_count": 83,
   "metadata": {},
   "outputs": [],
   "source": [
    "df_old_model_to_compare = df_old_model[pd.to_datetime(df_old_model[\"run_timestamp\"])>= df_new_model[\"created_at\"].min()]"
   ]
  },
  {
   "cell_type": "code",
   "execution_count": null,
   "metadata": {},
   "outputs": [],
   "source": [
    "df_new_model[\"abs_error\"].describe()"
   ]
  },
  {
   "cell_type": "code",
   "execution_count": null,
   "metadata": {},
   "outputs": [],
   "source": [
    "df_old_model_to_compare[\"abs_error\"].describe()"
   ]
  },
  {
   "cell_type": "code",
   "execution_count": null,
   "metadata": {},
   "outputs": [],
   "source": [
    "df_old_model_to_compare.groupby(\"run_id\")[\"abs_error\"].mean().describe()"
   ]
  },
  {
   "cell_type": "code",
   "execution_count": null,
   "metadata": {},
   "outputs": [],
   "source": [
    "df_new_model.groupby(\"run_id\")[\"abs_error\"].mean().describe()"
   ]
  },
  {
   "cell_type": "code",
   "execution_count": null,
   "metadata": {},
   "outputs": [],
   "source": [
    "df_new_model.groupby(\"menu_week\")[\"abs_error\"].describe()[\"mean\"]"
   ]
  },
  {
   "cell_type": "code",
   "execution_count": null,
   "metadata": {},
   "outputs": [],
   "source": [
    "df_old_model_to_compare.groupby(\"menu_week\")[\"abs_error\"].describe()[\"mean\"]"
   ]
  },
  {
   "cell_type": "code",
   "execution_count": null,
   "metadata": {},
   "outputs": [],
   "source": [
    "df_old_model_to_compare.groupby(\"run_timestamp\")[\"abs_pct_error\"].describe()[[\"mean\", \"50%\"]]"
   ]
  },
  {
   "cell_type": "code",
   "execution_count": null,
   "metadata": {},
   "outputs": [],
   "source": [
    "df_new_model.groupby(\"created_at\")[\"abs_pct_error\"].describe()[[\"mean\", \"50%\"]]"
   ]
  },
  {
   "cell_type": "code",
   "execution_count": 104,
   "metadata": {},
   "outputs": [],
   "source": [
    "df_differences = df_new_model[[\n",
    "    \"menu_year\", \"menu_week\", \"product_variation_id\", \"recipe_name\", \"variation_ratio_prediction\", \"variation_quantity_predicted\", \"created_at\", \"product_variation_quantity\"\n",
    "]].rename(\n",
    "    columns={\n",
    "        \"variation_ratio_prediction\": \"variation_ratio_predicted_new_model\",\n",
    "        \"variation_quantity_predicted\": \"variation_quantity_predicted_new_model\",\n",
    "    }\n",
    ").merge(\n",
    "    df_old_model[[\n",
    "        \"product_variation_id\", \"menu_year\", \"menu_week\", \"variation_ratio_predicted\", \"variation_quantity_predicted\"\n",
    "    ]].rename(\n",
    "        columns={\n",
    "            \"variation_ratio_predicted\": \"variation_ratio_predicted_old_model\",\n",
    "            \"variation_quantity_predicted\": \"variation_quantity_predicted_old_model\",\n",
    "        }\n",
    "    ),\n",
    "    on=[\"product_variation_id\", \"menu_year\", \"menu_week\",],\n",
    "    how=\"left\",\n",
    ")\n",
    "\n"
   ]
  },
  {
   "cell_type": "code",
   "execution_count": 105,
   "metadata": {},
   "outputs": [],
   "source": [
    "df_differences[\"differences\"] = (df_differences[\"variation_quantity_predicted_old_model\"] - df_differences[\"variation_quantity_predicted_new_model\"])"
   ]
  },
  {
   "cell_type": "code",
   "execution_count": null,
   "metadata": {},
   "outputs": [],
   "source": [
    "df_differences[abs(df_differences[\"differences\"])>50].sample(50)"
   ]
  },
  {
   "cell_type": "code",
   "execution_count": null,
   "metadata": {},
   "outputs": [],
   "source": []
  },
  {
   "cell_type": "code",
   "execution_count": null,
   "metadata": {},
   "outputs": [],
   "source": []
  }
 ],
 "metadata": {
  "kernelspec": {
   "display_name": ".venv",
   "language": "python",
   "name": "python3"
  },
  "language_info": {
   "codemirror_mode": {
    "name": "ipython",
    "version": 3
   },
   "file_extension": ".py",
   "mimetype": "text/x-python",
   "name": "python",
   "nbconvert_exporter": "python",
   "pygments_lexer": "ipython3",
   "version": "3.11.0"
  }
 },
 "nbformat": 4,
 "nbformat_minor": 2
}
