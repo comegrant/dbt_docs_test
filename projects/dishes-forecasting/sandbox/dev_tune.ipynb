{
 "cells": [
  {
   "cell_type": "code",
   "execution_count": 1,
   "metadata": {},
   "outputs": [],
   "source": [
    "%load_ext autoreload\n",
    "%autoreload 2"
   ]
  },
  {
   "cell_type": "code",
   "execution_count": 2,
   "metadata": {},
   "outputs": [],
   "source": [
    "import logging\n",
    "logger = logging.getLogger()\n",
    "logger.setLevel(logging.INFO)"
   ]
  },
  {
   "cell_type": "code",
   "execution_count": 3,
   "metadata": {},
   "outputs": [],
   "source": [
    "from typing import Literal\n",
    "from pydantic import BaseModel\n",
    "\n",
    "class Args(BaseModel):\n",
    "    company: Literal[\"LMK\", \"AMK\", \"GL\", \"RT\"]\n",
    "    env: Literal[\"dev\", \"prod\"]\n",
    "    is_running_on_databricks: bool"
   ]
  },
  {
   "cell_type": "code",
   "execution_count": 4,
   "metadata": {},
   "outputs": [],
   "source": [
    "args = Args(\n",
    "    company=\"LMK\",\n",
    "    env=\"dev\",\n",
    "    is_running_on_databricks=False\n",
    ")\n",
    "\n",
    "is_running_on_databricks = args.is_running_on_databricks"
   ]
  },
  {
   "cell_type": "code",
   "execution_count": 5,
   "metadata": {},
   "outputs": [],
   "source": [
    "from databricks_env import auto_setup_env\n",
    "if is_running_on_databricks:\n",
    "    auto_setup_env()"
   ]
  },
  {
   "cell_type": "code",
   "execution_count": 6,
   "metadata": {},
   "outputs": [],
   "source": [
    "from constants.companies import get_company_by_code\n",
    "\n",
    "company_code = args.company\n",
    "company = get_company_by_code(company_code=company_code)\n",
    "company_id = company.company_id"
   ]
  },
  {
   "cell_type": "code",
   "execution_count": 7,
   "metadata": {},
   "outputs": [],
   "source": [
    "from dishes_forecasting.spark_context import create_spark_context\n",
    "spark = create_spark_context()"
   ]
  },
  {
   "cell_type": "code",
   "execution_count": null,
   "metadata": {},
   "outputs": [],
   "source": [
    "from dishes_forecasting.train.configs.feature_lookup_config import feature_lookup_config_list\n",
    "from dishes_forecasting.train.training_set import create_training_set\n",
    "from databricks.feature_store import FeatureStoreClient\n",
    "\n",
    "from dishes_forecasting.train.configs.train_configs import get_training_configs\n",
    "train_config = get_training_configs(company_code=args.company)\n",
    "\n",
    "if is_running_on_databricks:\n",
    "    fs = FeatureStoreClient()\n",
    "else:\n",
    "    fs = None\n",
    "training_set, df_training_pk_target = create_training_set(\n",
    "    is_use_feature_store=False,\n",
    "    env=args.env,\n",
    "    company_id=company_id,\n",
    "    train_config=train_config,\n",
    "    spark=spark,\n",
    "    feature_lookup_config_list=feature_lookup_config_list,\n",
    "    fs=fs,\n",
    ")"
   ]
  },
  {
   "cell_type": "code",
   "execution_count": null,
   "metadata": {},
   "outputs": [],
   "source": [
    "from dishes_forecasting.train.tune import tune_pipeline\n",
    "best_params, best_mae = tune_pipeline(\n",
    "    company=company,\n",
    "    env=\"dev\",\n",
    "    spark=spark,\n",
    "    training_set=training_set,\n",
    "    train_config=train_config,\n",
    "    n_trials=30\n",
    ")"
   ]
  },
  {
   "cell_type": "code",
   "execution_count": null,
   "metadata": {},
   "outputs": [],
   "source": [
    "from dishes_forecasting.train.tune import tune_pipeline\n",
    "best_params, best_mae = tune_pipeline(\n",
    "    company=company,\n",
    "    env=args.env,\n",
    "    spark=spark,\n",
    "    train_config=train_config,\n",
    "    training_set=training_set,\n",
    "    n_trials=5\n",
    ")"
   ]
  },
  {
   "cell_type": "code",
   "execution_count": null,
   "metadata": {},
   "outputs": [],
   "source": []
  }
 ],
 "metadata": {
  "kernelspec": {
   "display_name": ".venv",
   "language": "python",
   "name": "python3"
  },
  "language_info": {
   "codemirror_mode": {
    "name": "ipython",
    "version": 3
   },
   "file_extension": ".py",
   "mimetype": "text/x-python",
   "name": "python",
   "nbconvert_exporter": "python",
   "pygments_lexer": "ipython3",
   "version": "3.10.0"
  }
 },
 "nbformat": 4,
 "nbformat_minor": 2
}
