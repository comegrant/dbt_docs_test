{
 "cells": [
  {
   "cell_type": "code",
   "execution_count": 1,
   "metadata": {},
   "outputs": [],
   "source": [
    "%load_ext autoreload\n",
    "%autoreload 2"
   ]
  },
  {
   "cell_type": "code",
   "execution_count": null,
   "metadata": {},
   "outputs": [],
   "source": [
    "from app.spark_context import get_serverless_spark_session\n",
    "spark = get_serverless_spark_session()"
   ]
  },
  {
   "cell_type": "code",
   "execution_count": 3,
   "metadata": {},
   "outputs": [],
   "source": [
    "with open('./projects/ab-test-analysis/sqls/example_continuous_response.sql', 'r') as file:\n",
    "    sql_query = file.read()"
   ]
  },
  {
   "cell_type": "code",
   "execution_count": null,
   "metadata": {},
   "outputs": [],
   "source": [
    "print(sql_query)"
   ]
  },
  {
   "cell_type": "code",
   "execution_count": 5,
   "metadata": {},
   "outputs": [],
   "source": [
    "df = spark.sql(sqlQuery=sql_query).toPandas()"
   ]
  },
  {
   "cell_type": "code",
   "execution_count": null,
   "metadata": {},
   "outputs": [],
   "source": [
    "df"
   ]
  },
  {
   "cell_type": "code",
   "execution_count": 7,
   "metadata": {},
   "outputs": [],
   "source": [
    "from ab_test_analysis.analysis import split_test_control_groups\n",
    "group_colname = \"non_random_group\"\n",
    "test_group_name = \"a\"\n",
    "df_test, df_control = split_test_control_groups(\n",
    "    df_ab_test=df,\n",
    "    group_colname=group_colname,\n",
    "    test_group_name=test_group_name\n",
    ")"
   ]
  },
  {
   "cell_type": "code",
   "execution_count": null,
   "metadata": {},
   "outputs": [],
   "source": [
    "df_test"
   ]
  },
  {
   "cell_type": "code",
   "execution_count": 10,
   "metadata": {},
   "outputs": [],
   "source": [
    "response_name = \"amount_spent\"\n",
    "response_test = df_test[response_name].astype(float)\n",
    "response_control = df_control[response_name].astype(float)"
   ]
  },
  {
   "cell_type": "code",
   "execution_count": 11,
   "metadata": {},
   "outputs": [],
   "source": [
    "import numpy as np\n",
    "import pandas as pd\n",
    "def compute_cohen_d(response_test: pd.Series, response_control: pd.Series) -> float:\n",
    "    diff = response_control.mean() - response_test.mean()\n",
    "    pooled_sd = np.sqrt(\n",
    "        (\n",
    "            (len(response_control) - 1) * response_control.var() + (len(response_test) - 1) * response_test.var()\n",
    "        ) / (len(response_control) + len(response_test) - 2)\n",
    "    )\n",
    "    return diff / pooled_sd"
   ]
  },
  {
   "cell_type": "code",
   "execution_count": null,
   "metadata": {},
   "outputs": [],
   "source": [
    "def get_cohen_d_explanation(\n",
    "    d: float\n",
    ") -> str:\n",
    "    abs_d = abs(d)\n",
    "    effect_size = \"\"\n",
    "    if abs_d < 0.01:\n",
    "        effect_size = \"very small\"\n",
    "    elif abs_d < 0.2:\n",
    "        effect_size = \"small\"\n",
    "    elif abs_d < 0.5:\n",
    "        effect_size = \"medium\"\n",
    "    elif abs_d < 0.8:\n",
    "        effect_size = \"large\"\n",
    "    elif abs_d < 1.2:\n",
    "        effect_size = \"very large\"\n",
    "    else:\n",
    "        effect_size = \"huge\"\n",
    "    return effect_size"
   ]
  },
  {
   "cell_type": "code",
   "execution_count": null,
   "metadata": {},
   "outputs": [],
   "source": [
    "def get_cohen_d_result(\n",
    "    response_control: pd.Series,\n",
    "    response_test: pd.Series,\n",
    ") -> str:\n",
    "    cohen_d_value = compute_cohen_d(\n",
    "        response_control=response_control,\n",
    "        response_test=response_test,\n",
    "    )\n",
    "    effect_size = get_cohen_d_explanation(\n",
    "        d=cohen_d_value\n",
    "    )\n",
    "    result_str = f\"Cohen's d = {cohen_d_value:.3f}, implying that the effect size is {effect_size}\"\n",
    "    return result_str"
   ]
  },
  {
   "cell_type": "code",
   "execution_count": 38,
   "metadata": {},
   "outputs": [],
   "source": [
    "from scipy import stats\n",
    "response_test = df_test[\"amount_spent\"].astype(float)\n",
    "response_control = df_control[\"amount_spent\"].astype(float)\n",
    "mwu_test_result = stats.mannwhitneyu(\n",
    "    response_test,\n",
    "    response_control\n",
    ")\n"
   ]
  },
  {
   "cell_type": "code",
   "execution_count": null,
   "metadata": {},
   "outputs": [],
   "source": [
    "from ab_test_analysis.visualisation import plot_histogram\n",
    "fig_histogram = plot_histogram(\n",
    "    df_ab_test=df,\n",
    "    group_colname=\"non_random_group\",\n",
    "    response_colname=\"amount_spent\"\n",
    ")\n",
    "\n",
    "fig_histogram.show()"
   ]
  },
  {
   "cell_type": "markdown",
   "metadata": {},
   "source": []
  },
  {
   "cell_type": "code",
   "execution_count": 60,
   "metadata": {},
   "outputs": [],
   "source": [
    "from ab_test_analysis.analysis import get_ttest_result\n",
    "t_test_result = get_ttest_result(\n",
    "    df_ab_test=df,\n",
    "    group_colname=\"non_random_group\",\n",
    "    response_colname=\"amount_spent\",\n",
    "    test_group_name=\"a\",\n",
    "    alternative_hypothesis=\"two-sided\"\n",
    ")"
   ]
  },
  {
   "cell_type": "code",
   "execution_count": null,
   "metadata": {},
   "outputs": [],
   "source": [
    "t_test_result"
   ]
  }
 ],
 "metadata": {
  "kernelspec": {
   "display_name": ".venv",
   "language": "python",
   "name": "python3"
  },
  "language_info": {
   "codemirror_mode": {
    "name": "ipython",
    "version": 3
   },
   "file_extension": ".py",
   "mimetype": "text/x-python",
   "name": "python",
   "nbconvert_exporter": "python",
   "pygments_lexer": "ipython3",
   "version": "3.11.0"
  }
 },
 "nbformat": 4,
 "nbformat_minor": 2
}
