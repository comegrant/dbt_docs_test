{
 "cells": [
  {
   "cell_type": "markdown",
   "metadata": {},
   "source": [
    "# Menu Optimizer Flow Demo\n",
    "\n",
    "This notebook demonstrates the flow of the menu optimization process using the core logic from `menu_solver.py`. It covers:\n",
    "- Loading a menu request\n",
    "- Creating the recipe dataset\n",
    "- Extracting taxonomy constraints\n",
    "- Solving the menu optimization problem\n",
    "- Building and displaying the response"
   ]
  },
  {
   "cell_type": "markdown",
   "metadata": {},
   "source": [
    "## Imports and Setup\n",
    "\n",
    "Import all necessary modules and set up the environment."
   ]
  },
  {
   "cell_type": "code",
   "execution_count": null,
   "metadata": {},
   "outputs": [],
   "source": [
    "import pulp\n",
    "import json\n",
    "import pandas as pd\n",
    "from dotenv import load_dotenv, find_dotenv\n",
    "\n",
    "from menu_optimiser.common import RequestMenu, Args\n",
    "from menu_optimiser.data import create_dataset\n",
    "from menu_optimiser.db import get_recipe_ingredients_data\n",
    "from menu_optimiser.menu_solver import (\n",
    "    extract_taxonomy_constraints,\n",
    "    solve_menu_and_storage,\n",
    "    get_selected_recipes,\n",
    "    build_response\n",
    ")\n",
    "from menu_optimiser.analysis import adjust_available_recipes\n",
    "from menu_optimiser.config import CompanyOptimizationConfig"
   ]
  },
  {
   "cell_type": "code",
   "execution_count": null,
   "metadata": {},
   "outputs": [],
   "source": [
    "# Load environment variables\n",
    "load_dotenv(find_dotenv())"
   ]
  },
  {
   "cell_type": "markdown",
   "metadata": {},
   "source": [
    "## Load Example Menu Request\n",
    "\n",
    "Load a sample menu request from a JSON file."
   ]
  },
  {
   "cell_type": "code",
   "execution_count": null,
   "metadata": {},
   "outputs": [],
   "source": [
    "# Path to your test file (adjust as needed)\n",
    "test_file_path = \"../menu_optimiser/test_files/linked/amk_45_link.json\"\n",
    "\n",
    "with open(test_file_path, \"r\") as f:\n",
    "    raw_data = json.load(f)\n",
    "payload = RequestMenu.model_validate(raw_data)"
   ]
  },
  {
   "cell_type": "markdown",
   "metadata": {},
   "source": [
    "## Create Recipe Dataset\n",
    "\n",
    "Generate the recipe dataset for the company in the request."
   ]
  },
  {
   "cell_type": "code",
   "execution_count": null,
   "metadata": {},
   "outputs": [],
   "source": [
    "company = payload.companies[0]\n",
    "args = Args(company_id=company.company_id, env=\"prod\")\n",
    "df = await create_dataset(args)\n",
    "df.head()"
   ]
  },
  {
   "cell_type": "code",
   "execution_count": null,
   "metadata": {},
   "outputs": [],
   "source": [
    "ingredients_df = await get_recipe_ingredients_data()"
   ]
  },
  {
   "cell_type": "markdown",
   "metadata": {},
   "source": [
    "## Extract Taxonomy Constraints\n",
    "\n",
    "Extract the taxonomy constraints from the menu request."
   ]
  },
  {
   "cell_type": "code",
   "execution_count": null,
   "metadata": {},
   "outputs": [],
   "source": [
    "taxonomy_constraints, total_required_recipes, error_msg = extract_taxonomy_constraints(payload)"
   ]
  },
  {
   "cell_type": "code",
   "execution_count": null,
   "metadata": {},
   "outputs": [],
   "source": [
    "print(\"Total Required Recipes:\", total_required_recipes, \"\\n\")\n",
    "\n",
    "for tax_id, rule in taxonomy_constraints.items():\n",
    "    print(f\"Taxonomy ID: {tax_id}\")\n",
    "    print(f\"Total Required Recipes: {rule.total}\")\n",
    "    print(f\"Main Ingredients: {rule.main_ingredients}\")\n",
    "    print(f\"Price Categories: {rule.price_category}\")\n",
    "    print(f\"Cooking Times: {rule.cooking_time_to}\")\n",
    "    print(\"\\n\")"
   ]
  },
  {
   "cell_type": "markdown",
   "metadata": {},
   "source": [
    "## Prepare Available and Required Recipes\n",
    "\n",
    "Separate available and required recipes for the optimization."
   ]
  },
  {
   "cell_type": "code",
   "execution_count": null,
   "metadata": {},
   "outputs": [],
   "source": [
    "available_recipes = list(dict.fromkeys(map(int, company.available_recipes)))\n",
    "required_recipes = list(dict.fromkeys(map(int, company.required_recipes)))\n",
    "\n",
    "required_recipes_df = pd.DataFrame(df[df[\"recipe_id\"].isin(required_recipes)])\n",
    "all_available_recipes_df = pd.DataFrame(df[df[\"recipe_id\"].isin(available_recipes)])\n",
    "available_recipes_df = pd.DataFrame(\n",
    "    all_available_recipes_df[~all_available_recipes_df[\"recipe_id\"].isin(required_recipes)]\n",
    ")\n",
    "\n",
    "print(\"Required recipes:\", required_recipes_df.shape[0])\n",
    "print(\"Available recipes for optimization:\", available_recipes_df.shape[0])"
   ]
  },
  {
   "cell_type": "markdown",
   "metadata": {},
   "source": [
    "### If needed, adjust the available recipes"
   ]
  },
  {
   "cell_type": "code",
   "execution_count": null,
   "metadata": {},
   "outputs": [],
   "source": [
    "adjusted_available_recipes, extra_recipes_msg = adjust_available_recipes(\n",
    "        available_recipe_df=available_recipes_df,\n",
    "        required_recipe_df=required_recipes_df,\n",
    "        recipe_universe_df=df,\n",
    "        taxonomy_constraints=taxonomy_constraints,\n",
    "    )"
   ]
  },
  {
   "cell_type": "code",
   "execution_count": null,
   "metadata": {},
   "outputs": [],
   "source": [
    "print(\"Available recipes for optimization:\", adjusted_available_recipes.shape[0])\n",
    "print(extra_recipes_msg)"
   ]
  },
  {
   "cell_type": "markdown",
   "metadata": {},
   "source": [
    "## Solve the Menu Optimization Problem\n",
    "\n",
    "Run the optimization to select the best menu according to the constraints."
   ]
  },
  {
   "cell_type": "code",
   "execution_count": null,
   "metadata": {},
   "outputs": [],
   "source": [
    "company_config = CompanyOptimizationConfig.get_company_config(args.company_id)"
   ]
  },
  {
   "cell_type": "code",
   "execution_count": null,
   "metadata": {},
   "outputs": [],
   "source": [
    "problem, error_messages = await solve_menu_and_storage(\n",
    "        adjusted_available_recipes,  # available_recipes_df\n",
    "        required_recipes_df,\n",
    "        ingredients_df,\n",
    "        taxonomy_constraints,\n",
    "        total_required_recipes,\n",
    "        company_config,\n",
    "        linked_recipes=company.linked_recipes,\n",
    "    )"
   ]
  },
  {
   "cell_type": "code",
   "execution_count": null,
   "metadata": {},
   "outputs": [],
   "source": [
    "print(\"Solver status:\", pulp.LpStatus[problem.status])\n",
    "if error_messages:\n",
    "    print(\"Solver messages:\", error_messages)"
   ]
  },
  {
   "cell_type": "markdown",
   "metadata": {},
   "source": [
    "#### Get Selected Recipes"
   ]
  },
  {
   "cell_type": "code",
   "execution_count": null,
   "metadata": {},
   "outputs": [],
   "source": [
    "selected_recipes = get_selected_recipes(problem)\n",
    "print(\"Selected recipe IDs:\", selected_recipes)"
   ]
  },
  {
   "cell_type": "markdown",
   "metadata": {},
   "source": [
    "### Build the Menu df"
   ]
  },
  {
   "cell_type": "code",
   "execution_count": null,
   "metadata": {},
   "outputs": [],
   "source": [
    "final_menu_df = pd.DataFrame(\n",
    "    df[df[\"recipe_id\"].isin(selected_recipes)]\n",
    ")\n",
    "final_menu_df.head()"
   ]
  },
  {
   "cell_type": "markdown",
   "metadata": {},
   "source": [
    "### Build the response"
   ]
  },
  {
   "cell_type": "code",
   "execution_count": null,
   "metadata": {},
   "outputs": [],
   "source": [
    "response = build_response(problem, final_menu_df, payload, error_messages)\n",
    "print(response)"
   ]
  },
  {
   "cell_type": "markdown",
   "metadata": {},
   "source": [
    "## Inspecting the problem"
   ]
  },
  {
   "cell_type": "code",
   "execution_count": null,
   "metadata": {},
   "outputs": [],
   "source": [
    "problem.variables()"
   ]
  },
  {
   "cell_type": "code",
   "execution_count": null,
   "metadata": {},
   "outputs": [],
   "source": [
    "problem.constraints"
   ]
  },
  {
   "cell_type": "code",
   "execution_count": null,
   "metadata": {},
   "outputs": [],
   "source": [
    "problem.objective"
   ]
  },
  {
   "cell_type": "code",
   "execution_count": null,
   "metadata": {},
   "outputs": [],
   "source": []
  }
 ],
 "metadata": {
  "kernelspec": {
   "display_name": ".venv",
   "language": "python",
   "name": "python3"
  },
  "language_info": {
   "codemirror_mode": {
    "name": "ipython",
    "version": 3
   },
   "file_extension": ".py",
   "mimetype": "text/x-python",
   "name": "python",
   "nbconvert_exporter": "python",
   "pygments_lexer": "ipython3",
   "version": "3.11.9"
  }
 },
 "nbformat": 4,
 "nbformat_minor": 2
}
