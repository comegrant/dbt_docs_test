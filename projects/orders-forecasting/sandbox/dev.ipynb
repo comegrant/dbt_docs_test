{
 "cells": [
  {
   "cell_type": "code",
   "execution_count": null,
   "metadata": {},
   "outputs": [],
   "source": [
    "%load_ext autoreload\n",
    "%autoreload 2"
   ]
  },
  {
   "cell_type": "code",
   "execution_count": null,
   "metadata": {},
   "outputs": [],
   "source": [
    "import logging\n",
    "\n",
    "from lmkgroup_ds_utils.db.connector import DB"
   ]
  },
  {
   "cell_type": "markdown",
   "metadata": {},
   "source": [
    "# prep work"
   ]
  },
  {
   "cell_type": "code",
   "execution_count": null,
   "metadata": {},
   "outputs": [],
   "source": [
    "class args:\n",
    "    company = 'GL'\n",
    "    db_pw = ''\n",
    "    local = True\n",
    "    write_to_db = False\n",
    "    save_output_locally = True\n",
    "\n",
    "company = args.company\n",
    "local = args.local\n",
    "save_output_locally = args.save_output_locally\n",
    "db_pw = args.db_pw\n"
   ]
  },
  {
   "cell_type": "code",
   "execution_count": null,
   "metadata": {},
   "outputs": [],
   "source": [
    "from paths import CONFIG_DIR\n",
    "from utils import read_yaml\n",
    "db_configs = read_yaml(\n",
    "    file_name=\"db\",\n",
    "    directory=CONFIG_DIR\n",
    ")\n",
    "\n",
    "read_db_name = db_configs[\"read\"][\"db_name\"]\n",
    "read_db_env = db_configs[\"read\"][\"env\"]\n",
    "read_db_settings_path = db_configs[\"read\"][\"db_settings_path\"]\n",
    "\n",
    "company_configs = read_yaml(\n",
    "    file_name=\"company_configs\",\n",
    "    directory=CONFIG_DIR\n",
    ")\n",
    "company_config = company_configs[company]"
   ]
  },
  {
   "cell_type": "code",
   "execution_count": null,
   "metadata": {},
   "outputs": [],
   "source": [
    "logging.info(\"Connecting to db...\")\n",
    "read_db = DB(\n",
    "    local=local,\n",
    "    db_name=read_db_name,\n",
    "    db_settings_path=read_db_settings_path,\n",
    "    password=db_pw,\n",
    "    env=read_db_env\n",
    ")"
   ]
  },
  {
   "cell_type": "markdown",
   "metadata": {},
   "source": [
    "# Data"
   ]
  },
  {
   "cell_type": "code",
   "execution_count": null,
   "metadata": {},
   "outputs": [],
   "source": [
    "from orders_forecasting.pipeline import get_data_from_db\n",
    "df_order_history, df_estimations_total, df_estimations_dishes = get_data_from_db(\n",
    "    read_db=read_db, company_config=company_config\n",
    ")"
   ]
  },
  {
   "cell_type": "code",
   "execution_count": null,
   "metadata": {},
   "outputs": [],
   "source": [
    "import pandas as pd\n",
    "from orders_forecasting.pipeline import process_and_create_dataset\n",
    "from orders_forecasting.pipeline import run_model\n",
    "prediction_date = pd.to_datetime(\"2023-11-01\")\n",
    "# prediction_date = None\n",
    "\n",
    "target_cols = [\"num_total_orders\", \"num_dishes_orders\", \"perc_dishes_orders\"]\n",
    "\n",
    "if company == \"RT\":\n",
    "    is_augment_estimation = True\n",
    "else:\n",
    "    is_augment_estimation = False\n",
    "df_preds = []\n",
    "for target_col in target_cols:\n",
    "    df_train, df_test, df_holdout = process_and_create_dataset(\n",
    "        df_order_history=df_order_history,\n",
    "        df_estimations_total=df_estimations_total,\n",
    "        df_estimations_dishes=df_estimations_dishes,\n",
    "        is_augment_estimation=is_augment_estimation,\n",
    "        company_config=company_config,\n",
    "        prediction_date=prediction_date,\n",
    "        target_col=target_col,\n",
    "    )\n",
    "    train_params = read_yaml(file_name=\"train\", directory=CONFIG_DIR)\n",
    "    df_test, _, df_holdout_pred, _ = run_model(\n",
    "        company=company,\n",
    "        df_train=df_train,\n",
    "        df_holdout=df_holdout,\n",
    "        df_test=df_test,\n",
    "        target=target_col,\n",
    "        prediction_date=prediction_date,\n",
    "        **train_params,\n",
    "    )\n",
    "    df_preds.append(df_test)"
   ]
  },
  {
   "cell_type": "code",
   "execution_count": null,
   "metadata": {},
   "outputs": [],
   "source": [
    "from orders_forecasting.pipeline import process_final_predictions\n",
    "df_final = process_final_predictions(\n",
    "    df_pred_total_orders=df_preds[0],\n",
    "    df_pred_dishes_orders=df_preds[1],\n",
    "    df_pred_dishes_perc=df_preds[2],\n",
    "    prediction_date=prediction_date,\n",
    "    is_return_additional_col=True\n",
    ")"
   ]
  },
  {
   "cell_type": "code",
   "execution_count": null,
   "metadata": {},
   "outputs": [],
   "source": [
    "df_final"
   ]
  },
  {
   "cell_type": "markdown",
   "metadata": {},
   "source": [
    "# Visualization"
   ]
  },
  {
   "cell_type": "code",
   "execution_count": null,
   "metadata": {},
   "outputs": [],
   "source": [
    "df_train.info()"
   ]
  },
  {
   "cell_type": "code",
   "execution_count": null,
   "metadata": {},
   "outputs": [],
   "source": [
    "from orders_forecasting.visualisation import plot_train_test_pred\n",
    "from paths import PROJECT_DIR\n",
    "fig = plot_train_test_pred(\n",
    "    df_train=df_train, df_val=df_holdout, df_test=df_test, target=target\n",
    ")\n",
    "test_start_wk = (df_test[\"year\"] * 100 + df_test[\"week\"]).min()\n",
    "n_week = (df_test[\"year\"] * 100 + df_test[\"week\"]).nunique()\n",
    "html_file_name = f\"train_test_pred_{test_start_wk}_{n_week}_wks.html\"\n",
    "html_file_dir = PROJECT_DIR\n",
    "fig.write_html(f\"{PROJECT_DIR}/{html_file_name}\")"
   ]
  },
  {
   "cell_type": "code",
   "execution_count": null,
   "metadata": {},
   "outputs": [],
   "source": [
    "from lmkgroup_ds_utils.azure.storage import BlobConnector\n",
    "datalake_handler = BlobConnector(\n",
    "    local=local,\n",
    ")"
   ]
  },
  {
   "cell_type": "code",
   "execution_count": null,
   "metadata": {},
   "outputs": [],
   "source": [
    "datalake_configs = read_yaml(\n",
    "    file_name=\"datalake\",\n",
    "    directory=CONFIG_DIR\n",
    ")"
   ]
  },
  {
   "cell_type": "code",
   "execution_count": null,
   "metadata": {},
   "outputs": [],
   "source": [
    "datalake_configs"
   ]
  },
  {
   "cell_type": "code",
   "execution_count": null,
   "metadata": {},
   "outputs": [],
   "source": [
    "from orders_forecasting.pipeline import save_and_upload_results_to_datalake\n",
    "save_and_upload_results_to_datalake(\n",
    "    datalake_handler=datalake_handler,\n",
    "    datalake_configs=datalake_configs,\n",
    "    company=company,\n",
    "    df_prediction=df_test,\n",
    "    visualisation=fig,\n",
    "    local_file_dir=PROJECT_DIR\n",
    ")"
   ]
  },
  {
   "cell_type": "code",
   "execution_count": null,
   "metadata": {},
   "outputs": [],
   "source": []
  }
 ],
 "metadata": {
  "kernelspec": {
   "display_name": "Python 3 (ipykernel)",
   "language": "python",
   "name": "python3"
  }
 },
 "nbformat": 4,
 "nbformat_minor": 2
}
