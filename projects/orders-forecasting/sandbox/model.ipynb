{
 "cells": [
  {
   "cell_type": "code",
   "execution_count": null,
   "metadata": {},
   "outputs": [],
   "source": [
    "%load_ext autoreload\n",
    "%autoreload 2"
   ]
  },
  {
   "cell_type": "code",
   "execution_count": null,
   "metadata": {},
   "outputs": [],
   "source": [
    "import logging\n",
    "\n",
    "from lmkgroup_ds_utils.db.connector import DB"
   ]
  },
  {
   "cell_type": "code",
   "execution_count": null,
   "metadata": {},
   "outputs": [],
   "source": [
    "class args:\n",
    "    company = 'RT'\n",
    "    db_pw = ''\n",
    "    local = True\n",
    "    write_to_db = False\n",
    "    save_output_locally = True\n",
    "\n",
    "company = args.company\n",
    "local = args.local\n",
    "save_output_locally = args.save_output_locally\n",
    "db_pw = args.db_pw"
   ]
  },
  {
   "cell_type": "code",
   "execution_count": null,
   "metadata": {},
   "outputs": [],
   "source": [
    "from paths import CONFIG_DIR, SQL_DIR\n",
    "from utils import read_yaml\n",
    "db_configs = read_yaml(\n",
    "    file_name=\"db\",\n",
    "    directory=CONFIG_DIR\n",
    ")\n",
    "\n",
    "read_db_name = db_configs[\"read\"][\"db_name\"]\n",
    "read_db_env = db_configs[\"read\"][\"env\"]\n",
    "read_db_settings_path = db_configs[\"read\"][\"db_settings_path\"]\n",
    "\n",
    "company_configs = read_yaml(\n",
    "    file_name=\"company_configs\",\n",
    "    directory=CONFIG_DIR\n",
    ")\n",
    "company_config = company_configs[company]"
   ]
  },
  {
   "cell_type": "code",
   "execution_count": null,
   "metadata": {},
   "outputs": [],
   "source": [
    "logging.info(\"Connecting to db...\")\n",
    "read_db = DB(\n",
    "    local=local,\n",
    "    db_name=read_db_name,\n",
    "    db_settings_path=read_db_settings_path,\n",
    "    password=db_pw,\n",
    "    env=read_db_env\n",
    ")"
   ]
  },
  {
   "cell_type": "code",
   "execution_count": null,
   "metadata": {},
   "outputs": [],
   "source": [
    "from orders_forecasting.pipeline import get_data_from_db\n",
    "df_order_history, df_estimations_total, df_estimations_dishes = get_data_from_db(\n",
    "    read_db=read_db,\n",
    "    company_config=company_config\n",
    ")"
   ]
  },
  {
   "cell_type": "code",
   "execution_count": null,
   "metadata": {},
   "outputs": [],
   "source": [
    "target = \"num_dishes_orders\""
   ]
  },
  {
   "cell_type": "code",
   "execution_count": null,
   "metadata": {},
   "outputs": [],
   "source": [
    "import plotly.express as px\n",
    "from paths import PROJECT_DIR\n",
    "\n",
    "fig = px.line(\n",
    "    df_order_history,\n",
    "    x=\"week\",\n",
    "    y=target,\n",
    "    color='year'\n",
    ")\n",
    "fig.write_html(f\"{PROJECT_DIR}/year_order_{target}_{company}.html\")"
   ]
  },
  {
   "cell_type": "markdown",
   "metadata": {},
   "source": [
    "# Baseline model"
   ]
  },
  {
   "cell_type": "code",
   "execution_count": null,
   "metadata": {},
   "outputs": [],
   "source": [
    "from orders_forecasting.helpers import get_year_week_from_date\n",
    "df_manual_forecast = fetch_data_from_sql(\n",
    "    read_db=read_db,\n",
    "    sql_name=\"manual_forecast\",\n",
    "    directory=SQL_DIR,\n",
    "    company_id=company_config[\"company_id\"]\n",
    ")\n",
    "\n",
    "df_manual_forecast = df_manual_forecast.sort_values(by=\"run_timestamp\")\n",
    "df_manual_forecast[\"run_date\"] = df_manual_forecast[\"run_timestamp\"].dt.date\n",
    "df_manual_forecast[\"forecast_yyyyww\"] = df_manual_forecast[\"run_date\"].apply(lambda x: get_year_week_from_date(x))\n",
    "df_manual_forecast.head()"
   ]
  },
  {
   "cell_type": "code",
   "execution_count": null,
   "metadata": {},
   "outputs": [],
   "source": [
    "from orders_forecasting.helpers import get_iso_week_numbers\n",
    "import pandas as pd\n",
    "df_iso_calendar = get_iso_week_numbers(\n",
    "    start_date=pd.to_datetime(\"2021-01-01\"),\n",
    "    end_date=pd.to_datetime(\"2023-11-01\")\n",
    ")\n",
    "from orders_forecasting.helpers import create_date_from_year_week\n",
    "df_forecast_date = create_date_from_year_week(\n",
    "    df=df_iso_calendar,\n",
    "    date_column_name=\"forecast_date\",\n",
    "    day_of_week=3\n",
    ")\n",
    "\n",
    "forecast_days = df_forecast_date[\"forecast_date\"]"
   ]
  },
  {
   "cell_type": "code",
   "execution_count": null,
   "metadata": {},
   "outputs": [],
   "source": [
    "from orders_forecasting.data import get_forecast_start, create_future_df\n",
    "import pandas as pd\n",
    "from datetime import datetime\n",
    "from orders_forecasting.metrics import get_metrics\n",
    "forecast_date = datetime(year=2023, month=1, day=10)\n",
    "start_year, start_week = get_forecast_start(\n",
    "    start_date=pd.to_datetime(forecast_date),\n",
    "    cut_off_day=company_config[\"cut_off_day\"]\n",
    ")\n",
    "df = df_order_history\n",
    "df_val = df[df[\"year\"] * 100 + df[\"week\"] >= (start_year * 100 + start_week)]\n",
    "df_train = df[df[\"first_date_of_week\"]<= forecast_date]\n",
    "df_future = create_future_df(\n",
    "    start_week=start_week,\n",
    "    start_year=start_year,\n",
    "    horizon=11\n",
    ")"
   ]
  },
  {
   "cell_type": "code",
   "execution_count": null,
   "metadata": {},
   "outputs": [],
   "source": [
    "forecast_year = forecast_date.isocalendar()[0]\n",
    "forecast_week = forecast_date.isocalendar()[1]"
   ]
  },
  {
   "cell_type": "code",
   "execution_count": null,
   "metadata": {},
   "outputs": [],
   "source": [
    "from orders_forecasting.baseline import get_rolling_avg_projection\n",
    "df_pred, colname, ratio = get_rolling_avg_projection(\n",
    "    df_past=df_train,\n",
    "    df_future=df_future,\n",
    "    target_col=\"num_total_orders\",\n",
    "    num_rolling_weeks=4\n",
    ")"
   ]
  },
  {
   "cell_type": "code",
   "execution_count": null,
   "metadata": {},
   "outputs": [],
   "source": [
    "from orders_forecasting.baseline import get_week_projection\n",
    "df_pred, proj_colname1 = get_week_projection(\n",
    "    df_past=df_train,\n",
    "    df_future=df_pred,\n",
    "    target_col=\"num_total_orders\",\n",
    "    num_past_year=1,\n",
    "    method=\"diff\",\n",
    ")\n",
    "\n",
    "df_pred, proj_colname2 = get_week_projection(\n",
    "    df_past=df_train,\n",
    "    df_future=df_pred,\n",
    "    target_col=\"num_total_orders\",\n",
    "    num_past_year=1,\n",
    "    method=\"ratio\",\n",
    ")\n",
    "\n",
    "df_pred, proj_colname3 = get_week_projection(\n",
    "    df_past=df_train,\n",
    "    df_future=df_pred,\n",
    "    target_col=\"num_total_orders\",\n",
    "    num_past_year=2,\n",
    "    method=\"diff\",\n",
    ")\n",
    "\n",
    "df_pred, proj_colname4 = get_week_projection(\n",
    "    df_past=df_train,\n",
    "    df_future=df_pred,\n",
    "    target_col=\"num_total_orders\",\n",
    "    num_past_year=2,\n",
    "    method=\"ratio\",\n",
    ")\n",
    "\n",
    "df_pred\n"
   ]
  },
  {
   "cell_type": "code",
   "execution_count": null,
   "metadata": {},
   "outputs": [],
   "source": [
    "df_manual_to_plot = df_manual_forecast[df_manual_forecast[\"forecast_yyyyww\"] == forecast_year*100 + forecast_week].drop_duplicates(\n",
    "    subset = [\"year\", \"week\"],\n",
    "    keep=\"first\"\n",
    ")\n",
    "df_pred[\"yyyyww\"] = df_pred[\"year\"] * 100 + df_pred[\"week\"]\n",
    "df_manual_to_plot[\"yyyyww\"] = df_manual_to_plot[\"year\"] * 100 + df_manual_to_plot[\"week\"]\n",
    "df_manual_to_plot = df_manual_to_plot.sort_values(by=\"yyyyww\")\n",
    "df_actual = df[(df[\"year\"] == start_year)]\n",
    "df_actual[\"yyyyww\"] =df[\"year\"] * 100 + df[\"week\"]\n",
    "df_train_to_plot = df_train.tail(5)\n",
    "df_train_to_plot[\"yyyyww\"] = df_train_to_plot[\"year\"]*100 + df_train_to_plot[\"week\"]\n",
    "df_train_to_plot.head()"
   ]
  },
  {
   "cell_type": "code",
   "execution_count": null,
   "metadata": {},
   "outputs": [],
   "source": [
    "df_prev_year = df[df[\"year\"] == start_year-1]"
   ]
  },
  {
   "cell_type": "code",
   "execution_count": null,
   "metadata": {},
   "outputs": [],
   "source": [
    "import plotly.graph_objects as go\n",
    "\n",
    "# Create random data with numpy\n",
    "import numpy as np\n",
    "\n",
    "# Create traces\n",
    "fig = go.Figure()\n",
    "fig.add_trace(go.Scatter(x=df_actual[\"week\"], y=df_actual[\"num_total_orders\"],\n",
    "                    mode='lines',\n",
    "                    name='actual'))\n",
    "fig.add_trace(go.Scatter(x=df_prev_year[\"week\"], y=df_prev_year[\"num_total_orders\"],\n",
    "                    mode='lines',\n",
    "                    name='previous year'))\n",
    "for colname in [\n",
    "    'projection_ra_ratio_4_weeks',\n",
    "    'projection_week_diff_1_year',\n",
    "    'projection_week_ratio_1_year',\n",
    "    'projection_week_diff_2_year',\n",
    "]:\n",
    "    fig.add_trace(\n",
    "        go.Scatter(\n",
    "            x=df_pred[\"week\"],\n",
    "            y=df_pred[colname],\n",
    "            mode='lines',\n",
    "            name=colname\n",
    "        )\n",
    "    )\n",
    "fig.add_trace(\n",
    "    go.Scatter(\n",
    "        x=df_manual_to_plot[\"week\"],\n",
    "        y=df_manual_to_plot[\"total_orders\"],\n",
    "        mode='lines',\n",
    "        name=\"manual forecast\"\n",
    "    )\n",
    ")\n",
    "\n",
    "fig.add_trace(\n",
    "    go.Scatter(\n",
    "        x=df_train_to_plot[\"week\"],\n",
    "        y=df_train_to_plot[\"num_total_orders\"],\n",
    "        mode='lines',\n",
    "        name=\"train data\"\n",
    "    )\n",
    ")\n",
    "\n",
    "fig.show()"
   ]
  },
  {
   "cell_type": "code",
   "execution_count": null,
   "metadata": {},
   "outputs": [],
   "source": [
    "from orders_forecasting.metrics import get_metrics\n",
    "metrics_proj = get_metrics(\n",
    "    df_pred=df_pred,\n",
    "    df_actual=df,\n",
    "    pred_col=\"projection_ra_ratio_4_weeks\",\n",
    "    actual_col=\"num_total_orders\",\n",
    ")\n"
   ]
  },
  {
   "cell_type": "code",
   "execution_count": null,
   "metadata": {},
   "outputs": [],
   "source": [
    "from orders_forecasting.metrics import get_metrics\n",
    "metrics_manual = get_metrics(\n",
    "    df_pred=df_manual_to_plot,\n",
    "    df_actual=df,\n",
    "    pred_col=\"total_orders\",\n",
    "    actual_col=\"num_total_orders\",\n",
    ")\n"
   ]
  },
  {
   "cell_type": "code",
   "execution_count": null,
   "metadata": {},
   "outputs": [],
   "source": [
    "from orders_forecasting.helpers import get_iso_week_numbers\n",
    "import pandas as pd\n",
    "from orders_forecasting.metrics import get_metrics\n",
    "df_iso_calendar = get_iso_week_numbers(\n",
    "    start_date=pd.to_datetime(\"2023-01-01\"),\n",
    "    end_date=pd.to_datetime(\"2023-11-01\")\n",
    ")\n",
    "\n",
    "from orders_forecasting.helpers import create_date_from_year_week\n",
    "df_forecast_date = create_date_from_year_week(\n",
    "    df=df_iso_calendar,\n",
    "    date_column_name=\"forecast_date\",\n",
    "    day_of_week=3\n",
    ")\n",
    "\n",
    "metrics_list = []\n",
    "for forecast_date in forecast_days:\n",
    "    start_year, start_week = get_forecast_start(\n",
    "        start_date=pd.to_datetime(forecast_date),\n",
    "        cut_off_day=company_config[\"cut_off_day\"]\n",
    "    )\n",
    "    df = df_order_history\n",
    "    df_val = df[df[\"year\"] * 100 + df[\"week\"] >= (start_year * 100 + start_week)]\n",
    "    df_train = df[df[\"first_date_of_week\"]<= forecast_date]\n",
    "    df_future = create_future_df(\n",
    "        start_week=start_week,\n",
    "        start_year=start_year,\n",
    "        horizon=11\n",
    "    )\n",
    "\n",
    "    df_pred, colname, ratio = get_rolling_avg_projection(\n",
    "        df_past=df_train,\n",
    "        df_future=df_future,\n",
    "        target_col=\"num_total_orders\",\n",
    "        num_rolling_weeks=4\n",
    "    )\n",
    "    metrics = get_metrics(\n",
    "        df_pred=df_pred,\n",
    "        df_actual=df,\n",
    "        pred_col=\"projection_ra_ratio_4_weeks\",\n",
    "        actual_col=\"num_total_orders\",\n",
    "    )\n",
    "    metrics_list.append(metrics[\"df_metrics\"])\n"
   ]
  },
  {
   "cell_type": "code",
   "execution_count": null,
   "metadata": {},
   "outputs": [],
   "source": [
    "fig = go.Figure()\n",
    "for forecast_date, metrics in zip(forecast_days, metrics_list):\n",
    "    fig.add_trace(\n",
    "        go.Scatter(\n",
    "            x=metrics[\"week\"],\n",
    "            y=metrics[\"abs_error_pct\"],\n",
    "            mode='lines',\n",
    "            name=str(forecast_date)\n",
    "        )\n",
    "    )"
   ]
  },
  {
   "cell_type": "code",
   "execution_count": null,
   "metadata": {},
   "outputs": [],
   "source": [
    "from datetime import datetime\n",
    "forecast_date = datetime(\n",
    "    year=2023,\n",
    "    month=11,\n",
    "    day=1\n",
    ")\n",
    "\n",
    "from orders_forecasting.helpers import get_year_week_from_date\n",
    "yyyyww_forecast = get_year_week_from_date(a_date=forecast_date)\n",
    "# the actual known days\n",
    "df_past = df_order_history[(df_order_history[\"year\"] * 100 + df_order_history[\"week\"])<=yyyyww_forecast]\n",
    "df_past[\"type\"] = \"train\"\n",
    "last_known_yyyyww = (df_past[\"year\"] * 100 + df_past[\"week\"]).max()"
   ]
  },
  {
   "cell_type": "code",
   "execution_count": null,
   "metadata": {},
   "outputs": [],
   "source": [
    "from orders_forecasting.data import get_all_missing_future_weeks\n",
    "from orders_forecasting.helpers import create_date_from_year_week\n",
    "\n",
    "df_future = get_all_missing_future_weeks(\n",
    "    forecast_date=forecast_date,\n",
    "    last_known_yyyyww=last_known_yyyyww,\n",
    "    forecast_horizon=11,\n",
    "    cut_off_day=company_config[\"cut_off_day\"]\n",
    ")\n",
    "\n",
    "df_future[\"company_id\"] = company_config[\"company_id\"]\n",
    "df_future = create_date_from_year_week(df_future, date_column_name=\"first_date_of_week\")\n",
    "for col in df_past.columns:\n",
    "    if col not in df_future:\n",
    "        df_future[col] = None\n",
    "df_future = df_future[df_past.columns]\n",
    "df_future[\"month\"] = df_future[\"first_date_of_week\"].dt.month"
   ]
  },
  {
   "cell_type": "code",
   "execution_count": null,
   "metadata": {},
   "outputs": [],
   "source": [
    "from orders_forecasting.data import add_lag_features\n",
    "from orders_forecasting.data import add_moving_avg_features\n",
    "from orders_forecasting.data import get_holiday_df\n",
    "\n",
    "df_past[\"month\"] = df_past.first_date_of_week.dt.month\n",
    "df = add_lag_features(\n",
    "    df=df_past,\n",
    "    lag_list=[2, 4, 8, 12, 52],\n",
    "    origin_col=\"num_total_orders\"\n",
    ")\n",
    "df = add_moving_avg_features(\n",
    "    df=df,\n",
    "    window_list=[2, 4, 8, 12, 52],\n",
    "    origin_col=\"num_total_orders\"\n",
    ")\n",
    "df[\"detrended\"] = df[\"num_total_orders\"] - df[\"moving_avg_52\"]\n",
    "df[\"seasonality\"] = df.groupby(\"week\")[\"detrended\"].transform(\"mean\")"
   ]
  },
  {
   "cell_type": "code",
   "execution_count": null,
   "metadata": {},
   "outputs": [],
   "source": [
    "df_holiday_calendar = get_holiday_df(\n",
    "    country=\"Norway\",\n",
    "    year_min=df[\"year\"].min(),\n",
    "    year_max=df[\"year\"].max()\n",
    ")\n",
    "\n",
    "df_holiday_calendar = df_holiday_calendar.drop(columns=\"num_holidays\")"
   ]
  },
  {
   "cell_type": "code",
   "execution_count": null,
   "metadata": {},
   "outputs": [],
   "source": [
    "df = df.merge(\n",
    "    df_holiday_calendar,\n",
    "    on=[\"year\", \"week\"],\n",
    "    how=\"left\"\n",
    ")\n",
    "\n",
    "df.loc[:, df_holiday_calendar.columns] = df[df_holiday_calendar.columns].fillna(0)"
   ]
  },
  {
   "cell_type": "code",
   "execution_count": null,
   "metadata": {},
   "outputs": [],
   "source": [
    "df[\"type\"] = \"train\""
   ]
  },
  {
   "cell_type": "code",
   "execution_count": null,
   "metadata": {},
   "outputs": [],
   "source": [
    "lag_features = [\n",
    "    \"lag_2\",\n",
    "    \"lag_4\",\n",
    "    \"lag_12\",\n",
    "    \"lag_52\",\n",
    "    \"moving_avg_2\",\n",
    "    \"moving_avg_4\",\n",
    "    \"moving_avg_12\",\n",
    "    \"moving_avg_52\",\n",
    "    \"seasonality\",\n",
    "]\n",
    "holiday_features = list(df_holiday_calendar.columns)\n",
    "calendar_features = [\"month\"]\n",
    "train_features = holiday_features + lag_features + calendar_features\n",
    "target = \"num_total_orders\""
   ]
  },
  {
   "cell_type": "code",
   "execution_count": null,
   "metadata": {},
   "outputs": [],
   "source": [
    "automl.best_loss"
   ]
  },
  {
   "cell_type": "code",
   "execution_count": null,
   "metadata": {},
   "outputs": [],
   "source": [
    "import pandas as pd\n",
    "df_feature_importance = pd.DataFrame(\n",
    "    {\n",
    "        \"features\": train_features,\n",
    "        \"feature_importance\": automl.feature_importances_,\n",
    "    }\n",
    ")\n",
    "\n",
    "df_feature_importance = df_feature_importance.sort_values(\n",
    "    by=\"feature_importance\",\n",
    "    ascending=False\n",
    ")\n",
    "df_feature_importance.plot.bar(x=\"features\", y=\"feature_importance\")"
   ]
  },
  {
   "cell_type": "code",
   "execution_count": null,
   "metadata": {},
   "outputs": [],
   "source": [
    "df_future.columns"
   ]
  },
  {
   "cell_type": "code",
   "execution_count": null,
   "metadata": {},
   "outputs": [],
   "source": [
    "from orders_forecasting.data import add_lag_features\n",
    "from orders_forecasting.data import add_moving_avg_features\n",
    "df_seasonality = df[[\"week\", \"seasonality\"]].drop_duplicates()\n",
    "df_new = df[df_future.columns]\n",
    "for i in list(df_future.index):\n",
    "    df_tmp = pd.DataFrame(df_future.loc[i, :]).transpose()\n",
    "    df_new = pd.concat([df_new, df_tmp], ignore_index=True)\n",
    "\n",
    "    df_new = add_lag_features(\n",
    "        df=df_new,\n",
    "        lag_list=[2, 4, 8, 12, 52],\n",
    "        origin_col=\"num_total_orders\"\n",
    "    )\n",
    "\n",
    "    df_new = add_moving_avg_features(\n",
    "        df=df_new,\n",
    "        window_list=[2, 4, 8, 12, 52],\n",
    "        origin_col=\"num_total_orders\"\n",
    "    )\n",
    "\n",
    "    df_new = df_new.merge(\n",
    "        df_seasonality,\n",
    "        on=\"week\",\n",
    "        how=\"left\"\n",
    "    )\n",
    "\n",
    "    df_new = df_new.merge(\n",
    "        df_holiday_calendar,\n",
    "        on=[\"year\", \"week\"],\n",
    "        how=\"left\"\n",
    "    )\n",
    "\n",
    "    df_new[df_holiday_calendar.columns[2:]] = df_new[df_holiday_calendar.columns[2:]].fillna(0)\n",
    "\n",
    "\n",
    "    X_test = df_new.tail(1)[train_features]\n",
    "    y_pred = automl.predict(X_test)\n",
    "\n",
    "    df_new.loc[df_new.index[-1], target] = y_pred[0]\n",
    "    df_new = df_new[df_future.columns]\n"
   ]
  },
  {
   "cell_type": "code",
   "execution_count": null,
   "metadata": {},
   "outputs": [],
   "source": [
    "df_test = df_new[df_new[\"type\"]!=\"train\"][[\"year\", \"week\", \"type\",\"num_total_orders\"]].rename(\n",
    "    columns={\"num_total_orders\": \"pred\"}\n",
    ")\n",
    "\n",
    "df_test = df_test.merge(\n",
    "    df_order_history[[\"year\", \"week\", target]],\n",
    "    on=[\"year\", \"week\"],\n",
    "    how=\"inner\"\n",
    ")\n",
    "df_test[\"abs_error_pct\"] = abs(df_test[\"pred\"] - df_test[target])/df_test[target]"
   ]
  },
  {
   "cell_type": "code",
   "execution_count": null,
   "metadata": {},
   "outputs": [],
   "source": [
    "df_test"
   ]
  },
  {
   "cell_type": "code",
   "execution_count": null,
   "metadata": {},
   "outputs": [],
   "source": [
    "df_test[\"abs_error_pct\"].mean()"
   ]
  },
  {
   "cell_type": "code",
   "execution_count": null,
   "metadata": {},
   "outputs": [],
   "source": [
    "import plotly.graph_objects as go\n",
    "\n",
    "# Create random data with numpy\n",
    "# Create traces\n",
    "fig = go.Figure()\n",
    "\n",
    "fig.add_trace(\n",
    "    go.Scatter(\n",
    "        x=df_train.tail(20)[\"week\"],\n",
    "        y=df_train.tail(20)[\"num_total_orders\"],\n",
    "        mode='lines',\n",
    "        name='train'\n",
    "    )\n",
    ")\n",
    "fig.show()"
   ]
  },
  {
   "cell_type": "code",
   "execution_count": null,
   "metadata": {},
   "outputs": [],
   "source": [
    "import plotly.graph_objects as go\n",
    "\n",
    "# Create random data with numpy\n",
    "# Create traces\n",
    "fig = go.Figure()\n",
    "\n",
    "# fig.add_trace(\n",
    "#     go.Scatter(\n",
    "#         x=df_train.tail(20)[\"week\"],\n",
    "#         y=df_train.tail(20)[\"num_total_orders\"],\n",
    "#         mode='lines',\n",
    "#         name='train'\n",
    "#     )\n",
    "# )\n",
    "\n",
    "fig.add_trace(\n",
    "    go.Scatter(\n",
    "        x=df_test[\"week\"],\n",
    "        y=df_test[\"pred\"],\n",
    "        mode='lines',\n",
    "        name='pred'\n",
    "    )\n",
    ")\n",
    "\n",
    "fig.add_trace(\n",
    "    go.Scatter(\n",
    "        x=df_test[\"week\"],\n",
    "        y=df_test[\"num_total_orders\"],\n",
    "        mode='lines',\n",
    "        name='actual'\n",
    "    )\n",
    ")"
   ]
  },
  {
   "cell_type": "code",
   "execution_count": null,
   "metadata": {},
   "outputs": [],
   "source": [
    "fig.write_html(\"./pred.html\")"
   ]
  },
  {
   "cell_type": "markdown",
   "metadata": {},
   "source": [
    "# Estimation model"
   ]
  },
  {
   "cell_type": "code",
   "execution_count": null,
   "metadata": {},
   "outputs": [],
   "source": [
    "import pandas as pd\n",
    "# prediction_date = pd.to_datetime(\"2023-10-01\")\n",
    "prediction_date = None"
   ]
  },
  {
   "cell_type": "code",
   "execution_count": null,
   "metadata": {},
   "outputs": [],
   "source": [
    "from orders_forecasting.pipeline import process_and_create_dataset\n",
    "if company == \"RT\":\n",
    "    is_augment_estimation = True\n",
    "else:\n",
    "    is_augment_estimation = False\n",
    "\n",
    "df_train, df_test, df_holdout = process_and_create_dataset(\n",
    "    df_order_history=df_order_history,\n",
    "    df_estimations_total=df_estimations_total,\n",
    "    df_estimations_dishes=df_estimations_dishes,\n",
    "    is_augment_estimation=is_augment_estimation,\n",
    "    company_config=company_config,\n",
    "    prediction_date=prediction_date,\n",
    "    target_col=target,\n",
    "    outlier_yyyywws=company_config[\"outlier_weeks\"]\n",
    ")"
   ]
  },
  {
   "cell_type": "code",
   "execution_count": null,
   "metadata": {},
   "outputs": [],
   "source": [
    "df_holdout"
   ]
  },
  {
   "cell_type": "code",
   "execution_count": null,
   "metadata": {},
   "outputs": [],
   "source": [
    "df_test"
   ]
  },
  {
   "attachments": {},
   "cell_type": "markdown",
   "metadata": {},
   "source": [
    "## Flaml model - probably not going to be used "
   ]
  },
  {
   "cell_type": "code",
   "execution_count": null,
   "metadata": {},
   "outputs": [],
   "source": [
    "df_test = df[df[\"estimation_date\"] == prediction_date]\n",
    "df = df.sort_values(by=[\"estimation_date\", \"year\", \"week\"])\n",
    "df_train = df[df[\"estimation_date\"] < prediction_date]\n",
    "df_train = df_train[df_train[\"cut_off_date\"]< prediction_date]\n",
    "\n",
    "X_train = df_train[train_features]\n",
    "y_train = df_train[target]"
   ]
  },
  {
   "cell_type": "code",
   "execution_count": null,
   "metadata": {},
   "outputs": [],
   "source": [
    "from flaml import AutoML\n",
    "\n",
    "# Initialize an AutoML instance\n",
    "automl = AutoML()\n",
    "# Specify automl goal and constraint\n",
    "automl_settings = {\n",
    "    \"time_budget\": 120,  # in seconds\n",
    "    \"metric\": 'mape',\n",
    "    \"task\": 'regression',\n",
    "    \"eval_method\": \"holdout\",\n",
    "    \"split_ratio\": 0.3,\n",
    "    \"estimator_list\": ['lgbm', 'xgboost', 'xgb_limitdepth']\n",
    "}\n",
    "# Train with labeled input data\n",
    "automl.fit(X_train=X_train, y_train=y_train,\n",
    "           **automl_settings)\n",
    "# Predict\n",
    "print(automl.predict(X_train))\n",
    "# Print the best model\n",
    "print(automl.model.estimator)"
   ]
  },
  {
   "cell_type": "code",
   "execution_count": null,
   "metadata": {},
   "outputs": [],
   "source": [
    "X_test = df_test[train_features]\n",
    "y_test = df_test[target]\n",
    "y_flaml = automl.predict(X_test)"
   ]
  },
  {
   "cell_type": "code",
   "execution_count": null,
   "metadata": {},
   "outputs": [],
   "source": [
    "df_test[\"pred\"] = y_flaml\n",
    "df_test[\"error\"] = df_test[\"pred\"] - df_test[target]\n",
    "df_test[\"error_pct\"] = df_test[\"error\"]/df_test[target]\n",
    "df_test.sort_values(by=[\"year\", \"week\"])"
   ]
  },
  {
   "cell_type": "code",
   "execution_count": null,
   "metadata": {},
   "outputs": [],
   "source": [
    "abs(df_test[\"error_pct\"]).describe()"
   ]
  },
  {
   "cell_type": "code",
   "execution_count": null,
   "metadata": {},
   "outputs": [],
   "source": [
    "df_feature_importance = pd.DataFrame(\n",
    "    {\n",
    "        \"features\": train_features,\n",
    "        \"feature_importance\": automl.feature_importances_\n",
    "    }\n",
    ")\n",
    "df_feature_importance = df_feature_importance.sort_values(\n",
    "    by=\"feature_importance\", ascending=False\n",
    ").plot.bar(\n",
    "    x=\"features\",\n",
    "    y=\"feature_importance\"\n",
    ")"
   ]
  },
  {
   "cell_type": "code",
   "execution_count": null,
   "metadata": {},
   "outputs": [],
   "source": [
    "train_features"
   ]
  },
  {
   "cell_type": "markdown",
   "metadata": {},
   "source": [
    "## Pycaret"
   ]
  },
  {
   "cell_type": "code",
   "execution_count": null,
   "metadata": {},
   "outputs": [],
   "source": [
    "df_train.columns"
   ]
  },
  {
   "cell_type": "code",
   "execution_count": null,
   "metadata": {},
   "outputs": [],
   "source": [
    "train_params = read_yaml(\n",
    "    file_name=\"train\",\n",
    "    directory=CONFIG_DIR\n",
    ")"
   ]
  },
  {
   "cell_type": "code",
   "execution_count": null,
   "metadata": {},
   "outputs": [],
   "source": [
    "from orders_forecasting.model import _convert_col_to_numeric\n",
    "from pycaret.regression import setup\n",
    "train_features = train_params[\"train_features\"][company]\n",
    "cols_to_include = train_features + [target]\n",
    "df_train = _convert_col_to_numeric(\n",
    "    df=df_train,\n",
    "    relevant_columns=cols_to_include\n",
    ")\n",
    "df_holdout = _convert_col_to_numeric(\n",
    "    df=df_holdout,\n",
    "    relevant_columns=cols_to_include\n",
    ")\n",
    "df_train_relevant_cols_only = df_train[cols_to_include]\n",
    "df_holdout_relevant_cols_only = df_holdout[cols_to_include]\n",
    "experiment_reg = setup(\n",
    "    data=df_train_relevant_cols_only,\n",
    "    target=target,\n",
    "    test_data=df_holdout_relevant_cols_only,\n",
    ")\n",
    "\n",
    "best_models = experiment_reg.compare_models(\n",
    "    n_select=train_params[\"n_select\"], include=train_params[\"model_list\"]\n",
    ")"
   ]
  },
  {
   "cell_type": "code",
   "execution_count": null,
   "metadata": {},
   "outputs": [],
   "source": [
    "df_train_info = experiment_reg.pull()\n",
    "df_train_info"
   ]
  },
  {
   "cell_type": "markdown",
   "metadata": {},
   "source": [
    "### Feature importance"
   ]
  },
  {
   "cell_type": "code",
   "execution_count": null,
   "metadata": {},
   "outputs": [],
   "source": [
    "df_feature_importance = pd.DataFrame(\n",
    "    {\n",
    "        \"features\": train_features,\n",
    "        \"feature_importance\": best_models[0].feature_importances_\n",
    "    }\n",
    ")\n",
    "df_feature_importance = df_feature_importance.sort_values(\n",
    "    by=\"feature_importance\", ascending=False\n",
    ").plot.bar(\n",
    "    x=\"features\",\n",
    "    y=\"feature_importance\"\n",
    ")"
   ]
  },
  {
   "cell_type": "code",
   "execution_count": null,
   "metadata": {},
   "outputs": [],
   "source": [
    "df_feature_importance = pd.DataFrame(\n",
    "    {\n",
    "        \"features\": train_features,\n",
    "        \"feature_importance\": best_models[1].feature_importances_\n",
    "    }\n",
    ")\n",
    "df_feature_importance = df_feature_importance.sort_values(\n",
    "    by=\"feature_importance\", ascending=False\n",
    ").plot.bar(\n",
    "    x=\"features\",\n",
    "    y=\"feature_importance\"\n",
    ")"
   ]
  },
  {
   "cell_type": "markdown",
   "metadata": {},
   "source": [
    "## Hold out metrics"
   ]
  },
  {
   "cell_type": "code",
   "execution_count": null,
   "metadata": {},
   "outputs": [],
   "source": [
    "from orders_forecasting.metrics import get_metrics\n",
    "top_models_blend = experiment_reg.blend_models(estimator_list=best_models)\n",
    "\n",
    "df_holdout_pred = experiment_reg.predict_model(top_models_blend)\n",
    "hold_out_metrics = get_metrics(\n",
    "    df_pred=df_holdout_pred[[\"year\", \"week\", \"prediction_label\"]],\n",
    "    df_actual=df_holdout,\n",
    "    pred_col=\"prediction_label\",\n",
    "    actual_col=target,\n",
    ")"
   ]
  },
  {
   "cell_type": "code",
   "execution_count": null,
   "metadata": {},
   "outputs": [],
   "source": [
    "baseline_metrics = get_metrics(\n",
    "    df_pred=df_holdout_pred[[\"year\", \"week\", \"retention_projection_total\"]],\n",
    "    df_actual=df_holdout[[\"year\", \"week\", target]],\n",
    "    pred_col=\"retention_projection_total\",\n",
    "    actual_col=target,\n",
    ")"
   ]
  },
  {
   "cell_type": "code",
   "execution_count": null,
   "metadata": {},
   "outputs": [],
   "source": [
    "baseline_metrics"
   ]
  },
  {
   "cell_type": "code",
   "execution_count": null,
   "metadata": {},
   "outputs": [],
   "source": [
    "hold_out_metrics"
   ]
  },
  {
   "cell_type": "code",
   "execution_count": null,
   "metadata": {},
   "outputs": [],
   "source": [
    "from orders_forecasting.model import make_predictions, _convert_col_to_numeric\n",
    "# df_test = _convert_col_to_numeric(df_test, relevant_columns=train_features)\n",
    "df_test[\"pred\"] = make_predictions(\n",
    "    trained_model=top_models_blend,\n",
    "    df_test=df_test[train_features],\n",
    "    feature_list=train_params[\"train_features\"][company]\n",
    ")\n",
    "\n",
    "df_test = df_test.sort_values(by=[\"year\", \"week\"])"
   ]
  },
  {
   "cell_type": "code",
   "execution_count": null,
   "metadata": {},
   "outputs": [],
   "source": [
    "from orders_forecasting.visualisation import plot_train_test_pred\n",
    "from paths import PROJECT_DIR\n",
    "fig = plot_train_test_pred(\n",
    "    df_train=df_train,\n",
    "    df_val=df_holdout[[\"year\", \"week\", target]].drop_duplicates(),\n",
    "    df_test=df_test,\n",
    "    target=target\n",
    ")\n",
    "\n",
    "test_start_wk = (df_test[\"year\"] * 100 + df_test[\"week\"]).min()\n",
    "n_week = (df_test[\"year\"] * 100 + df_test[\"week\"]).nunique()\n",
    "html_file_name = f\"train_test_pred_{test_start_wk}_{n_week}_wks.html\"\n",
    "html_file_dir = PROJECT_DIR\n",
    "fig.write_html(f\"{PROJECT_DIR}/{html_file_name}\")"
   ]
  },
  {
   "cell_type": "code",
   "execution_count": null,
   "metadata": {},
   "outputs": [],
   "source": [
    "from orders_forecasting.metrics import get_metrics\n",
    "\n",
    "# won't be available in prod, but available when training\n",
    "test_metrics = get_metrics(\n",
    "    df_actual=df_test[[\"year\", \"week\", target]],\n",
    "    df_pred=df_test[[\"year\", \"week\", \"pred\"]],\n",
    "    pred_col=\"pred\",\n",
    "    actual_col=target\n",
    ")"
   ]
  },
  {
   "cell_type": "code",
   "execution_count": null,
   "metadata": {},
   "outputs": [],
   "source": [
    "# baseline metrics\n",
    "baseline_metrics = get_metrics(\n",
    "    df_actual=df_test[[\"year\", \"week\", target]],\n",
    "    df_pred=df_test[[\"year\", \"week\", \"retention_projection_total\"]],\n",
    "    pred_col=\"retention_projection_total\",\n",
    "    actual_col=target\n",
    "\n",
    ")"
   ]
  },
  {
   "cell_type": "code",
   "execution_count": null,
   "metadata": {},
   "outputs": [],
   "source": [
    "test_metrics[\"df_metrics\"]"
   ]
  }
 ],
 "metadata": {
  "kernelspec": {
   "display_name": "Python 3 (ipykernel)",
   "language": "python",
   "name": "python3"
  }
 },
 "nbformat": 4,
 "nbformat_minor": 2
}
