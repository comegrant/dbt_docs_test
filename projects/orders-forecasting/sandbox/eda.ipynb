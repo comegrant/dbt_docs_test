{
 "cells": [
  {
   "cell_type": "code",
   "execution_count": null,
   "metadata": {},
   "outputs": [],
   "source": [
    "%load_ext autoreload\n",
    "%autoreload 2"
   ]
  },
  {
   "cell_type": "code",
   "execution_count": null,
   "metadata": {},
   "outputs": [],
   "source": [
    "import logging\n",
    "\n",
    "from lmkgroup_ds_utils.db.connector import DB\n"
   ]
  },
  {
   "cell_type": "code",
   "execution_count": null,
   "metadata": {},
   "outputs": [],
   "source": [
    "\n",
    "class args:\n",
    "    company = 'GL'\n",
    "    db_pw = ''\n",
    "    local = True\n",
    "    write_to_db = False\n",
    "    save_output_locally = True\n",
    "\n",
    "company = args.company\n",
    "local = args.local\n",
    "save_output_locally = args.save_output_locally\n",
    "db_pw = args.db_pw\n"
   ]
  },
  {
   "cell_type": "code",
   "execution_count": null,
   "metadata": {},
   "outputs": [],
   "source": [
    "from paths import CONFIG_DIR, SQL_DIR\n",
    "from utils import fetch_data_from_sql, read_yaml\n",
    "db_configs = read_yaml(\n",
    "    file_name=\"db\",\n",
    "    directory=CONFIG_DIR\n",
    ")\n",
    "\n",
    "read_db_name = db_configs[\"read\"][\"db_name\"]\n",
    "read_db_env = db_configs[\"read\"][\"env\"]\n",
    "read_db_settings_path = db_configs[\"read\"][\"db_settings_path\"]"
   ]
  },
  {
   "cell_type": "code",
   "execution_count": null,
   "metadata": {},
   "outputs": [],
   "source": [
    "logging.info(\"Connecting to db...\")\n",
    "read_db = DB(\n",
    "    local=local,\n",
    "    db_name=read_db_name,\n",
    "    db_settings_path=read_db_settings_path,\n",
    "    password=db_pw,\n",
    "    env=read_db_env\n",
    ")\n"
   ]
  },
  {
   "cell_type": "code",
   "execution_count": null,
   "metadata": {},
   "outputs": [],
   "source": [
    "df_order_history = fetch_data_from_sql(\n",
    "    read_db=read_db,\n",
    "    sql_name=\"orders\",\n",
    "    directory=SQL_DIR,\n",
    "    min_year=2017\n",
    ")"
   ]
  },
  {
   "cell_type": "code",
   "execution_count": null,
   "metadata": {},
   "outputs": [],
   "source": [
    "df_order_history = df_order_history.sort_values(\n",
    "    by=[\"year\", \"week\"]\n",
    ")\n",
    "\n",
    "df_order_history[\"num_dishes_orders\"] = df_order_history[\"num_dishes_orders\"].fillna(0)\n",
    "df_order_history = df_order_history[df_order_history['num_total_orders']>=50]"
   ]
  },
  {
   "cell_type": "code",
   "execution_count": null,
   "metadata": {},
   "outputs": [],
   "source": [
    "import plotly.express as px\n",
    "\n",
    "fig = px.line(df_order_history, x=\"week\", y=\"num_total_orders\", color='year')\n",
    "fig.show()"
   ]
  },
  {
   "cell_type": "code",
   "execution_count": null,
   "metadata": {},
   "outputs": [],
   "source": [
    "import plotly.express as px\n",
    "\n",
    "fig = px.line(df_order_history, x=\"week\", y=\"num_mealbox_orders\", color='year')\n",
    "fig.show()"
   ]
  },
  {
   "cell_type": "code",
   "execution_count": null,
   "metadata": {},
   "outputs": [],
   "source": [
    "import plotly.express as px\n",
    "\n",
    "fig = px.line(df_order_history, x=\"week\", y=\"num_dishes_orders\", color='year')\n",
    "fig.show()"
   ]
  },
  {
   "cell_type": "code",
   "execution_count": null,
   "metadata": {},
   "outputs": [],
   "source": [
    "from orders_forecasting.helpers import create_date_from_year_week\n",
    "df_order_history = create_date_from_year_week(\n",
    "    df=df_order_history,\n",
    "    day_of_week=1,\n",
    "    date_column_name=\"first_date_of_week\"\n",
    ")"
   ]
  },
  {
   "cell_type": "code",
   "execution_count": null,
   "metadata": {},
   "outputs": [],
   "source": [
    "import plotly.express as px\n",
    "\n",
    "fig = px.line(df_order_history, x=\"first_date_of_week\", y=\"num_dishes_orders\", color='year')\n",
    "fig.show()"
   ]
  },
  {
   "cell_type": "code",
   "execution_count": null,
   "metadata": {},
   "outputs": [],
   "source": [
    "import plotly.express as px\n",
    "\n",
    "fig = px.line(df_order_history, x=\"first_date_of_week\", y=\"num_mealbox_orders\", color='year')\n",
    "fig.show()"
   ]
  },
  {
   "cell_type": "code",
   "execution_count": null,
   "metadata": {},
   "outputs": [],
   "source": [
    "import plotly.express as px\n",
    "\n",
    "fig = px.line(df_order_history, x=\"first_date_of_week\", y=\"num_total_orders\", color='year')\n",
    "fig.show()"
   ]
  },
  {
   "cell_type": "code",
   "execution_count": null,
   "metadata": {},
   "outputs": [],
   "source": [
    "df = df_order_history[[\"year\", \"week\", \"num_total_orders\", \"first_date_of_week\"]]\n",
    "df_train = df[df[\"first_date_of_week\"]<='2023-09-01']\n",
    "df_test = df[df[\"first_date_of_week\"]>='2023-09-01']\n",
    "X_train = df_train.drop(columns=[\"num_total_orders\", \"first_date_of_week\"]).values\n",
    "y_train = df_train[\"num_total_orders\"]\n",
    "\n",
    "X_test = df_test.drop(columns=[\"num_total_orders\", \"first_date_of_week\"]).values\n",
    "y_test = df_test[\"num_total_orders\"]"
   ]
  },
  {
   "cell_type": "code",
   "execution_count": null,
   "metadata": {},
   "outputs": [],
   "source": []
  },
  {
   "cell_type": "code",
   "execution_count": null,
   "metadata": {},
   "outputs": [],
   "source": [
    "automl.best_loss"
   ]
  },
  {
   "cell_type": "code",
   "execution_count": null,
   "metadata": {},
   "outputs": [],
   "source": [
    "y_pred = automl.predict(X_test)\n"
   ]
  },
  {
   "cell_type": "code",
   "execution_count": null,
   "metadata": {},
   "outputs": [],
   "source": [
    "y_pred = automl.predict(X_test)\n",
    "\n",
    "df_test['pred'] = y_pred\n",
    "df_test[\"mape\"] = abs(y_test - y_pred)/y_test"
   ]
  },
  {
   "cell_type": "code",
   "execution_count": null,
   "metadata": {},
   "outputs": [],
   "source": [
    "df_test"
   ]
  },
  {
   "cell_type": "code",
   "execution_count": null,
   "metadata": {},
   "outputs": [],
   "source": [
    "import plotly.graph_objects as go\n",
    "fig = go.Figure()\n",
    "fig.add_trace(go.Scatter(x=df_train[\"first_date_of_week\"], y=df_train[\"num_total_orders\"],\n",
    "                    mode='lines',\n",
    "                    name='lines'))\n",
    "fig.add_trace(go.Scatter(x=df_test[\"first_date_of_week\"], y=df_test[\"num_total_orders\"],\n",
    "                    mode='lines+markers',\n",
    "                    name='actual'))\n",
    "\n",
    "fig.add_trace(go.Scatter(x=df_test[\"first_date_of_week\"], y=df_test[\"pred\"],\n",
    "                    mode='lines+markers',\n",
    "                    name='pred'))\n",
    "fig.show()"
   ]
  },
  {
   "cell_type": "code",
   "execution_count": null,
   "metadata": {},
   "outputs": [],
   "source": []
  }
 ],
 "metadata": {
  "kernelspec": {
   "display_name": "Python 3 (ipykernel)",
   "language": "python",
   "name": "python3"
  }
 },
 "nbformat": 4,
 "nbformat_minor": 2
}
