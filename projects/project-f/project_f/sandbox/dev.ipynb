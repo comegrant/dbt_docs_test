{
 "cells": [
  {
   "cell_type": "code",
   "execution_count": 2,
   "metadata": {},
   "outputs": [],
   "source": [
    "%load_ext autoreload\n",
    "%autoreload 2"
   ]
  },
  {
   "cell_type": "code",
   "execution_count": null,
   "metadata": {},
   "outputs": [],
   "source": [
    "from project_f.ui.section_non_established import read_data\n",
    "\n",
    "(\n",
    "    df_new_customers,\n",
    "    df_reactivated_customers,\n",
    "    df_source_effect,\n",
    "    df_weeks_until_start,\n",
    "    df_marketing_input,\n",
    "    df_calendar,\n",
    ") = read_data(\"Adams Matkasse\")\n"
   ]
  },
  {
   "cell_type": "code",
   "execution_count": 4,
   "metadata": {},
   "outputs": [],
   "source": [
    "from project_f.analysis.non_established import calculate_general_cohort\n",
    "df_cohorts = calculate_general_cohort(\n",
    "    df_new_customers=df_new_customers,\n",
    "    df_reactivated_customers=df_reactivated_customers,\n",
    "    df_calendar=df_calendar\n",
    ")"
   ]
  },
  {
   "cell_type": "code",
   "execution_count": 5,
   "metadata": {},
   "outputs": [],
   "source": [
    "from project_f.analysis.non_established import *\n",
    "df_cohort_latest = keep_latest_cohorts(df_cohorts=df_cohorts, num_months=12)"
   ]
  },
  {
   "cell_type": "code",
   "execution_count": 6,
   "metadata": {},
   "outputs": [],
   "source": [
    "df_started_delivery = get_start_delivery(\n",
    "    df_marketing_input=df_marketing_input,\n",
    "    df_weeks_until_start=df_weeks_until_start,\n",
    "    df_calendar=df_calendar,\n",
    ")"
   ]
  },
  {
   "cell_type": "code",
   "execution_count": 7,
   "metadata": {},
   "outputs": [],
   "source": [
    "from project_f.analysis.non_established import calculate_orders\n",
    "df_started_delivery_merged, df_non_established_final = calculate_orders(\n",
    "    df_cohort_latest=df_cohort_latest,\n",
    "    df_started_delivery=df_started_delivery,\n",
    "    df_source_effect=df_source_effect,\n",
    ")"
   ]
  },
  {
   "cell_type": "code",
   "execution_count": null,
   "metadata": {},
   "outputs": [],
   "source": [
    "from project_f.ui.section_newly_established import section_newly_established\n",
    "(\n",
    "    df_orders_newly_established_agg,\n",
    "    data_to_save_newly_established,\n",
    ") = section_newly_established(\n",
    "    df_source_effect=df_source_effect,\n",
    "    df_cohort_latest=df_cohort_latest,\n",
    "    df_started_delivery=df_started_delivery,\n",
    "    df_started_delivery_merged=df_started_delivery_merged,\n",
    "    brand=\"Adams Matkasse\",\n",
    "    budget_end=202652,\n",
    ")"
   ]
  },
  {
   "cell_type": "code",
   "execution_count": 36,
   "metadata": {},
   "outputs": [],
   "source": [
    "from project_f.ui.section_established import read_established_data\n",
    "(\n",
    "    df_established_retention_rate,\n",
    "    df_established_customers,\n",
    ") = read_established_data(brand=\"Adams Matkasse\")"
   ]
  },
  {
   "cell_type": "code",
   "execution_count": null,
   "metadata": {},
   "outputs": [],
   "source": [
    "from project_f.analysis.established import calculate_orders_established\n",
    "\n",
    "df_established_final, df_established_by_year_per_loyalty = calculate_orders_established(\n",
    "    df_established_customers=df_established_customers,\n",
    "    df_established_retention_rate=df_established_retention_rate,\n",
    "    end_year=2026,\n",
    "    end_week=52,\n",
    ")\n",
    "df_established_final"
   ]
  },
  {
   "cell_type": "code",
   "execution_count": null,
   "metadata": {},
   "outputs": [],
   "source": [
    "from project_f.ui.section_summary import section_summary\n",
    "\n",
    "df_summary = section_summary(\n",
    "    df_non_established=df_non_established_final,\n",
    "    df_newly_established=df_orders_newly_established_agg,\n",
    "    df_established=df_established_final,\n",
    "    brand=\"Adams Matkasse\",\n",
    "    budget_start=202401,\n",
    "    budget_end=202652,\n",
    ")"
   ]
  },
  {
   "cell_type": "code",
   "execution_count": null,
   "metadata": {},
   "outputs": [],
   "source": [
    "df_summary"
   ]
  },
  {
   "cell_type": "code",
   "execution_count": null,
   "metadata": {},
   "outputs": [],
   "source": []
  }
 ],
 "metadata": {
  "kernelspec": {
   "display_name": ".venv",
   "language": "python",
   "name": "python3"
  },
  "language_info": {
   "codemirror_mode": {
    "name": "ipython",
    "version": 3
   },
   "file_extension": ".py",
   "mimetype": "text/x-python",
   "name": "python",
   "nbconvert_exporter": "python",
   "pygments_lexer": "ipython3",
   "version": "3.11.0"
  }
 },
 "nbformat": 4,
 "nbformat_minor": 2
}
