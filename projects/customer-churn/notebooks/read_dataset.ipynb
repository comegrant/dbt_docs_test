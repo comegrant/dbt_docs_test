{
 "cells": [
  {
   "cell_type": "code",
   "execution_count": 0,
   "metadata": {
    "application/vnd.databricks.v1+cell": {
     "cellMetadata": {},
     "inputWidgets": {},
     "nuid": "58036836-d9ab-4864-ac68-b43945463e34",
     "showTitle": false,
     "title": ""
    }
   },
   "outputs": [],
   "source": [
    "import sys\n",
    "import os\n",
    "sys.path.insert(0, '../')"
   ]
  },
  {
   "cell_type": "code",
   "execution_count": 0,
   "metadata": {
    "application/vnd.databricks.v1+cell": {
     "cellMetadata": {},
     "inputWidgets": {},
     "nuid": "3553347b-9bbf-4036-972e-1caace633012",
     "showTitle": false,
     "title": ""
    }
   },
   "outputs": [],
   "source": [
    "import time\n"
   ]
  },
  {
   "cell_type": "code",
   "execution_count": 0,
   "metadata": {
    "application/vnd.databricks.v1+cell": {
     "cellMetadata": {},
     "inputWidgets": {},
     "nuid": "500566f5-b0f5-48cf-b823-a6d140e8152e",
     "showTitle": false,
     "title": ""
    }
   },
   "outputs": [],
   "source": [
    "import logging\n",
    "import pandas as pd\n",
    "import numpy as np\n",
    "from pathlib import Path\n",
    "from functools import reduce\n",
    "\n",
    "\n",
    "from lmkgroup_ds_utils.db.connector import DB\n",
    "from lmkgroup_ds_utils.constants import Company\n",
    "from customer_churn.paths import SQL_DIR\n",
    "\n",
    "logging.basicConfig(level=logging.INFO)\n",
    "logger = logging.getLogger(__name__)"
   ]
  },
  {
   "cell_type": "code",
   "execution_count": 0,
   "metadata": {
    "application/vnd.databricks.v1+cell": {
     "cellMetadata": {},
     "inputWidgets": {},
     "nuid": "78b8a22f-85d2-47a5-982e-b9f186f04fbf",
     "showTitle": false,
     "title": ""
    }
   },
   "outputs": [],
   "source": [
    "company_id = Company.GL\n",
    "db = DB(\n",
    "    local=True,\n",
    "    db_name=\"analytics_db\"\n",
    ")\n",
    "\n",
    "postgres_db = DB(\n",
    "    local=True,\n",
    "    db_name=\"postgres_db\",\n",
    ")\n",
    "model_training = True\n",
    "start_date_var = \"2024-02-29\"\n",
    "end_date_var =  \"2024-03-07\"\n",
    "snapshot_dates = pd.date_range(start_date_var, end_date_var)"
   ]
  },
  {
   "cell_type": "code",
   "execution_count": 0,
   "metadata": {
    "application/vnd.databricks.v1+cell": {
     "cellMetadata": {},
     "inputWidgets": {},
     "nuid": "48480138-57f8-4704-8762-0d060ddf9f0b",
     "showTitle": false,
     "title": ""
    }
   },
   "outputs": [],
   "source": [
    "from customer_churn.dataset.bisnode import Bisnode\n",
    "from customer_churn.dataset.complaints import Complaints\n",
    "from customer_churn.dataset.crm_segments import CRMSegments\n",
    "from customer_churn.dataset.customers import Customers\n",
    "from customer_churn.dataset.events import Events\n",
    "from customer_churn.dataset.orders import Orders"
   ]
  },
  {
   "cell_type": "code",
   "execution_count": 0,
   "metadata": {
    "application/vnd.databricks.v1+cell": {
     "cellMetadata": {},
     "inputWidgets": {},
     "nuid": "020b104b-0b0e-4888-a5bb-2513a059c6ca",
     "showTitle": false,
     "title": ""
    }
   },
   "outputs": [],
   "source": [
    "### Bisnode data\n",
    "bisnode = Bisnode(company_id, db, model_training)\n",
    "bisnode.load()\n",
    "bisnode.df"
   ]
  },
  {
   "cell_type": "code",
   "execution_count": 0,
   "metadata": {
    "application/vnd.databricks.v1+cell": {
     "cellMetadata": {},
     "inputWidgets": {},
     "nuid": "68e05fe0-034c-4855-a5fe-fb3a982dbb32",
     "showTitle": false,
     "title": ""
    }
   },
   "outputs": [],
   "source": [
    "### Complaints data\n",
    "complaints = Complaints(company_id, db, model_training)\n",
    "complaints.load()\n",
    "complaints.df"
   ]
  },
  {
   "cell_type": "code",
   "execution_count": 0,
   "metadata": {
    "application/vnd.databricks.v1+cell": {
     "cellMetadata": {},
     "inputWidgets": {},
     "nuid": "a4bb263a-0df0-46bf-9166-1fa5f5845eb2",
     "showTitle": false,
     "title": ""
    }
   },
   "outputs": [],
   "source": [
    "### CRMSegment\n",
    "crm_segment = CRMSegments(company_id, db, model_training)\n",
    "crm_segment.load()\n",
    "crm_segment.df"
   ]
  },
  {
   "cell_type": "code",
   "execution_count": 0,
   "metadata": {
    "application/vnd.databricks.v1+cell": {
     "cellMetadata": {},
     "inputWidgets": {},
     "nuid": "8616de13-0b77-41ce-a0db-362654bcea90",
     "showTitle": false,
     "title": ""
    }
   },
   "outputs": [],
   "source": [
    "customers = Customers(company_id, db, model_training)\n",
    "customers.load()\n",
    "customers.df"
   ]
  },
  {
   "cell_type": "code",
   "execution_count": 0,
   "metadata": {
    "application/vnd.databricks.v1+cell": {
     "cellMetadata": {},
     "inputWidgets": {},
     "nuid": "99dff937-d6e7-4c29-947d-6e309bfdfe9d",
     "showTitle": false,
     "title": ""
    }
   },
   "outputs": [],
   "source": [
    "db.conf_db"
   ]
  },
  {
   "cell_type": "code",
   "execution_count": 0,
   "metadata": {
    "application/vnd.databricks.v1+cell": {
     "cellMetadata": {},
     "inputWidgets": {},
     "nuid": "e32422ad-0ce8-47f6-833c-d8f6db297d69",
     "showTitle": false,
     "title": ""
    }
   },
   "outputs": [],
   "source": [
    "postgres_db.conf_db"
   ]
  },
  {
   "cell_type": "code",
   "execution_count": 0,
   "metadata": {
    "application/vnd.databricks.v1+cell": {
     "cellMetadata": {},
     "inputWidgets": {},
     "nuid": "fb6ea16e-c9a2-4982-94cd-f465550527ff",
     "showTitle": false,
     "title": ""
    }
   },
   "outputs": [],
   "source": [
    "events = Events(company_id, postgres_db, model_training)\n",
    "start_time = time.time()\n",
    "events.load()\n",
    "print(\"--- %s seconds ---\" % (time.time() - start_time))\n",
    "events.df\n"
   ]
  },
  {
   "cell_type": "code",
   "execution_count": 0,
   "metadata": {
    "application/vnd.databricks.v1+cell": {
     "cellMetadata": {},
     "inputWidgets": {},
     "nuid": "1e3d9fef-f575-439e-880b-9891f7579e4c",
     "showTitle": false,
     "title": ""
    }
   },
   "outputs": [],
   "source": [
    "orders = Orders(company_id, db, model_training)\n",
    "orders.load()\n",
    "orders.df"
   ]
  },
  {
   "cell_type": "markdown",
   "metadata": {
    "application/vnd.databricks.v1+cell": {
     "cellMetadata": {},
     "inputWidgets": {},
     "nuid": "6708049b-be9d-4e79-9213-bdc355a6c9ce",
     "showTitle": false,
     "title": ""
    }
   },
   "source": [
    "## Get features for snapshot date"
   ]
  },
  {
   "cell_type": "code",
   "execution_count": 0,
   "metadata": {
    "application/vnd.databricks.v1+cell": {
     "cellMetadata": {},
     "inputWidgets": {},
     "nuid": "53ee250a-a291-42dd-8d0b-a9b48ddb8fbf",
     "showTitle": false,
     "title": ""
    }
   },
   "outputs": [],
   "source": [
    "snapshot_date = snapshot_dates[0]\n",
    "\n",
    "features = [\n",
    "    \"customer_since_weeks\",\n",
    "    \"weeks_since_last_delivery\",\n",
    "    \"number_of_forecast_orders\",\n",
    "    \"number_of_total_orders\",\n",
    "    \"snapshot_status\",\n",
    "] # and much more\n",
    "\n",
    "label = \"forecast_status\""
   ]
  },
  {
   "cell_type": "code",
   "execution_count": 0,
   "metadata": {
    "application/vnd.databricks.v1+cell": {
     "cellMetadata": {},
     "inputWidgets": {},
     "nuid": "e49cff90-128c-45a4-b8e6-8134e65a578f",
     "showTitle": false,
     "title": ""
    }
   },
   "outputs": [],
   "source": [
    "snapshot_date"
   ]
  },
  {
   "cell_type": "code",
   "execution_count": 0,
   "metadata": {
    "application/vnd.databricks.v1+cell": {
     "cellMetadata": {},
     "inputWidgets": {},
     "nuid": "94e2e1b7-88f7-45cb-9e45-90298d41aad4",
     "showTitle": false,
     "title": ""
    }
   },
   "outputs": [],
   "source": [
    "bisnode_features = bisnode.get_features_for_snapshot(snapshot_date)\n",
    "bisnode_features.head()"
   ]
  },
  {
   "cell_type": "code",
   "execution_count": 0,
   "metadata": {
    "application/vnd.databricks.v1+cell": {
     "cellMetadata": {},
     "inputWidgets": {},
     "nuid": "587f14d9-9875-4a31-a318-b313c706c51f",
     "showTitle": false,
     "title": ""
    }
   },
   "outputs": [],
   "source": [
    "complaints_features = complaints.get_features_for_snapshot(snapshot_date)\n",
    "complaints_features.head()"
   ]
  },
  {
   "cell_type": "code",
   "execution_count": 0,
   "metadata": {
    "application/vnd.databricks.v1+cell": {
     "cellMetadata": {},
     "inputWidgets": {},
     "nuid": "b06b4ccd-b8c6-47d0-8d89-60bb386c5c1d",
     "showTitle": false,
     "title": ""
    }
   },
   "outputs": [],
   "source": [
    "df = complaints.df.groupby(\"agreement_id\").aggregate(\n",
    "            total_complaints=pd.NamedAgg('agreement_id', 'count'),\n",
    "            last_complaint=pd.NamedAgg('delivery_date', 'max'),\n",
    "            category=pd.NamedAgg('category', 'last')\n",
    "        )"
   ]
  },
  {
   "cell_type": "code",
   "execution_count": 0,
   "metadata": {
    "application/vnd.databricks.v1+cell": {
     "cellMetadata": {},
     "inputWidgets": {},
     "nuid": "d6681b6b-6cf2-4566-88cf-d746c0888d83",
     "showTitle": false,
     "title": ""
    }
   },
   "outputs": [],
   "source": [
    "df[\"weeks_since_last_complaint\"] = (snapshot_date - df[\"last_complaint\"])"
   ]
  },
  {
   "cell_type": "code",
   "execution_count": 0,
   "metadata": {
    "application/vnd.databricks.v1+cell": {
     "cellMetadata": {},
     "inputWidgets": {},
     "nuid": "973e3fb7-d6ef-42b7-aa61-c429fb5071ca",
     "showTitle": false,
     "title": ""
    }
   },
   "outputs": [],
   "source": [
    "df[\"weeks_since_last_complaint\"].dt.days // 7"
   ]
  }
 ],
 "metadata": {
  "application/vnd.databricks.v1+notebook": {
   "dashboards": [],
   "language": "python",
   "notebookMetadata": {
    "pythonIndentUnit": 2
   },
   "notebookName": "read_dataset",
   "widgets": {}
  },
  "kernelspec": {
   "display_name": "Python 3 (ipykernel)",
   "language": "python",
   "name": "python3"
  },
  "language_info": {
   "codemirror_mode": {
    "name": "ipython",
    "version": 3
   },
   "file_extension": ".py",
   "mimetype": "text/x-python",
   "name": "python",
   "nbconvert_exporter": "python",
   "pygments_lexer": "ipython3",
   "version": "3.12.2"
  }
 },
 "nbformat": 4,
 "nbformat_minor": 0
}
