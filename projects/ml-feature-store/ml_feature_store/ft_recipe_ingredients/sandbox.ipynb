{
 "cells": [
  {
   "cell_type": "code",
   "execution_count": 1,
   "metadata": {},
   "outputs": [],
   "source": [
    "%load_ext autoreload\n",
    "%autoreload 2"
   ]
  },
  {
   "cell_type": "code",
   "execution_count": 2,
   "metadata": {},
   "outputs": [],
   "source": [
    "env = \"dev\""
   ]
  },
  {
   "cell_type": "code",
   "execution_count": 3,
   "metadata": {},
   "outputs": [],
   "source": [
    "from ml_feature_store.common.spark_context import create_spark_context\n",
    "spark = create_spark_context()"
   ]
  },
  {
   "cell_type": "code",
   "execution_count": null,
   "metadata": {},
   "outputs": [],
   "source": [
    "from ml_feature_store.feature_tables import ft_recipe_ingredients_configs\n",
    "table_config = ft_recipe_ingredients_configs\n",
    "table_config"
   ]
  },
  {
   "cell_type": "code",
   "execution_count": 7,
   "metadata": {},
   "outputs": [],
   "source": [
    "primary_keys = table_config.primary_keys\n",
    "feature_table_name_full = table_config.feature_table_name\n",
    "add_pk_sql = f\"\"\"\n",
    "    ALTER TABLE {feature_table_name_full}\n",
    "    ADD CONSTRAINT {primary_keys} PRIMARY KEY(\n",
    "    {', '.join(primary_keys)});\n",
    "\"\"\""
   ]
  },
  {
   "cell_type": "code",
   "execution_count": null,
   "metadata": {},
   "outputs": [],
   "source": [
    "print(add_pk_sql)"
   ]
  },
  {
   "cell_type": "code",
   "execution_count": null,
   "metadata": {},
   "outputs": [],
   "source": [
    "table_config.primary_keys"
   ]
  },
  {
   "cell_type": "code",
   "execution_count": 5,
   "metadata": {},
   "outputs": [],
   "source": [
    "from ml_feature_store.common.data import get_data_from_catalog\n",
    "df_recipe_ingredients = get_data_from_catalog(\n",
    "    spark=spark,\n",
    "    env=env,\n",
    "    table_name=table_config.dbt_model_name,\n",
    "    schema=\"mlgold\",\n",
    "    is_convert_to_pandas=True,\n",
    ")"
   ]
  },
  {
   "cell_type": "code",
   "execution_count": 6,
   "metadata": {},
   "outputs": [],
   "source": [
    "from ml_feature_store.ft_recipe_ingredients.feature_table_builder import get_ingredient_data\n",
    "df_distinct_ingredients = get_ingredient_data(\n",
    "    spark=spark,\n",
    "    env=\"dev\",\n",
    "    schema=\"mlgold\"\n",
    ")"
   ]
  },
  {
   "cell_type": "code",
   "execution_count": 7,
   "metadata": {},
   "outputs": [],
   "source": [
    "from ml_feature_store.ft_recipe_ingredients.text_feature_generator import add_nouns_only_and_lemmatized_columns\n",
    "df_lemmatized_nouns = add_nouns_only_and_lemmatized_columns(\n",
    "    df_distinct_ingredients=df_distinct_ingredients,\n",
    "    text_column_name=\"generic_ingredient_name\",\n",
    "    nouns_only_column_name=\"generic_ingredient_name_nouns_only\",\n",
    "    lemmatized_column_name=\"generic_ingredient_lemmatized\",\n",
    ")"
   ]
  },
  {
   "cell_type": "code",
   "execution_count": 8,
   "metadata": {},
   "outputs": [],
   "source": [
    "from ml_feature_store.ft_recipe_ingredients.text_feature_generator import get_generic_name_lemmatized_nouns\n",
    "\n",
    "df_recipe_ingredients = get_generic_name_lemmatized_nouns(\n",
    "    df_recipe_ingredients=df_recipe_ingredients,\n",
    "    df_distinct_ingredients=df_distinct_ingredients,\n",
    "    distinct_ingredient_text_col_name=\"generic_ingredient_name\",\n",
    "    distinct_ingredient_id_column_name=\"generic_ingredient_id\",\n",
    "    nouns_only_column_name=\"generic_ingredient_name_nouns_only\",\n",
    "    lemmatized_column_name=\"generic_ingredient_name_lemmatized_nouns_only\"\n",
    ")"
   ]
  },
  {
   "cell_type": "code",
   "execution_count": 9,
   "metadata": {},
   "outputs": [],
   "source": [
    "from ml_feature_store.ft_recipe_ingredients.configs.categories import categories\n",
    "from ml_feature_store.ft_recipe_ingredients.category_features_generator import add_category_features\n",
    "df_recipe_ingredients_with_categories = add_category_features(\n",
    "    df_recipe_ingredients=df_recipe_ingredients,\n",
    "    category_mappings=categories,\n",
    "    binary_column_prefix=\"has_\"\n",
    ")"
   ]
  },
  {
   "cell_type": "code",
   "execution_count": null,
   "metadata": {},
   "outputs": [],
   "source": []
  }
 ],
 "metadata": {
  "kernelspec": {
   "display_name": ".venv",
   "language": "python",
   "name": "python3"
  },
  "language_info": {
   "codemirror_mode": {
    "name": "ipython",
    "version": 3
   },
   "file_extension": ".py",
   "mimetype": "text/x-python",
   "name": "python",
   "nbconvert_exporter": "python",
   "pygments_lexer": "ipython3",
   "version": "3.10.0"
  }
 },
 "nbformat": 4,
 "nbformat_minor": 2
}
