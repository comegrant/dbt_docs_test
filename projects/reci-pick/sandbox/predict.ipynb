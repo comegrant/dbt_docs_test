{
 "cells": [
  {
   "cell_type": "code",
   "execution_count": 1,
   "metadata": {},
   "outputs": [],
   "source": [
    "%load_ext autoreload\n",
    "%autoreload 2"
   ]
  },
  {
   "cell_type": "code",
   "execution_count": 2,
   "metadata": {},
   "outputs": [],
   "source": [
    "from constants.companies import get_company_by_code\n",
    "company_code = \"AMK\"\n",
    "company_id = get_company_by_code(company_code).company_id"
   ]
  },
  {
   "cell_type": "code",
   "execution_count": 3,
   "metadata": {},
   "outputs": [],
   "source": [
    "from reci_pick.train.configs.train_configs import get_company_train_configs\n",
    "company_configs = get_company_train_configs(company_code=company_code)\n",
    "start_yyyyww = company_configs.train_start_yyyyww"
   ]
  },
  {
   "cell_type": "code",
   "execution_count": null,
   "metadata": {},
   "outputs": [],
   "source": [
    "from reci_pick.predict.data import get_dataframes\n",
    "\n",
    "df_recipes, df_menu_recipes, df_order_history, df_active_users = get_dataframes(\n",
    "    company_id=company_id,\n",
    "    start_yyyyww=start_yyyyww,\n",
    "    env=\"dev\"\n",
    ")\n"
   ]
  },
  {
   "cell_type": "code",
   "execution_count": 6,
   "metadata": {},
   "outputs": [],
   "source": [
    "from reci_pick.predict.configs.predict_configs import get_company_predict_configs\n",
    "company_predict_configs = get_company_predict_configs(company_code=company_code)"
   ]
  },
  {
   "cell_type": "code",
   "execution_count": null,
   "metadata": {},
   "outputs": [],
   "source": [
    "from reci_pick.preprocessing import preprocess_recipes_dataframe\n",
    "import mlflow\n",
    "mlflow.set_registry_uri(\"databricks-uc\")\n",
    "preprocessor_uri = company_predict_configs.preprocessor_uri[\"dev\"]\n",
    "recipe_preprocessor = mlflow.sklearn.load_model(preprocessor_uri)\n",
    "df_recipes_processed, _ = preprocess_recipes_dataframe(\n",
    "    df_recipes=df_recipes.drop(columns=[\"allergen_id_list\"]),\n",
    "    company_configs=company_predict_configs,\n",
    "    fitted_recipe_transformer=recipe_preprocessor,\n",
    ")"
   ]
  },
  {
   "cell_type": "code",
   "execution_count": 8,
   "metadata": {},
   "outputs": [],
   "source": [
    "from reci_pick.train.training_data import get_recipe_embeddings\n",
    "id_to_recipe_embedding_lookup, id_to_name_lookup = get_recipe_embeddings(\n",
    "    df_recipes_processed=df_recipes_processed,\n",
    "    recipe_numeric_features=company_configs.recipe_numeric_features\n",
    ")"
   ]
  },
  {
   "cell_type": "code",
   "execution_count": null,
   "metadata": {},
   "outputs": [],
   "source": [
    "from reci_pick.predict.predict_data import get_user_embeddings\n",
    "user_embedding_dict = get_user_embeddings(\n",
    "    df_order_history=df_order_history,\n",
    "    df_user_preferences=df_active_users,\n",
    "    id_to_recipe_embedding_lookup=id_to_recipe_embedding_lookup,\n",
    "    top_n_per_concept=8,\n",
    "    top_n_per_user=5,\n",
    "    look_back_weeks=24,\n",
    "    pooling_method=\"mean\"\n",
    ")"
   ]
  },
  {
   "cell_type": "code",
   "execution_count": 10,
   "metadata": {},
   "outputs": [],
   "source": [
    "from reci_pick.predict.predict_data import get_menu_to_predict\n",
    "menus_to_predict = get_menu_to_predict(\n",
    "    df_menu_recipes=df_menu_recipes,\n",
    "    prediction_date=\"\",\n",
    "    cut_off_day=2,\n",
    "    num_weeks=4\n",
    ")\n",
    "recipes_to_predict = menus_to_predict[\"main_recipe_id\"].unique()"
   ]
  },
  {
   "cell_type": "code",
   "execution_count": null,
   "metadata": {},
   "outputs": [],
   "source": [
    "from reci_pick.postprocessing import map_new_recipes_with_old\n",
    "df_similar_recipes = map_new_recipes_with_old(\n",
    "    df_menu_recipes=df_menu_recipes,\n",
    "    df_menus_to_predict=menus_to_predict,\n",
    "    id_to_embedding_lookup=id_to_recipe_embedding_lookup,\n",
    "    id_to_name_lookup=id_to_name_lookup,\n",
    "    similarity_threshold=0.91\n",
    ")\n",
    "\n",
    "df_similar_recipes"
   ]
  },
  {
   "cell_type": "code",
   "execution_count": null,
   "metadata": {},
   "outputs": [],
   "source": [
    "model_name = f'models:/dev.mloutputs.reci_pick_{company_code.lower()}@champion'\n",
    "trained_model = mlflow.tensorflow.load_model(model_name)"
   ]
  },
  {
   "cell_type": "code",
   "execution_count": 13,
   "metadata": {},
   "outputs": [],
   "source": [
    "import numpy as np\n",
    "user_id_list = np.array(list(user_embedding_dict.keys()))\n",
    "if (company_code == \"AMK\") or (company_code == \"RT\"):\n",
    "    num_chunks = 10\n",
    "else:\n",
    "    num_chunks = 20\n",
    "user_chunks = np.array_split(user_id_list, num_chunks)"
   ]
  },
  {
   "cell_type": "code",
   "execution_count": 14,
   "metadata": {},
   "outputs": [],
   "source": [
    "start_menu_yyyyww = menus_to_predict[\"menu_yyyyww\"].min()\n",
    "end_menu_yyyyww = menus_to_predict[\"menu_yyyyww\"].max()"
   ]
  },
  {
   "cell_type": "code",
   "execution_count": null,
   "metadata": {},
   "outputs": [],
   "source": [
    "menus_to_predict"
   ]
  },
  {
   "cell_type": "code",
   "execution_count": null,
   "metadata": {},
   "outputs": [],
   "source": [
    "from reci_pick.train.model import predict_recipe_scores\n",
    "from reci_pick.predict.recommendations import make_top_k_menu_recommendations, modify_scores_for_recommendations\n",
    "\n",
    "for i, users in enumerate(user_chunks[:2]):\n",
    "    print(i)\n",
    "    df_scores = predict_recipe_scores(\n",
    "        recipe_ids_to_predict=recipes_to_predict,\n",
    "        user_billing_agreements=users,\n",
    "        user_embeddings_pooled_dict=user_embedding_dict,\n",
    "        id_to_embedding_lookup=id_to_recipe_embedding_lookup,\n",
    "        model=trained_model\n",
    "    )\n",
    "    df_scores_modified = modify_scores_for_recommendations(\n",
    "        df_scores=df_scores,\n",
    "        df_order_history=df_order_history,\n",
    "        df_similar_recipes=df_similar_recipes,\n",
    "        df_taste_preferences=df_active_users,\n",
    "        company_configs=company_predict_configs,\n",
    "        df_recipes=df_recipes,\n",
    "        df_menu_recipes=df_menu_recipes,\n",
    "        df_menus_to_predict=df_menu_recipes,\n",
    "    )\n",
    "    n = 10\n",
    "    df_top_k_recommendations = make_top_k_menu_recommendations(\n",
    "        top_k=n, df_menu_scores=df_scores_modified\n",
    "        )\n",
    "\n",
    "    df_top_k_recommendations = df_top_k_recommendations.merge(\n",
    "        df_recipes, how=\"left\"\n",
    "    )\n",
    "\n",
    "    # file_path = PROJECT_DIR / \"data\" / \"recommendations\" / f\"{company_code}\" / f\"{company_code}_{start_menu_yyyyww}_{end_menu_yyyyww}_chunk_{i}.csv\"\n",
    "    # df_top_k_recommendations.to_csv(file_path, index=False)\n"
   ]
  },
  {
   "cell_type": "code",
   "execution_count": null,
   "metadata": {},
   "outputs": [],
   "source": [
    "df_top_k_recommendations"
   ]
  },
  {
   "cell_type": "code",
   "execution_count": null,
   "metadata": {},
   "outputs": [],
   "source": [
    "df_top_k_recommendations[df_top_k_recommendations[\"menu_yyyyww\"] == 202521][[\"menu_week\", \"recipe_name\"]]"
   ]
  },
  {
   "cell_type": "code",
   "execution_count": null,
   "metadata": {},
   "outputs": [],
   "source": [
    "df_scores_modified.head()"
   ]
  },
  {
   "cell_type": "code",
   "execution_count": null,
   "metadata": {},
   "outputs": [],
   "source": [
    "\n",
    "from reci_pick.train.model import predict_recipe_scores\n",
    "from reci_pick.postprocessing import modify_score_based_on_purchase_history, check_for_preference_violation, penalize_high_menu_occurance\n",
    "\n",
    "users = [1350590]\n",
    "score_df = predict_recipe_scores(\n",
    "    recipe_ids_to_predict=recipes_to_predict,\n",
    "    user_billing_agreements=users,\n",
    "    user_embeddings_pooled_dict=user_embedding_dict,\n",
    "    id_to_embedding_lookup=id_to_recipe_embedding_lookup,\n",
    "    model=trained_model\n",
    ")\n",
    "df_score_modified = modify_score_based_on_purchase_history(\n",
    "    score_df_exploded=score_df,\n",
    "    df_order_history=df_order_history,\n",
    "    bonus_factor=0.25,\n",
    "    is_map_similar_recipes=True,\n",
    "    df_similar_recipes=df_similar_recipes\n",
    ")\n",
    "\n",
    "df_score_modified = check_for_preference_violation(\n",
    "    score_df=df_score_modified,\n",
    "    df_taste_preference=df_active_users,\n",
    "    df_recipes=df_recipes[[\"main_recipe_id\", \"recipe_main_ingredient_name_english\", \"allergen_id_list\"]].drop_duplicates(subset=\"main_recipe_id\")\n",
    ")\n",
    "\n",
    "df_score_modified = penalize_high_menu_occurance(\n",
    "    df_menu_recipes=df_menu_recipes.copy(),\n",
    "    df_menu_to_predict=menus_to_predict,\n",
    "    df_scores=df_score_modified,\n",
    "    alpha=-0.85,\n",
    "    penalization_factor=0.1,\n",
    "    score_col=\"score_modified\"\n",
    ")\n",
    "\n",
    "df_menu_scores = menus_to_predict.merge(\n",
    "    df_score_modified,\n",
    "    how=\"left\"\n",
    ")\n",
    "\n",
    "df_menu_scores = df_menu_scores.sort_values(\n",
    "    by=[\"menu_yyyyww\", \"billing_agreement_id\", \"score_modified\"],\n",
    "    ascending=[True, True, False]\n",
    ")\n",
    "n = 10\n",
    "df_top_n_recommendations = df_menu_scores.groupby(\n",
    "    [\"menu_year\", \"menu_week\", \"menu_yyyyww\", \"billing_agreement_id\"]\n",
    ").head(n)\n",
    "\n",
    "df_top_n_recommendations = df_top_n_recommendations.merge(\n",
    "    df_recipes, how=\"left\"\n",
    ")\n"
   ]
  },
  {
   "cell_type": "code",
   "execution_count": null,
   "metadata": {},
   "outputs": [],
   "source": [
    "df_top_n_recommendations.merge(df_recipes[[\"main_recipe_id\", \"recipe_name\"]])[[\n",
    "    \"billing_agreement_id\", \"menu_yyyyww\", \"recipe_name\", \"score_modified\"\n",
    "]].sort_values(by=[\"billing_agreement_id\", \"menu_yyyyww\"]).head(40)"
   ]
  },
  {
   "cell_type": "code",
   "execution_count": null,
   "metadata": {},
   "outputs": [],
   "source": []
  }
 ],
 "metadata": {
  "kernelspec": {
   "display_name": ".venv",
   "language": "python",
   "name": "python3"
  },
  "language_info": {
   "codemirror_mode": {
    "name": "ipython",
    "version": 3
   },
   "file_extension": ".py",
   "mimetype": "text/x-python",
   "name": "python",
   "nbconvert_exporter": "python",
   "pygments_lexer": "ipython3",
   "version": "3.11.0"
  }
 },
 "nbformat": 4,
 "nbformat_minor": 2
}
