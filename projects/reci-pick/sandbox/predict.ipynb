{
 "cells": [
  {
   "cell_type": "code",
   "execution_count": 1,
   "metadata": {},
   "outputs": [],
   "source": [
    "%load_ext autoreload\n",
    "%autoreload 2"
   ]
  },
  {
   "cell_type": "code",
   "execution_count": 2,
   "metadata": {},
   "outputs": [],
   "source": [
    "from constants.companies import get_company_by_code\n",
    "company_code = \"AMK\"\n",
    "company_id = get_company_by_code(company_code).company_id"
   ]
  },
  {
   "cell_type": "code",
   "execution_count": 3,
   "metadata": {},
   "outputs": [],
   "source": [
    "from reci_pick.predict.configs.predict_configs import get_company_predict_configs\n",
    "company_predict_configs = get_company_predict_configs(company_code=company_code)"
   ]
  },
  {
   "cell_type": "code",
   "execution_count": null,
   "metadata": {},
   "outputs": [],
   "source": [
    "from reci_pick.predict.data import get_dataframes\n",
    "\n",
    "df_recipes, df_menu_recipes, df_order_history, df_active_users, df_concept_preferences = get_dataframes(\n",
    "    company_id=company_id,\n",
    "    start_yyyyww=company_predict_configs.user_profile_start_yyyyww,\n",
    "    env=\"dev\"\n",
    ")"
   ]
  },
  {
   "cell_type": "code",
   "execution_count": null,
   "metadata": {},
   "outputs": [],
   "source": [
    "from reci_pick.preprocessing import preprocess_recipes_dataframe\n",
    "import mlflow\n",
    "mlflow.set_registry_uri(\"databricks-uc\")\n",
    "preprocessor_uri = company_predict_configs.preprocessor_uri[\"dev\"]\n",
    "recipe_preprocessor = mlflow.sklearn.load_model(preprocessor_uri)\n",
    "df_recipes_processed, _ = preprocess_recipes_dataframe(\n",
    "    df_recipes=df_recipes.drop(columns=[\"allergen_id_list\"]),\n",
    "    company_configs=company_predict_configs,\n",
    "    fitted_recipe_transformer=recipe_preprocessor,\n",
    ")"
   ]
  },
  {
   "cell_type": "code",
   "execution_count": 6,
   "metadata": {},
   "outputs": [],
   "source": [
    "from reci_pick.train.training_data import get_recipe_embeddings\n",
    "id_to_recipe_embedding_lookup, id_to_name_lookup = get_recipe_embeddings(\n",
    "    df_recipes_processed=df_recipes_processed,\n",
    "    recipe_numeric_features=company_predict_configs.recipe_numeric_features,\n",
    ")"
   ]
  },
  {
   "cell_type": "code",
   "execution_count": null,
   "metadata": {},
   "outputs": [],
   "source": [
    "from reci_pick.predict.predict_data import get_user_embeddings\n",
    "user_embedding_dict = get_user_embeddings(\n",
    "    df_order_history=df_order_history,\n",
    "    df_user_preferences=df_active_users,\n",
    "    id_to_recipe_embedding_lookup=id_to_recipe_embedding_lookup,\n",
    "    top_n_per_concept=8,\n",
    "    top_n_per_user=5,\n",
    "    look_back_weeks=24,\n",
    "    pooling_method=\"mean\"\n",
    ")"
   ]
  },
  {
   "cell_type": "code",
   "execution_count": 8,
   "metadata": {},
   "outputs": [],
   "source": [
    "from reci_pick.predict.predict_data import get_menu_to_predict\n",
    "menus_to_predict = get_menu_to_predict(\n",
    "    df_menu_recipes=df_menu_recipes,\n",
    "    prediction_date=\"\",\n",
    "    cut_off_day=2,\n",
    "    num_weeks=4\n",
    ")\n",
    "recipes_to_predict = menus_to_predict[\"main_recipe_id\"].unique()"
   ]
  },
  {
   "cell_type": "code",
   "execution_count": null,
   "metadata": {},
   "outputs": [],
   "source": [
    "from reci_pick.postprocessing import map_new_recipes_with_old\n",
    "df_similar_recipes = map_new_recipes_with_old(\n",
    "    df_menu_recipes=df_menu_recipes,\n",
    "    df_menus_to_predict=menus_to_predict,\n",
    "    id_to_embedding_lookup=id_to_recipe_embedding_lookup,\n",
    "    id_to_name_lookup=id_to_name_lookup,\n",
    "    similarity_threshold=0.91\n",
    ")\n"
   ]
  },
  {
   "cell_type": "code",
   "execution_count": null,
   "metadata": {},
   "outputs": [],
   "source": [
    "from reci_pick.predict.model import get_model_and_version\n",
    "model_name = f'models:/dev.mloutputs.reci_pick_{company_code.lower()}@champion'\n",
    "trained_model, model_version = get_model_and_version(model_uri=model_name)"
   ]
  },
  {
   "cell_type": "code",
   "execution_count": 11,
   "metadata": {},
   "outputs": [],
   "source": [
    "from reci_pick.predict.predict_data import divide_users_into_chunks\n",
    "users_list = list(user_embedding_dict.keys())\n",
    "user_chunks = divide_users_into_chunks(user_id_list=users_list, num_chunks=company_predict_configs.num_user_chunks)"
   ]
  },
  {
   "cell_type": "code",
   "execution_count": 12,
   "metadata": {},
   "outputs": [],
   "source": [
    "from reci_pick.predict.predict import prepare_meta_data_menus_predicted\n",
    "from datetime import datetime\n",
    "from pytz import timezone\n",
    "import uuid\n",
    "\n",
    "timestamp_prediction = datetime.now(tz=timezone(\"UTC\")).strftime(\"%Y-%m-%d %H:%M:%S\")\n",
    "run_id = str(uuid.uuid4())"
   ]
  },
  {
   "cell_type": "code",
   "execution_count": null,
   "metadata": {},
   "outputs": [],
   "source": [
    "from reci_pick.train.model import predict_recipe_scores\n",
    "from reci_pick.postprocessing import modify_score_based_on_purchase_history\n",
    "from reci_pick.predict.outputs import prepare_recommendations_for_output, prepare_outputs\n",
    "from reci_pick.db import append_pandas_df_to_catalog\n",
    "from reci_pick.predict.recommendations import make_top_k_menu_recommendations, modify_scores_for_recommendations\n",
    "\n",
    "for i, users in enumerate(user_chunks[:2]):\n",
    "    print(i)\n",
    "    df_scores = predict_recipe_scores(\n",
    "        recipe_ids_to_predict=recipes_to_predict,\n",
    "        user_billing_agreements=users,\n",
    "        user_embeddings_pooled_dict=user_embedding_dict,\n",
    "        id_to_embedding_lookup=id_to_recipe_embedding_lookup,\n",
    "        model=trained_model,\n",
    "    )\n",
    "    print(\"Modifying scores to reward repeated dishes...\")\n",
    "    df_score_modified = modify_score_based_on_purchase_history(\n",
    "        score_df_exploded=df_scores,\n",
    "        df_order_history=df_order_history,\n",
    "        bonus_factor=company_predict_configs.repeated_purchase_bonus_factor,\n",
    "        is_map_similar_recipes=company_predict_configs.is_map_similar_recipes,\n",
    "        df_similar_recipes=df_similar_recipes,\n",
    "    )\n",
    "    df_outputs = prepare_outputs(\n",
    "        df_scores=df_score_modified,\n",
    "        model_version=model_version,\n",
    "        identifier_col=\"billing_agreement_id\",\n",
    "        score_col=\"score_modified\",\n",
    "        company_code=company_code,\n",
    "        timestamp_prediction=timestamp_prediction,\n",
    "        run_id=run_id,\n",
    "    )\n",
    "    # append_pandas_df_to_catalog(\n",
    "    #     df=df_outputs,\n",
    "    #     table_name=\"mloutputs.reci_pick_scores\",\n",
    "    #     env=\"dev\"\n",
    "    # )\n",
    "    df_scores_modified = modify_scores_for_recommendations(\n",
    "        df_scores=df_score_modified,\n",
    "        df_taste_preferences=df_active_users,\n",
    "        company_configs=company_predict_configs,\n",
    "        df_recipes=df_recipes,\n",
    "        df_menu_recipes=df_menu_recipes,\n",
    "        df_menus_to_predict=menus_to_predict,\n",
    "    )\n",
    "    df_topk_recommendations = make_top_k_menu_recommendations(\n",
    "        top_k=10, df_menu_scores=df_scores_modified, score_col=\"score_modified\"\n",
    "    )\n",
    "    df_top_k_outputs = prepare_recommendations_for_output(\n",
    "        df_topk_recommendations=df_topk_recommendations,\n",
    "        identifier_col=\"billing_agreement_id\",\n",
    "        score_col=\"score_modified\",\n",
    "        model_version=model_version,\n",
    "        company_code=company_code,\n",
    "        timestamp_prediction=timestamp_prediction,\n",
    "        run_id=run_id,\n",
    "    )\n",
    "    # append_pandas_df_to_catalog(\n",
    "    #     df=df_top_k_outputs, table_name=\"mloutputs.reci_pick_recommendations\", env=args.env\n",
    "    # )\n",
    "\n",
    "    # file_path = PROJECT_DIR / \"data\" / \"recommendations\" / f\"{company_code}\" / f\"{company_code}_{start_menu_yyyyww}_{end_menu_yyyyww}_chunk_{i}.csv\"\n",
    "    # df_top_k_recommendations.to_csv(file_path, index=False)\n"
   ]
  },
  {
   "cell_type": "code",
   "execution_count": 16,
   "metadata": {},
   "outputs": [],
   "source": [
    "# create default scores for concept combinations\n",
    "import pandas as pd\n",
    "df_concept_users = pd.DataFrame(df_order_history[\"concept_combination_list\"].drop_duplicates())\n",
    "df_concept_users[\"billing_agreement_id\"] = df_concept_users.index"
   ]
  },
  {
   "cell_type": "code",
   "execution_count": null,
   "metadata": {},
   "outputs": [],
   "source": [
    "from reci_pick.predict.predict_data import get_cold_start_users_embeddings\n",
    "from reci_pick.predict.predict import prepare_concept_user_scores_for_output\n",
    "from reci_pick.train.model import predict_recipe_scores\n",
    "import logging\n",
    "from reci_pick.db import append_pandas_df_to_catalog\n",
    "logging.info(\"Generating recommendations for concept users....\")\n",
    "df_concept_users = pd.DataFrame(df_order_history[\"concept_combination_list\"].drop_duplicates())\n",
    "df_concept_users[\"billing_agreement_id\"] = df_concept_users.index\n",
    "\n",
    "concept_embeddings = get_cold_start_users_embeddings(\n",
    "    df_non_cold_start_order_history=df_order_history,\n",
    "    df_cold_start_user_preferences=df_concept_users,\n",
    "    id_to_recipe_embedding_lookup=id_to_recipe_embedding_lookup,\n",
    "    top_n_per_user=company_predict_configs.top_n_per_user,\n",
    "    top_n_per_concept=company_predict_configs.top_n_per_concept,\n",
    "    look_back_weeks=company_predict_configs.look_back_weeks,\n",
    "    pooling_method=company_predict_configs.pooling_method,\n",
    ")\n",
    "df_scores_concept = predict_recipe_scores(\n",
    "    recipe_ids_to_predict=recipes_to_predict,\n",
    "    user_billing_agreements=df_concept_users[\"billing_agreement_id\"],\n",
    "    user_embeddings_pooled_dict=concept_embeddings,\n",
    "    id_to_embedding_lookup=id_to_recipe_embedding_lookup,\n",
    "    model=trained_model,\n",
    ")\n",
    "df_scores_concept_outputs = prepare_concept_user_scores_for_output(\n",
    "    df_scores_concept=df_scores_concept,\n",
    "    df_concept_users=df_concept_users,\n",
    "    df_concept_preferences=df_concept_preferences,\n",
    "    model_version=model_version,\n",
    "    timestamp_prediction=timestamp_prediction,\n",
    "    company_code=company_code,\n",
    "    run_id=run_id\n",
    ")\n",
    "# append_pandas_df_to_catalog(\n",
    "#     df=df_scores_concept_outputs, table_name=\"mloutputs.reci_pick_scores_concept_default\", env=\"dev\"\n",
    "# )"
   ]
  },
  {
   "cell_type": "code",
   "execution_count": null,
   "metadata": {},
   "outputs": [],
   "source": [
    "df_menu_scores_concept = df_scores_concept.merge(menus_to_predict)\n",
    "df_recs_concept = make_top_k_menu_recommendations(df_menu_scores=df_menu_scores_concept, top_k=10, score_col=\"score\")\n",
    "\n",
    "from reci_pick.predict.outputs import prepare_concept_recommendations\n",
    "df_recs_concept_outputs = prepare_concept_recommendations(\n",
    "    df_recs_concept=df_recs_concept,\n",
    "    df_concept_users=df_concept_users,\n",
    "    df_concept_preferences=df_concept_preferences,\n",
    "    model_version=model_version,\n",
    "    timestamp_prediction=timestamp_prediction,\n",
    "    company_code=company_code,\n",
    "    run_id=run_id\n",
    ")\n",
    "\n",
    "df_recs_concept_outputs"
   ]
  },
  {
   "cell_type": "code",
   "execution_count": null,
   "metadata": {},
   "outputs": [],
   "source": [
    "import numpy as np\n",
    "df_menus_predicted = prepare_meta_data_menus_predicted(\n",
    "    df_menus_predicted=menus_to_predict,\n",
    "    run_id=run_id,\n",
    "    timestamp_prediction=timestamp_prediction,\n",
    "    company_code=company_code,\n",
    "    num_users=np.array([len(i) for i in user_chunks[:2]]).sum()\n",
    ")\n",
    "\n",
    "df_menus_predicted\n",
    "# append_pandas_df_to_catalog(\n",
    "#     df=df_menus_predicted, table_name=\"mloutputs.reci_pick_scores_metadata_menus_predicted\", env=\"dev\"\n",
    "# )"
   ]
  },
  {
   "cell_type": "code",
   "execution_count": null,
   "metadata": {},
   "outputs": [],
   "source": [
    "\n",
    "from reci_pick.train.model import predict_recipe_scores\n",
    "from reci_pick.postprocessing import modify_score_based_on_purchase_history, check_for_preference_violation, penalize_high_menu_occurance\n",
    "\n",
    "users = [1350590]\n",
    "score_df = predict_recipe_scores(\n",
    "    recipe_ids_to_predict=recipes_to_predict,\n",
    "    user_billing_agreements=users,\n",
    "    user_embeddings_pooled_dict=user_embedding_dict,\n",
    "    id_to_embedding_lookup=id_to_recipe_embedding_lookup,\n",
    "    model=trained_model\n",
    ")\n",
    "df_score_modified = modify_score_based_on_purchase_history(\n",
    "    score_df_exploded=score_df,\n",
    "    df_order_history=df_order_history,\n",
    "    bonus_factor=0.25,\n",
    "    is_map_similar_recipes=True,\n",
    "    df_similar_recipes=df_similar_recipes\n",
    ")\n",
    "\n",
    "df_score_modified = check_for_preference_violation(\n",
    "    score_df=df_score_modified,\n",
    "    df_taste_preference=df_active_users,\n",
    "    df_recipes=df_recipes[[\"main_recipe_id\", \"recipe_main_ingredient_name_english\", \"allergen_id_list\"]].drop_duplicates(subset=\"main_recipe_id\")\n",
    ")\n",
    "\n",
    "df_score_modified = penalize_high_menu_occurance(\n",
    "    df_menu_recipes=df_menu_recipes.copy(),\n",
    "    df_menu_to_predict=menus_to_predict,\n",
    "    df_scores=df_score_modified,\n",
    "    alpha=-0.85,\n",
    "    penalization_factor=0.1,\n",
    "    score_col=\"score_modified\"\n",
    ")\n",
    "\n",
    "df_menu_scores = menus_to_predict.merge(\n",
    "    df_score_modified,\n",
    "    how=\"left\"\n",
    ")\n",
    "\n",
    "df_menu_scores = df_menu_scores.sort_values(\n",
    "    by=[\"menu_yyyyww\", \"billing_agreement_id\", \"score_modified\"],\n",
    "    ascending=[True, True, False]\n",
    ")\n",
    "n = 10\n",
    "df_top_n_recommendations = df_menu_scores.groupby(\n",
    "    [\"menu_year\", \"menu_week\", \"menu_yyyyww\", \"billing_agreement_id\"]\n",
    ").head(n)\n",
    "\n",
    "df_top_n_recommendations = df_top_n_recommendations.merge(\n",
    "    df_recipes, how=\"left\"\n",
    ")\n",
    "\n",
    "df_top_n_recommendations.merge(df_recipes[[\"main_recipe_id\", \"recipe_name\"]])[[\n",
    "    \"billing_agreement_id\", \"menu_yyyyww\", \"recipe_name\", \"score_modified\"\n",
    "]].sort_values(by=[\"billing_agreement_id\", \"menu_yyyyww\"]).head(40)"
   ]
  }
 ],
 "metadata": {
  "kernelspec": {
   "display_name": ".venv",
   "language": "python",
   "name": "python3"
  },
  "language_info": {
   "codemirror_mode": {
    "name": "ipython",
    "version": 3
   },
   "file_extension": ".py",
   "mimetype": "text/x-python",
   "name": "python",
   "nbconvert_exporter": "python",
   "pygments_lexer": "ipython3",
   "version": "3.11.0"
  }
 },
 "nbformat": 4,
 "nbformat_minor": 2
}
