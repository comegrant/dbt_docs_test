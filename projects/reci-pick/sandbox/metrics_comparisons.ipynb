{
 "cells": [
  {
   "cell_type": "code",
   "execution_count": 1,
   "metadata": {},
   "outputs": [],
   "source": [
    "%load_ext autoreload\n",
    "%autoreload 2"
   ]
  },
  {
   "cell_type": "code",
   "execution_count": 2,
   "metadata": {},
   "outputs": [],
   "source": [
    "from reci_pick.db import get_serverless_spark_session\n",
    "spark = get_serverless_spark_session()"
   ]
  },
  {
   "cell_type": "markdown",
   "metadata": {},
   "source": [
    "# Explore data needed"
   ]
  },
  {
   "cell_type": "markdown",
   "metadata": {},
   "source": [
    "## Which users have ordered what recipe and when"
   ]
  },
  {
   "cell_type": "code",
   "execution_count": 3,
   "metadata": {},
   "outputs": [],
   "source": [
    "from constants.companies import get_company_by_code\n",
    "company_code = \"RT\"\n",
    "company_id = get_company_by_code(company_code).company_id\n",
    "start_year = 2023"
   ]
  },
  {
   "cell_type": "code",
   "execution_count": 5,
   "metadata": {},
   "outputs": [],
   "source": [
    "from reci_pick.db import get_data_from_sql\n",
    "from reci_pick.paths import TRAIN_SQL_DIR\n",
    "df_recipes_spark = get_data_from_sql(\n",
    "    spark,\n",
    "    TRAIN_SQL_DIR / \"all_recipes.sql\",\n",
    "    start_year=start_year,\n",
    "    company_id=company_id,\n",
    ")\n",
    "df_recipes = df_recipes_spark.toPandas()\n"
   ]
  },
  {
   "cell_type": "code",
   "execution_count": 6,
   "metadata": {},
   "outputs": [],
   "source": [
    "from reci_pick.db import get_data_from_sql\n",
    "from reci_pick.paths import TRAIN_SQL_DIR\n",
    "df_menu_recipes_spark = get_data_from_sql(\n",
    "    spark,\n",
    "    TRAIN_SQL_DIR / \"menu_recipes.sql\",\n",
    "    start_year=start_year,\n",
    "    company_id=company_id,\n",
    ")\n",
    "df_menu_recipes = df_menu_recipes_spark.toPandas()"
   ]
  },
  {
   "cell_type": "code",
   "execution_count": 7,
   "metadata": {},
   "outputs": [],
   "source": [
    "from reci_pick.db import get_data_from_sql\n",
    "from reci_pick.paths import TRAIN_SQL_DIR\n",
    "df_order_history_spark = get_data_from_sql(\n",
    "    spark,\n",
    "    TRAIN_SQL_DIR / \"order_history.sql\",\n",
    "    start_year=start_year,\n",
    "    company_id=company_id,\n",
    ")\n",
    "df_order_history = df_order_history_spark.toPandas()\n",
    "df_order_history[\"concept_combination_list\"] = df_order_history[\"concept_combinations\"].str.split(\", \").tolist()\n",
    "# Potentially remove recipes that are not in the look up table\n",
    "df_order_history = df_order_history[df_order_history[\"main_recipe_id\"].isin(df_recipes[\"main_recipe_id\"])]"
   ]
  },
  {
   "cell_type": "code",
   "execution_count": 8,
   "metadata": {},
   "outputs": [],
   "source": [
    "from reci_pick.train.baseline import encode_recipe_names\n",
    "id_to_embedding_lookup, id_to_name_lookup = encode_recipe_names(\n",
    "    df_recipes = df_recipes\n",
    ")"
   ]
  },
  {
   "cell_type": "code",
   "execution_count": 9,
   "metadata": {},
   "outputs": [],
   "source": [
    "from reci_pick.train.preprocessing import  split_train_test\n",
    "df_order_history_train, df_order_history_test, split_yyyyww = split_train_test(\n",
    "    df_order_history=df_order_history,\n",
    "    split_yyyyww=202503\n",
    ")\n",
    "\n",
    "df_users_to_predict = df_order_history_train[\n",
    "    df_order_history_train[\"billing_agreement_id\"]\n",
    "    .isin(df_order_history_test.billing_agreement_id.unique())\n",
    "]"
   ]
  },
  {
   "cell_type": "code",
   "execution_count": null,
   "metadata": {},
   "outputs": [],
   "source": [
    "from reci_pick.train.baseline import make_user_embedding_profile\n",
    "df_users_to_predict = df_order_history_train[\n",
    "    df_order_history_train[\"billing_agreement_id\"].isin(df_order_history_test.billing_agreement_id.unique())\n",
    "]\n",
    "user_positive_embeddings = make_user_embedding_profile(\n",
    "    df_purchase_history=df_users_to_predict, id_to_embedding_lookup=id_to_embedding_lookup\n",
    ")"
   ]
  },
  {
   "cell_type": "code",
   "execution_count": null,
   "metadata": {},
   "outputs": [],
   "source": [
    "import pandas as pd\n",
    "from reci_pick.train.preprocessing import get_menus_to_predict\n",
    "df_menu_to_predict = get_menus_to_predict(\n",
    "    df_menu_recipes=df_menu_recipes,\n",
    "    df_order_history_test=df_order_history_test\n",
    ")\n",
    "\n",
    "df_menu_to_predict\n"
   ]
  },
  {
   "cell_type": "code",
   "execution_count": null,
   "metadata": {},
   "outputs": [],
   "source": [
    "from reci_pick.train.baseline import make_menu_recommendations\n",
    "df_recommendations = make_menu_recommendations(\n",
    "    df_menu_to_predict=df_menu_to_predict,\n",
    "    user_positive_embeddings=user_positive_embeddings,\n",
    "    id_to_embedding_lookup=id_to_embedding_lookup,\n",
    "    id_to_name_lookup=id_to_name_lookup,\n",
    "    top_n=8\n",
    ")"
   ]
  },
  {
   "cell_type": "code",
   "execution_count": null,
   "metadata": {},
   "outputs": [],
   "source": [
    "df_recommendations.head()"
   ]
  },
  {
   "cell_type": "code",
   "execution_count": 14,
   "metadata": {},
   "outputs": [],
   "source": [
    "sylvia_agreement_id = 1350590"
   ]
  },
  {
   "cell_type": "code",
   "execution_count": 15,
   "metadata": {},
   "outputs": [],
   "source": [
    "from reci_pick.train.baseline import compute_precision\n",
    "df_precision_at_k = compute_precision(\n",
    "    df_order_history_test=df_order_history_test,\n",
    "    df_recommendations=df_recommendations\n",
    ")"
   ]
  },
  {
   "cell_type": "code",
   "execution_count": null,
   "metadata": {},
   "outputs": [],
   "source": [
    "df_precision_at_k.groupby(\"menu_week\")[\"num_purchased_recommendations\"].mean()"
   ]
  },
  {
   "cell_type": "code",
   "execution_count": null,
   "metadata": {},
   "outputs": [],
   "source": [
    "(df_precision_at_k[\"num_purchased_recommendations\"] >=1).shape"
   ]
  },
  {
   "cell_type": "code",
   "execution_count": null,
   "metadata": {},
   "outputs": [],
   "source": [
    "(df_precision_at_k[\"num_purchased_recommendations\"] >=1).mean()"
   ]
  },
  {
   "cell_type": "markdown",
   "metadata": {},
   "source": [
    "# Preselector version"
   ]
  },
  {
   "cell_type": "code",
   "execution_count": 17,
   "metadata": {},
   "outputs": [],
   "source": [
    "df_recipe_main_recipe_mapping = spark.sql(\n",
    "    \"select distinct recipe_id, main_recipe_id from prod.gold.dim_recipes\"\n",
    ").toPandas()\n",
    "\n",
    "recipe_id_to_main_recipe_id_lookup = df_recipe_main_recipe_mapping.set_index(\"recipe_id\").to_dict()[\"main_recipe_id\"]"
   ]
  },
  {
   "cell_type": "code",
   "execution_count": 18,
   "metadata": {},
   "outputs": [],
   "source": [
    "from reci_pick.paths import PROJECT_DIR\n",
    "DATA_DIR = PROJECT_DIR / \"data\""
   ]
  },
  {
   "cell_type": "code",
   "execution_count": 19,
   "metadata": {},
   "outputs": [],
   "source": [
    "from datetime import datetime\n",
    "from pandas import Timedelta\n",
    "import pytz\n",
    "def get_cut_off_date(\n",
    "    menu_year: int,\n",
    "    menu_week: int,\n",
    "    cut_off_weekday: int\n",
    "):\n",
    "    monday_menu_week = datetime.fromisocalendar(menu_year, menu_week, 1)\n",
    "    cut_off_date = monday_menu_week + Timedelta(days=-7) + Timedelta(days=cut_off_weekday)\n",
    "    cut_off_date = cut_off_date.astimezone(pytz.timezone(\"UTC\"))\n",
    "    return cut_off_date"
   ]
  },
  {
   "cell_type": "code",
   "execution_count": null,
   "metadata": {},
   "outputs": [],
   "source": [
    "import pandas as pd\n",
    "weeks = [3, 4, 5, 6, 7, 8]\n",
    "df_list = []\n",
    "for week in weeks:\n",
    "    print(f\"week = {week}\")\n",
    "    file_name = f\"{company_code}_20250{week}.parquet\"\n",
    "    df = pd.read_parquet(\n",
    "        DATA_DIR / f\"preselector_recs/{company_code}/{file_name}\"\n",
    "    )\n",
    "\n",
    "    cut_off_date = get_cut_off_date(\n",
    "        cut_off_weekday=2,\n",
    "        menu_week=week,\n",
    "        menu_year=2025\n",
    "    )\n",
    "\n",
    "    df[\"predicted_at\"] = pd.to_datetime(df[\"predicted_at\"])\n",
    "    df[\"is_before_cutoff\"] = df[\"predicted_at\"] < cut_off_date\n",
    "\n",
    "    df = df[df[\"is_before_cutoff\"]]\n",
    "    df = df.sort_values(by=\"predicted_at\", ascending=False)\n",
    "    df = df.drop_duplicates(subset=[\"agreement_id\", \"recipe_id\"], keep=\"first\")\n",
    "    df = df.sort_values(by=\"score\", ascending=False)\n",
    "    df_topn = df.groupby(\"agreement_id\").head(8)\n",
    "    df_top_n_aggregated = pd.DataFrame(df_topn.groupby([\"agreement_id\", \"predicted_at\"])[[\"recipe_id\", \"score\"]].agg(list)).reset_index()\n",
    "    df_top_n_aggregated[\"menu_year\"] = 2025\n",
    "    df_top_n_aggregated[\"menu_week\"] = week\n",
    "    df_list.append(df_top_n_aggregated)\n"
   ]
  },
  {
   "cell_type": "code",
   "execution_count": 21,
   "metadata": {},
   "outputs": [],
   "source": [
    "from reci_pick.helpers import get_dict_values\n",
    "def replace_recipe_id_with_main_recipe_id (\n",
    "    df_recommendations_preselector: pd.DataFrame,\n",
    ") -> pd.DataFrame:\n",
    "    main_recipe_id_list = []\n",
    "    for i in df_recommendations_preselector.itertuples():\n",
    "        recipe_ids = i.recipe_id\n",
    "        main_recipe_ids = get_dict_values(\n",
    "            look_up_dict=recipe_id_to_main_recipe_id_lookup,\n",
    "            key_list=recipe_ids\n",
    "        )\n",
    "        main_recipe_id_list.append(main_recipe_ids)\n",
    "    df_recommendations_preselector[\"main_recipe_ids\"] = pd.Series(main_recipe_id_list)\n",
    "    df_recommendations_preselector = df_recommendations_preselector.rename(columns={\"main_recipe_ids\": \"top_n_recipe_ids\"})\n",
    "\n",
    "    return df_recommendations_preselector"
   ]
  },
  {
   "cell_type": "code",
   "execution_count": 22,
   "metadata": {},
   "outputs": [],
   "source": [
    "df_concated = pd.concat(\n",
    "    df_list, ignore_index=True\n",
    ")\n",
    "df_concated = replace_recipe_id_with_main_recipe_id(df_concated)\n",
    "df_concated  = df_concated.rename(\n",
    "    columns={\n",
    "        \"agreement_id\": \"billing_agreement_id\",\n",
    "        \"main_recipe_ids\": \"top_n_recipe_ids\",\n",
    "    }\n",
    ")"
   ]
  },
  {
   "cell_type": "code",
   "execution_count": 23,
   "metadata": {},
   "outputs": [],
   "source": [
    "df_precision_preselector = compute_precision(\n",
    "    df_order_history_test=df_order_history_test,\n",
    "    df_recommendations=df_concated[df_concated.billing_agreement_id.isin(df_recommendations.billing_agreement_id)]\n",
    ")"
   ]
  },
  {
   "cell_type": "code",
   "execution_count": null,
   "metadata": {},
   "outputs": [],
   "source": [
    "df_precision_at_k.groupby(\n",
    "    [\"menu_week\"]\n",
    ")[\"num_purchased_recommendations\"].mean()"
   ]
  },
  {
   "cell_type": "code",
   "execution_count": null,
   "metadata": {},
   "outputs": [],
   "source": [
    "df_precision_preselector.groupby(\n",
    "    [\"menu_week\"]\n",
    ")[\"num_purchased_recommendations\"].mean()"
   ]
  },
  {
   "cell_type": "code",
   "execution_count": null,
   "metadata": {},
   "outputs": [],
   "source": [
    "(df_precision_preselector[\"num_purchased_recommendations\"] >=1).mean()"
   ]
  },
  {
   "cell_type": "code",
   "execution_count": null,
   "metadata": {},
   "outputs": [],
   "source": [
    "from reci_pick.train.preprocessing import get_top_n_dishes_per_concept\n",
    "df_top_n_dishes_per_concept = get_top_n_dishes_per_concept(\n",
    "    df_order_history=df_order_history,\n",
    "    top_n=10,\n",
    "    look_back_weeks=12,\n",
    "    split_yyyyww=None,\n",
    ")\n",
    "\n",
    "df_top_n_dishes_per_concept"
   ]
  },
  {
   "cell_type": "markdown",
   "metadata": {},
   "source": [
    "# Front End Version"
   ]
  },
  {
   "cell_type": "code",
   "execution_count": null,
   "metadata": {},
   "outputs": [],
   "source": [
    "from reci_pick.paths import PROJECT_DIR\n",
    "import os\n",
    "\n",
    "DATA_DIR = PROJECT_DIR / \"data\"\n",
    "result_dir = DATA_DIR / \"front_end\" / f\"{company_code}\"\n",
    "file_list = os.listdir(result_dir)\n",
    "file_list[-1]"
   ]
  },
  {
   "cell_type": "code",
   "execution_count": null,
   "metadata": {},
   "outputs": [],
   "source": [
    "file_full_path = result_dir / file_list[-1]\n",
    "df_recommendations_fe = pd.read_csv(file_full_path)\n",
    "df_recommendations_fe_top_8 = df_recommendations_fe[df_recommendations_fe[\"order_of_relevance\"] <= 8 ]\n",
    "df_recommendations_fe_top_8[\"product_id\"] = df_recommendations_fe_top_8.product_id.str.upper()"
   ]
  },
  {
   "cell_type": "code",
   "execution_count": 28,
   "metadata": {},
   "outputs": [],
   "source": [
    "df_recommendations_fe_agged = pd.DataFrame(\n",
    "    df_recommendations_fe_top_8.groupby([\"agreement_id\",\"year\",\"week\"])[[\"product_id\", \"order_of_relevance\"]].agg(list)\n",
    ").reset_index()"
   ]
  },
  {
   "cell_type": "code",
   "execution_count": null,
   "metadata": {},
   "outputs": [],
   "source": [
    "df_recommendations_fe_agged = df_recommendations_fe_agged.rename(\n",
    "    columns={\n",
    "        \"agreement_id\": \"billing_agreement_id\",\n",
    "        \"year\": \"menu_year\",\n",
    "        \"week\": \"menu_week\",\n",
    "    }\n",
    ")\n",
    "\n",
    "df_recommendations_fe_agged"
   ]
  },
  {
   "cell_type": "code",
   "execution_count": 30,
   "metadata": {},
   "outputs": [],
   "source": [
    "product_id_to_main_recipe_mapping = df_menu_recipes.set_index(\"product_id\")[\"main_recipe_id\"].to_dict()"
   ]
  },
  {
   "cell_type": "code",
   "execution_count": 31,
   "metadata": {},
   "outputs": [],
   "source": [
    "from reci_pick.helpers import get_dict_values\n",
    "def replace_product_id_with_main_recipe_id (\n",
    "    df_recommendations_fe: pd.DataFrame,\n",
    ") -> pd.DataFrame:\n",
    "    main_recipe_id_list = []\n",
    "    for i in df_recommendations_fe.itertuples():\n",
    "        product_ids = i.product_id\n",
    "        main_recipe_ids = get_dict_values(\n",
    "            look_up_dict=product_id_to_main_recipe_mapping,\n",
    "            key_list=product_ids\n",
    "        )\n",
    "        main_recipe_id_list.append(main_recipe_ids)\n",
    "    df_recommendations_fe[\"top_n_recipe_ids\"] = pd.Series(main_recipe_id_list)\n",
    "\n",
    "    return df_recommendations_fe"
   ]
  },
  {
   "cell_type": "code",
   "execution_count": null,
   "metadata": {},
   "outputs": [],
   "source": [
    "df_recommendations_fe_agged = replace_product_id_with_main_recipe_id(\n",
    "    df_recommendations_fe=df_recommendations_fe_agged\n",
    ")\n",
    "df_recommendations_fe_agged\n"
   ]
  },
  {
   "cell_type": "code",
   "execution_count": null,
   "metadata": {},
   "outputs": [],
   "source": [
    "df_precision_fe = compute_precision(\n",
    "    df_order_history_test=df_order_history_test,\n",
    "    df_recommendations=df_recommendations_fe_agged\n",
    ")\n",
    "\n",
    "df_precision_fe.groupby(\"menu_week\")[\"billing_agreement_id\"].nunique()"
   ]
  },
  {
   "cell_type": "code",
   "execution_count": null,
   "metadata": {},
   "outputs": [],
   "source": [
    "df_precision_fe.groupby(\"menu_week\")[\"num_purchased_recommendations\"].describe()"
   ]
  },
  {
   "cell_type": "code",
   "execution_count": 131,
   "metadata": {},
   "outputs": [],
   "source": [
    "sylvias_recs = df_precision_fe[df_precision_fe.billing_agreement_id == sylvia_agreement_id][\"top_n_recipe_ids\"].values\n",
    "recipes_recs = []\n",
    "for arr in sylvias_recs:\n",
    "    recs = get_dict_values(\n",
    "        key_list=arr,\n",
    "        look_up_dict=id_to_name_lookup\n",
    "    )\n",
    "    recipes_recs.append(recs)"
   ]
  },
  {
   "cell_type": "code",
   "execution_count": null,
   "metadata": {},
   "outputs": [],
   "source": [
    "recipes_recs"
   ]
  },
  {
   "cell_type": "code",
   "execution_count": null,
   "metadata": {},
   "outputs": [],
   "source": [
    "recipes_recs"
   ]
  },
  {
   "cell_type": "code",
   "execution_count": null,
   "metadata": {},
   "outputs": [],
   "source": []
  }
 ],
 "metadata": {
  "kernelspec": {
   "display_name": ".venv",
   "language": "python",
   "name": "python3"
  },
  "language_info": {
   "codemirror_mode": {
    "name": "ipython",
    "version": 3
   },
   "file_extension": ".py",
   "mimetype": "text/x-python",
   "name": "python",
   "nbconvert_exporter": "python",
   "pygments_lexer": "ipython3",
   "version": "3.11.0"
  }
 },
 "nbformat": 4,
 "nbformat_minor": 2
}
