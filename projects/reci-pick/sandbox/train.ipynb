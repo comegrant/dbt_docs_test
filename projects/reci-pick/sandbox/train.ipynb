{
 "cells": [
  {
   "cell_type": "code",
   "execution_count": 1,
   "metadata": {},
   "outputs": [],
   "source": [
    "import logging\n",
    "import sys\n",
    "\n",
    "# Configure basic logging\n",
    "date_strftime_format = \"%Y-%m-%y %H:%M:%S\"\n",
    "logging.basicConfig(\n",
    "    stream=sys.stdout,\n",
    "    level=logging.INFO,\n",
    "    format=\"%(asctime)s - %(name)s - %(levelname)s - %(message)s\",\n",
    "    datefmt=date_strftime_format\n",
    ")\n",
    "logger = logging.getLogger(__name__)\n",
    "logger.setLevel(logging.INFO)"
   ]
  },
  {
   "cell_type": "code",
   "execution_count": 2,
   "metadata": {},
   "outputs": [],
   "source": [
    "%load_ext autoreload\n",
    "%autoreload 2"
   ]
  },
  {
   "cell_type": "code",
   "execution_count": 3,
   "metadata": {},
   "outputs": [],
   "source": [
    "from constants.companies import get_company_by_code\n",
    "company_code = \"AMK\"\n",
    "company_id = get_company_by_code(company_code).company_id"
   ]
  },
  {
   "cell_type": "code",
   "execution_count": 4,
   "metadata": {},
   "outputs": [],
   "source": [
    "from reci_pick.train.configs.train_configs import get_company_train_configs\n",
    "company_configs = get_company_train_configs(company_code=company_code)\n",
    "start_yyyyww = company_configs.train_start_yyyyww\n"
   ]
  },
  {
   "cell_type": "code",
   "execution_count": null,
   "metadata": {},
   "outputs": [],
   "source": [
    "from reci_pick.train.data import get_dataframes\n",
    "\n",
    "df_recipes, df_menu_recipes, df_order_history = get_dataframes(\n",
    "    company_id=company_id,\n",
    "    start_yyyyww=start_yyyyww,\n",
    "    env=\"dev\"\n",
    ")\n"
   ]
  },
  {
   "cell_type": "code",
   "execution_count": null,
   "metadata": {},
   "outputs": [],
   "source": [
    "from reci_pick.preprocessing import preprocess_recipes_dataframe\n",
    "df_recipes_processed, fitted_preprocessor = preprocess_recipes_dataframe(\n",
    "    df_recipes=df_recipes,\n",
    "    company_configs=company_configs\n",
    ")\n",
    "\n",
    "df_recipes_processed.head()"
   ]
  },
  {
   "cell_type": "code",
   "execution_count": 7,
   "metadata": {},
   "outputs": [],
   "source": [
    "from reci_pick.train.training_data import get_recipe_embeddings\n",
    "id_to_recipe_embedding_lookup, _, = get_recipe_embeddings(\n",
    "    df_recipes_processed=df_recipes_processed,\n",
    "    recipe_numeric_features=company_configs.recipe_numeric_features,\n",
    ")"
   ]
  },
  {
   "cell_type": "code",
   "execution_count": 9,
   "metadata": {},
   "outputs": [],
   "source": [
    "from reci_pick.preprocessing import  split_train_test\n",
    "df_order_history_train, df_order_history_test, split_yyyyww = split_train_test(\n",
    "    df_order_history=df_order_history,\n",
    "    num_prediction_weeks=company_configs.num_validation_weeks\n",
    ")"
   ]
  },
  {
   "cell_type": "code",
   "execution_count": null,
   "metadata": {},
   "outputs": [],
   "source": [
    "from reci_pick.train.training_data import get_inputs_for_training\n",
    "user_embeddings_input, recipe_embeddings_input, df_train, user_embeddings_pooled_dict = get_inputs_for_training(\n",
    "    df_order_history_train=df_order_history_train,\n",
    "    df_menu_recipes=df_menu_recipes,\n",
    "    id_to_embedding_lookup=id_to_recipe_embedding_lookup,\n",
    "    pooling_method=\"mean\",\n",
    "    training_size=company_configs.training_size,\n",
    "    is_pad_popular_recipes=True,\n",
    "    min_recipes_per_user=5,\n",
    ")\n",
    "\n",
    "target = df_train[\"is_purchase\"].values"
   ]
  },
  {
   "cell_type": "code",
   "execution_count": null,
   "metadata": {},
   "outputs": [],
   "source": [
    "from reci_pick.train.model import train_nn_model\n",
    "from mlflow.types.schema import Schema, TensorSpec\n",
    "from mlflow.models import ModelSignature, infer_signature\n",
    "import numpy as np\n",
    "import mlflow\n",
    "import pytz\n",
    "from datetime import datetime\n",
    "\n",
    "mlflow.set_tracking_uri(f\"databricks://sylvia-liu\")\n",
    "mlflow.end_run()\n",
    "mlflow.set_experiment(\"/Shared/ml_experiments/reci-pick\")\n",
    "timezone = pytz.timezone(\"UTC\")\n",
    "timestamp_now = datetime.now(tz=timezone).strftime(\"%Y-%m-%d-%H:%M:%S\")\n",
    "run_name = f\"{company_code}_{timestamp_now}\"\n",
    "with mlflow.start_run(run_name=run_name) as run:\n",
    "    logging.info(\"Logging preprocessor...\")\n",
    "    signature_preprocessor = infer_signature(\n",
    "        model_input=df_recipes.head(1), model_output=df_recipes_processed.head(1)\n",
    "    )\n",
    "    mlflow.sklearn.log_model(\n",
    "        fitted_preprocessor,\n",
    "        artifact_path=\"preprocessor\",\n",
    "        signature=signature_preprocessor\n",
    "    )\n",
    "    trained_model, last_loss, last_accuracy = train_nn_model(\n",
    "        user_embeddings_input=user_embeddings_input,\n",
    "        recipe_embeddings_input=recipe_embeddings_input,\n",
    "        target=target\n",
    "    )\n",
    "    mlflow.log_metrics({\n",
    "        \"last_loss\": last_loss,\n",
    "        \"last_accuracy\": last_accuracy\n",
    "    })\n",
    "\n",
    "\n",
    "    input_schema = Schema(\n",
    "        [\n",
    "            TensorSpec(np.dtype(np.float32), (-1, user_embeddings_input.shape[1]), \"user_profile\"),\n",
    "            TensorSpec(np.dtype(np.float32), (-1, recipe_embeddings_input.shape[1]), \"recipe_profile\"),\n",
    "        ]\n",
    "    )\n",
    "    output_schema = Schema(\n",
    "        [\n",
    "            TensorSpec(np.dtype(np.float32), (-1, 1), \"predictions\"),  # Assuming the model outputs a single prediction per input\n",
    "        ]\n",
    "    )\n",
    "\n",
    "    signature = ModelSignature(inputs=input_schema, outputs=output_schema)\n",
    "    mlflow.tensorflow.log_model(\n",
    "        model=trained_model,\n",
    "        artifact_path=\"model\",\n",
    "        signature=signature\n",
    "    )\n",
    "\n",
    "    run_uuid = run.info.run_id"
   ]
  },
  {
   "cell_type": "code",
   "execution_count": null,
   "metadata": {},
   "outputs": [],
   "source": [
    "# mlflow.set_tracking_uri(f\"databricks://sylvia-liu\")\n",
    "# mlflow.set_registry_uri(\"databricks-uc\")\n",
    "# mlflow.register_model(f\"runs:/{run_uuid}/model\", \"dev.mloutputs.reci_pick_from_notebook\")\n",
    "# mlflow.register_model(f\"runs:/{run_uuid}/preprocessor\", registered_model_name_preprocessor)"
   ]
  },
  {
   "cell_type": "code",
   "execution_count": null,
   "metadata": {},
   "outputs": [],
   "source": [
    "# from reci_pick.paths import PROJECT_DIR\n",
    "# model_name = f\"{company_code}_{split_yyyyww}.keras\"\n",
    "# model_path = PROJECT_DIR / \"data\" / \"models\" / f\"{model_name}\"\n",
    "# trained_model.save(model_path)"
   ]
  },
  {
   "cell_type": "markdown",
   "metadata": {},
   "source": [
    "# Postprocessing & make recommendations"
   ]
  },
  {
   "cell_type": "code",
   "execution_count": 48,
   "metadata": {},
   "outputs": [],
   "source": [
    "# from tensorflow import keras\n",
    "# from reci_pick.paths import PROJECT_DIR\n",
    "# model_path = PROJECT_DIR / \"data\" / \"models\" / f\"{company_code}_202511.keras\"\n",
    "# trained_model = keras.models.load_model(model_path)"
   ]
  },
  {
   "cell_type": "code",
   "execution_count": null,
   "metadata": {},
   "outputs": [],
   "source": [
    "from reci_pick.train.metrics import get_recommendation_precisions\n",
    "df_precision, cold_start_precision, non_cold_start_precision = get_recommendation_precisions(\n",
    "    df_order_history_train=df_order_history_train,\n",
    "    df_order_history_test=df_order_history_test,\n",
    "    user_embeddings_pooled_dict=user_embeddings_pooled_dict,\n",
    "    id_to_recipe_embedding_lookup=id_to_recipe_embedding_lookup,\n",
    "    df_menu_recipes=df_menu_recipes,\n",
    "    trained_model=trained_model,\n",
    "    num_test_users=2000,\n",
    ")"
   ]
  },
  {
   "cell_type": "code",
   "execution_count": null,
   "metadata": {},
   "outputs": [],
   "source": [
    "df_precision"
   ]
  },
  {
   "cell_type": "code",
   "execution_count": null,
   "metadata": {},
   "outputs": [],
   "source": [
    "cold_start_precision"
   ]
  },
  {
   "cell_type": "code",
   "execution_count": null,
   "metadata": {},
   "outputs": [],
   "source": [
    "non_cold_start_precision"
   ]
  },
  {
   "cell_type": "code",
   "execution_count": null,
   "metadata": {},
   "outputs": [],
   "source": []
  }
 ],
 "metadata": {
  "kernelspec": {
   "display_name": ".venv",
   "language": "python",
   "name": "python3"
  },
  "language_info": {
   "codemirror_mode": {
    "name": "ipython",
    "version": 3
   },
   "file_extension": ".py",
   "mimetype": "text/x-python",
   "name": "python",
   "nbconvert_exporter": "python",
   "pygments_lexer": "ipython3",
   "version": "3.11.0"
  }
 },
 "nbformat": 4,
 "nbformat_minor": 2
}
