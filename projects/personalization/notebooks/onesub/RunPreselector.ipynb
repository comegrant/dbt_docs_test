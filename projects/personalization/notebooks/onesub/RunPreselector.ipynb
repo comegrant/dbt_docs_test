{
 "cells": [
  {
   "cell_type": "code",
   "execution_count": null,
   "id": "b898f187-1652-415e-9bb9-4cb7b07dc68c",
   "metadata": {},
   "outputs": [],
   "source": [
    "from cheffelo_personalization.basket_preselector.run import run as run_preselector_in_batch"
   ]
  },
  {
   "cell_type": "code",
   "execution_count": null,
   "id": "6245450b-cbbc-41d7-ab9a-362b0d38f570",
   "metadata": {},
   "outputs": [],
   "source": []
  },
  {
   "cell_type": "code",
   "execution_count": null,
   "id": "dad84dc5-b6f6-4788-a2a6-bcc8ddfcaf32",
   "metadata": {},
   "outputs": [],
   "source": []
  }
 ],
 "metadata": {
  "kernelspec": {
   "display_name": "Python 3 (ipykernel)",
   "language": "python",
   "name": "python3"
  },
  "language_info": {
   "codemirror_mode": {
    "name": "ipython",
    "version": 3
   },
   "file_extension": ".py",
   "mimetype": "text/x-python",
   "name": "python",
   "nbconvert_exporter": "python",
   "pygments_lexer": "ipython3",
   "version": "3.10.12"
  }
 },
 "nbformat": 4,
 "nbformat_minor": 5
}
