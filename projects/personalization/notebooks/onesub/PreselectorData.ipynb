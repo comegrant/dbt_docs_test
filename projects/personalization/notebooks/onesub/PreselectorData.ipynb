{
 "cells": [
  {
   "cell_type": "markdown",
   "id": "b591b5e4-2d06-4f9b-99b5-2be348db121a",
   "metadata": {},
   "source": [
    "### Imports and variables"
   ]
  },
  {
   "cell_type": "code",
   "execution_count": null,
   "id": "f5769484-e3d2-42ff-90e9-1d9b991facf7",
   "metadata": {
    "tags": []
   },
   "outputs": [],
   "source": [
    "import pandas as pd\n",
    "\n",
    "from lmkgroup_ds_utils.db.connector import DB\n",
    "from cheffelo_personalization.basket_preselector.utils.paths import SQL_DIR\n",
    "from cheffelo_personalization.basket_preselector.data.models.customer import Customer\n",
    "\n",
    "read_db = DB(db_name = 'analytics_db', local=True)"
   ]
  },
  {
   "cell_type": "code",
   "execution_count": null,
   "id": "7272bb46",
   "metadata": {},
   "outputs": [],
   "source": []
  },
  {
   "cell_type": "code",
   "execution_count": null,
   "id": "a2f7d633-436e-42f1-9002-cdf8cd7982f5",
   "metadata": {
    "tags": []
   },
   "outputs": [],
   "source": [
    "# Product types\n",
    "MEALBOX_PRODUCT_TYPE_ID = \"2f163d69-8ac1-6e0c-8793-ff0000804eb3\"\n",
    "FLEX_PRODUCT_TYPE_ID = \"cac333ea-ec15-4eea-9d8d-2b9ef60ec0c1\"\n",
    "\n",
    "# Preference types\n",
    "CONCEPT_PREFERENCES = \"009cf63e-6e84-446c-9ce4-afdbb6bb9687\"\n",
    "TASTE_PREFERENCE = \"4c679266-7dc0-4a8e-b72d-e9bb8dadc7eb\""
   ]
  },
  {
   "cell_type": "code",
   "execution_count": null,
   "id": "2867a925-01ef-46f1-a457-eec167635d10",
   "metadata": {},
   "outputs": [],
   "source": []
  },
  {
   "cell_type": "code",
   "execution_count": null,
   "id": "a5e3e640-079b-4494-88c3-d9d8dd496368",
   "metadata": {},
   "outputs": [],
   "source": [
    "agreement_id = 1235109"
   ]
  },
  {
   "cell_type": "code",
   "execution_count": null,
   "id": "a89997ee-52e0-4353-a729-4ff079922b24",
   "metadata": {
    "tags": []
   },
   "outputs": [],
   "source": [
    "company_id = \"6a2d0b60-84d6-4830-9945-58d518d27ac2\"\n",
    "weeks = {\n",
    "    \"week\": 31,\n",
    "    \"year\": 2023\n",
    "}\n",
    "\n",
    "customer_status = 10"
   ]
  },
  {
   "cell_type": "markdown",
   "id": "db20f666-e89e-4aa9-bf1d-377f6dd49fb6",
   "metadata": {},
   "source": [
    "### Get menu with product information"
   ]
  },
  {
   "cell_type": "markdown",
   "id": "3587a810-0fab-4cc0-af42-b3ffdc84bfd6",
   "metadata": {},
   "source": [
    "#### Product information with attributes"
   ]
  },
  {
   "cell_type": "code",
   "execution_count": null,
   "id": "901af242-a092-499b-b1b4-539a7bd8ed4a",
   "metadata": {
    "tags": []
   },
   "outputs": [],
   "source": [
    "get_product_information = \"\"\"\n",
    "    -- to avoid parameter sniffing\n",
    "    declare @company uniqueidentifier\n",
    "    select @company = '{company_id}'\n",
    "\n",
    "    SELECT\n",
    "        p.id AS product_id\n",
    "    ,\tp.name AS product_name\n",
    "    ,\tpt.product_type_name AS product_type\n",
    "    ,\tpv.id AS variation_id\n",
    "    ,\tpv.sku AS variation_sku\n",
    "    ,\tpvc.name AS variation_name\n",
    "    ,\tpvc.company_id AS company_id\n",
    "    ,\tISNULL(pvav.attribute_value, pvat.default_value) AS variation_meals\n",
    "    ,\tISNULL(pvav2.attribute_value, pvat2.default_value) AS variation_portions\n",
    "    ,\tISNULL(pvav4.attribute_value, pvat4.default_value) AS variation_price\n",
    "    ,\tROUND(CAST(ISNULL(pvav4.attribute_value, pvat4.default_value) AS FLOAT) * (1.0 + (CAST(ISNULL(pvav5.attribute_value, pvat5.default_value) AS FLOAT) / 100)), 2) AS variation_price_incl_vat\n",
    "    ,\tISNULL(pvav5.attribute_value, pvat5.default_value) AS variation_vat\n",
    "    FROM product_layer.product p\n",
    "    INNER JOIN product_layer.product_type pt ON pt.product_type_id = p.product_type_id\n",
    "    INNER JOIN product_layer.product_variation pv ON pv.product_id = p.id\n",
    "    INNER JOIN product_layer.product_variation_company pvc ON pvc.variation_id = pv.id\n",
    "    INNER JOIN cms.company c ON c.id = pvc.company_id\n",
    "\n",
    "    -- MEALS\n",
    "    LEFT JOIN product_layer.product_variation_attribute_template pvat ON pvat.product_type_id = p.product_type_id AND pvat.attribute_name = 'Meals'\n",
    "    LEFT JOIN product_layer.product_variation_attribute_value pvav ON pvav.attribute_id = pvat.attribute_id AND pvav.variation_id = pvc.variation_id AND pvav.company_id = pvc.company_id\n",
    "\n",
    "    -- PORTIONS\n",
    "    LEFT JOIN product_layer.product_variation_attribute_template pvat2 ON pvat2.product_type_id = p.product_type_id AND pvat2.attribute_name = 'Portions'\n",
    "    LEFT JOIN product_layer.product_variation_attribute_value pvav2 ON pvav2.attribute_id = pvat2.attribute_id AND pvav2.variation_id = pvc.variation_id AND pvav2.company_id = pvc.company_id\n",
    "\n",
    "    -- PRICE\n",
    "    LEFT JOIN product_layer.product_variation_attribute_template pvat4 ON pvat4.product_type_id = p.product_type_id AND pvat4.attribute_name = 'PRICE'\n",
    "    LEFT JOIN product_layer.product_variation_attribute_value pvav4 ON pvav4.attribute_id = pvat4.attribute_id AND pvav4.variation_id = pvc.variation_id AND pvav4.company_id = pvc.company_id\n",
    "\n",
    "    -- VAT\n",
    "    LEFT JOIN product_layer.product_variation_attribute_template pvat5 ON pvat5.product_type_id = p.product_type_id AND pvat5.attribute_name = 'VAT'\n",
    "    LEFT JOIN product_layer.product_variation_attribute_value pvav5 ON pvav5.attribute_id = pvat5.attribute_id AND pvav5.variation_id = pvc.variation_id AND pvav5.company_id = pvc.company_id\n",
    "\n",
    "    WHERE pvc.company_id=@company\n",
    "\"\"\".format(company_id=company_id)"
   ]
  },
  {
   "cell_type": "code",
   "execution_count": null,
   "id": "a9f7818e-764b-4800-ae47-3ed0f8fec63a",
   "metadata": {
    "tags": []
   },
   "outputs": [],
   "source": [
    "df_products = read_db.read_data(get_product_information)\n",
    "df_products.head()"
   ]
  },
  {
   "cell_type": "markdown",
   "id": "2f36bd34-9524-4e9c-b6ab-e9ce08b35d6d",
   "metadata": {},
   "source": [
    "#### Get concept and taste preferences for products"
   ]
  },
  {
   "cell_type": "code",
   "execution_count": null,
   "id": "cc40e2bb-0a28-4fb8-ac42-b15053b9ea6b",
   "metadata": {},
   "outputs": [],
   "source": [
    "get_recipe_preferences_query = \"\"\"\n",
    "declare @company uniqueidentifier = '{company_id}', @week int = '{week}', @year int = '{year}';\n",
    "\n",
    "WITH distinct_recipe_preferences AS (\n",
    "    SELECT DISTINCT rp.recipe_portion_id, rmt.recipe_name, p.preference_id, p.name\n",
    "        FROM pim.weekly_menus wm\n",
    "        INNER JOIN pim.menus m ON m.weekly_menus_id = wm.weekly_menus_id AND m.product_type_id in ('CAC333EA-EC15-4EEA-9D8D-2B9EF60EC0C1', '2F163D69-8AC1-6E0C-8793-FF0000804EB3')--Velg&Vrak dishes\n",
    "        INNER JOIN pim.menu_variations mv ON mv.menu_id = m.menu_id\n",
    "        INNER JOIN pim.menu_recipes mr ON mr.MENU_ID = m.menu_id AND mr.MENU_RECIPE_ORDER <= mv.MENU_NUMBER_DAYS\n",
    "        INNER JOIN pim.recipes r ON r.recipe_id = mr.RECIPE_ID\n",
    "        INNER JOIN cms.company c ON c.id = wm.company_id\n",
    "        INNER JOIN cms.country cont ON cont.id = c.country_id\n",
    "        INNER JOIN pim.recipe_metadata_translations rmt ON rmt.recipe_metadata_id = r.recipe_metadata_id AND rmt.language_id = cont.default_language_id\n",
    "        INNER JOIN pim.recipe_portions rp ON rp.RECIPE_ID = r.recipe_id AND rp.portion_id = mv.PORTION_ID\n",
    "        INNER JOIN pim.portions pt ON pt.PORTION_ID = rp.PORTION_ID\n",
    "        INNER JOIN pim.chef_ingredient_sections cis ON cis.RECIPE_PORTION_ID = rp.recipe_portion_id\n",
    "        INNER JOIN pim.chef_ingredients ci ON ci.CHEF_INGREDIENT_SECTION_ID = cis.CHEF_INGREDIENT_SECTION_ID\n",
    "        INNER JOIN pim.order_ingredients oi ON oi.ORDER_INGREDIENT_ID = ci.ORDER_INGREDIENT_ID\n",
    "        INNER JOIN pim.ingredients i ON i.ingredient_internal_reference = oi.INGREDIENT_INTERNAL_REFERENCE\n",
    "        INNER JOIN pim.find_ingredient_categories_parents icc ON icc.ingredient_id = i.ingredient_id\n",
    "        INNER JOIN pim.ingredient_category_preference icp ON icp.ingredient_category_id = icc.parent_category_id\n",
    "        INNER JOIN cms.preference p ON p.preference_id = icp.preference_id\n",
    "        AND p.preference_type_id = '4C679266-7DC0-4A8E-B72D-E9BB8DADC7EB'\n",
    "        INNER JOIN cms.preference_company pc ON pc.company_id = wm.company_id AND pc.preference_id = p.preference_id AND pc.is_active = 1\n",
    "        where m.RECIPE_STATE = 1 AND wm.menu_week = @week AND wm.menu_year = @year AND wm.company_id = @company\n",
    ")\n",
    "SELECT\n",
    "    recipe_portion_id,\n",
    "    STRING_AGG(convert(nvarchar(36), preference_id), ', ') as preference_ids,\n",
    "    STRING_AGG(name, ', ') as preferences\n",
    "    FROM distinct_recipe_preferences\n",
    "    GROUP BY recipe_portion_id\n",
    "\"\"\".format(company_id=company_id, week=weeks[\"week\"], year=weeks[\"year\"])"
   ]
  },
  {
   "cell_type": "code",
   "execution_count": null,
   "id": "60c22ca9-a231-48c8-a21e-adb4df5b12a0",
   "metadata": {},
   "outputs": [],
   "source": [
    "df_recipe_preferences = read_db.read_data(get_recipe_preferences_query)\n",
    "df_recipe_preferences.head()"
   ]
  },
  {
   "cell_type": "markdown",
   "id": "668aaddf-5fb3-49b7-9d8a-d5e680846d60",
   "metadata": {},
   "source": [
    "#### Get menu for given year, week and company"
   ]
  },
  {
   "cell_type": "code",
   "execution_count": null,
   "id": "07a8feac-b81d-49a2-8569-e5aaf18f0d0c",
   "metadata": {},
   "outputs": [],
   "source": [
    "get_menu_for_yearweek_company = \"\"\"\n",
    "declare @company uniqueidentifier, @week int, @year int\n",
    "select @company = '{company_id}', @week = '{week}', @year = '{year}'\n",
    "    \n",
    "SELECT\n",
    "    wm.menu_year as year\n",
    "    ,\twm.menu_week as week\n",
    "    ,\tc.company_name\n",
    "    ,\tm.menu_name as product\n",
    "    ,   m.product_type_id\n",
    "    ,\tmv.variation_name as variation\n",
    "    ,   mv.MENU_VARIATION_EXT_ID as variation_id\n",
    "    ,   mr.RECIPE_ID as menu_recipe\n",
    "    ,   r.main_recipe_id as recipe_id\n",
    "    ,   rp.recipe_portion_id\n",
    "    FROM pim.weekly_menus wm\n",
    "        INNER JOIN pim.menus m ON m.weekly_menus_id = wm.weekly_menus_id\n",
    "        AND m.product_type_id in ('CAC333EA-EC15-4EEA-9D8D-2B9EF60EC0C1', '2F163D69-8AC1-6E0C-8793-FF0000804EB3')\n",
    "        INNER JOIN pim.menu_variations mv ON mv.menu_id = m.menu_id\n",
    "        INNER JOIN pim.menu_recipes mr ON mr.MENU_ID = m.menu_id\n",
    "        INNER JOIN pim.recipes r ON r.recipe_id = mr.RECIPE_ID\n",
    "        INNER JOIN pim.recipe_portions rp ON rp.RECIPE_ID = r.recipe_id AND rp.portion_id = mv.PORTION_ID\n",
    "        INNER JOIN cms.company c ON c.id = wm.company_id\n",
    "        WHERE m.RECIPE_STATE = 1\n",
    "            AND wm.menu_year = @year \n",
    "            AND wm.menu_week = @week\n",
    "            AND c.id = @company\n",
    "        order by wm.menu_year, wm.menu_week, mv.MENU_VARIATION_EXT_ID\n",
    "\"\"\".format(company_id=company_id, week=weeks[\"week\"], year=weeks[\"year\"])"
   ]
  },
  {
   "cell_type": "code",
   "execution_count": null,
   "id": "5802ebb3-d555-4c17-8815-24c1ee159992",
   "metadata": {},
   "outputs": [],
   "source": [
    "df_menu = read_db.read_data(get_menu_for_yearweek_company)\n",
    "df_menu.head()"
   ]
  },
  {
   "cell_type": "markdown",
   "id": "2e31df48-f1a5-4001-837c-a3200c1220bb",
   "metadata": {},
   "source": [
    "#### Merge product information to menu"
   ]
  },
  {
   "cell_type": "code",
   "execution_count": null,
   "id": "5b54d917-5f3b-4074-a486-c6dc6a8a1703",
   "metadata": {},
   "outputs": [],
   "source": [
    "df_menu_products = df_menu.merge(df_products, on=\"variation_id\", how=\"left\")\n",
    "df_menu_products.head()"
   ]
  },
  {
   "cell_type": "code",
   "execution_count": null,
   "id": "c8599958-9d2c-4f0e-a1ee-2a9ed7102981",
   "metadata": {},
   "outputs": [],
   "source": [
    "df_menu_products.columns"
   ]
  },
  {
   "cell_type": "code",
   "execution_count": null,
   "id": "6579ae63-6b6d-4dc8-a8b6-dc6633d3c69c",
   "metadata": {},
   "outputs": [],
   "source": [
    "df_flex_dishes = df_menu_products[df_menu_products[\"product_type_id\"] == FLEX_PRODUCT_TYPE_ID.upper()]\n",
    "print(len(df_flex_dishes))\n",
    "df_flex_dishes.head()"
   ]
  },
  {
   "cell_type": "code",
   "execution_count": null,
   "id": "bebd8cfc-dbb2-4925-aeac-77ae2294496e",
   "metadata": {},
   "outputs": [],
   "source": [
    "df_menu_mealboxes = df_menu_products[df_menu_products[\"product_type_id\"] == MEALBOX_PRODUCT_TYPE_ID.upper()]\n",
    "print(len(df_mealboxes))\n",
    "df_menu_mealboxes.head()"
   ]
  },
  {
   "cell_type": "markdown",
   "id": "0672f56c-d984-4780-b921-4b67144f4871",
   "metadata": {},
   "source": [
    "### Merge preference information to menu products"
   ]
  },
  {
   "cell_type": "code",
   "execution_count": null,
   "id": "0a0263a1-fa02-4647-a0a7-abcb07b49ce6",
   "metadata": {},
   "outputs": [],
   "source": [
    "df_menu_products_with_preferences = df_flex_dishes.merge(df_recipe_preferences, how=\"left\", on=\"recipe_portion_id\")\n",
    "df_menu_products_with_preferences.head()"
   ]
  },
  {
   "cell_type": "code",
   "execution_count": null,
   "id": "a3bd563e-13f5-4021-aaa0-c89c36edbe8d",
   "metadata": {},
   "outputs": [],
   "source": [
    "len(df_menu_products_with_preferences)"
   ]
  },
  {
   "cell_type": "code",
   "execution_count": null,
   "id": "26ba32b3-1902-4b52-862f-4b7d6e19f4e0",
   "metadata": {},
   "outputs": [],
   "source": [
    "df_menu_products_with_preferences"
   ]
  },
  {
   "cell_type": "code",
   "execution_count": null,
   "id": "f28d60b7-4893-460e-91ed-d323ad057666",
   "metadata": {},
   "outputs": [],
   "source": []
  },
  {
   "cell_type": "markdown",
   "id": "83ec6f38-45a2-4145-a9d3-cb546ff254bc",
   "metadata": {
    "tags": []
   },
   "source": [
    "### Get general customer information"
   ]
  },
  {
   "cell_type": "code",
   "execution_count": null,
   "id": "411c430a-6d1e-4565-9de0-3ddfbfdd60d8",
   "metadata": {},
   "outputs": [],
   "source": [
    "# TODO: Add subscription product type id and the product id to fetch the portion size"
   ]
  },
  {
   "cell_type": "code",
   "execution_count": null,
   "id": "73d1bbf7-a8b5-4a3d-a4cb-09a9669b3a92",
   "metadata": {
    "tags": []
   },
   "outputs": [],
   "source": [
    "customers_information_for_company_query = \"\"\"\n",
    "    declare @company uniqueidentifier = '{company_id}';\n",
    "    declare @status varchar(20) = '{status}';\n",
    "    declare @concept_preference_id uniqueidentifier = '{concept_preference_id}';\n",
    "    declare @taste_preference_id uniqueidentifier = '{taste_preference_id}';\n",
    "\n",
    "    WITH concept_preferences AS (\n",
    "        SELECT\n",
    "            bap.agreement_id,\n",
    "            bap.preference_id,\n",
    "            pref.name preference_name,\n",
    "            bap.priority\n",
    "        from cms.billing_agreement_preference bap\n",
    "            JOIN cms.preference pref on pref.preference_id = bap.preference_id\n",
    "            WHERE pref.preference_type_id = @concept_preference_id\n",
    "    ), taste_preferences AS (\n",
    "        SELECT\n",
    "            bap.agreement_id,\n",
    "            bap.preference_id,\n",
    "            pref.name preference_name,\n",
    "            bap.priority\n",
    "        from cms.billing_agreement_preference bap\n",
    "            JOIN cms.preference pref on pref.preference_id = bap.preference_id\n",
    "            WHERE pref.preference_type_id = @taste_preference_id\n",
    "    )\n",
    "\n",
    "    SELECT ba.agreement_id\n",
    "            , ba.company_id\n",
    "            , ba.status\n",
    "            , taste_pref.preference_id taste_preference_id\n",
    "            , taste_pref.preference_name taste_preference_name\n",
    "            , concept_pref.preference_id concept_preference_id\n",
    "            , concept_pref.preference_name concept_preference_name\n",
    "            , bap.subscribed_product_variation_id\n",
    "            , bap.quantity\n",
    "        FROM cms.billing_agreement ba\n",
    "        LEFT JOIN taste_preferences taste_pref on taste_pref.agreement_id = ba.agreement_id\n",
    "        LEFT JOIN concept_preferences concept_pref on concept_pref.agreement_id = ba.agreement_id\n",
    "        LEFT JOIN cms.billing_agreement_basket bb on bb.agreement_id = ba.agreement_id\n",
    "        LEFT JOIN cms.billing_agreement_basket_product bap on bap.billing_agreement_basket_id = bb.id\n",
    "        WHERE status = @status and company_id = @company\n",
    "\"\"\".format(status=customer_status, company_id=company_id, concept_preference_id=CONCEPT_PREFERENCES, taste_preference_id=TASTE_PREFERENCE)"
   ]
  },
  {
   "cell_type": "code",
   "execution_count": null,
   "id": "7a24a35f-aaea-4342-a46c-24869ea11d3c",
   "metadata": {},
   "outputs": [],
   "source": []
  },
  {
   "cell_type": "code",
   "execution_count": null,
   "id": "89f2e867-cb84-4c25-a282-28097dbc3aba",
   "metadata": {
    "tags": []
   },
   "outputs": [],
   "source": [
    "df_customer_information = read_db.read_data(customers_information_for_company_query).dropna(subset=[\"taste_preference_id\", \"concept_preference_id\"], how='all')"
   ]
  },
  {
   "cell_type": "code",
   "execution_count": null,
   "id": "0f1dfc66-98a5-415c-9670-3b8b174daf1a",
   "metadata": {
    "tags": []
   },
   "outputs": [],
   "source": [
    "df_customer_information.head()"
   ]
  },
  {
   "cell_type": "code",
   "execution_count": null,
   "id": "4da36177-ac08-44d4-9989-a66f80cc2801",
   "metadata": {},
   "outputs": [],
   "source": []
  },
  {
   "cell_type": "markdown",
   "id": "89f8a7d6-138e-477c-b185-91248789cb07",
   "metadata": {},
   "source": [
    "#### Find mealbox variation"
   ]
  },
  {
   "cell_type": "code",
   "execution_count": null,
   "id": "688d2d1f-ad7b-46ea-a4a6-03ba2cd85199",
   "metadata": {
    "tags": []
   },
   "outputs": [],
   "source": [
    "df_customer_information_filtered = (\n",
    "    df_customer_information[df_customer_information[\"subscribed_product_variation_id\"]\n",
    "                            .isin(df_menu_mealboxes[\"variation_id\"])]\n",
    ")"
   ]
  },
  {
   "cell_type": "code",
   "execution_count": null,
   "id": "e8f0f4f0-bc93-419a-a6c8-389cf114f121",
   "metadata": {
    "tags": []
   },
   "outputs": [],
   "source": [
    "df_customers = df_customer_information_filtered.merge(df_menu_mealboxes, right_on=\"variation_id\", left_on=\"subscribed_product_variation_id\")"
   ]
  },
  {
   "cell_type": "code",
   "execution_count": null,
   "id": "88b2a5fc-347e-4e8a-b720-38f210b7bbf3",
   "metadata": {
    "tags": []
   },
   "outputs": [],
   "source": [
    "df_customers.head()"
   ]
  },
  {
   "cell_type": "markdown",
   "id": "86f224c7-0ef0-4a57-840b-c9a2a148f94a",
   "metadata": {},
   "source": [
    "#### For customers, get their planned baskets"
   ]
  },
  {
   "cell_type": "code",
   "execution_count": null,
   "id": "e5b4f9e4-2641-4d69-b6fe-bd1ad43c645c",
   "metadata": {},
   "outputs": [],
   "source": [
    "# Skipping this for now"
   ]
  },
  {
   "cell_type": "markdown",
   "id": "b29fe7cc-8c4a-4bd2-9f2f-21af6926af03",
   "metadata": {},
   "source": [
    "#### For customers, get their already delivered orders"
   ]
  },
  {
   "cell_type": "code",
   "execution_count": null,
   "id": "3169e0af-76a8-46a6-a3f4-d9a1401b7047",
   "metadata": {},
   "outputs": [],
   "source": [
    "# Skipping this for now"
   ]
  }
 ],
 "metadata": {
  "kernelspec": {
   "display_name": "Python 3 (ipykernel)",
   "language": "python",
   "name": "python3"
  },
  "language_info": {
   "codemirror_mode": {
    "name": "ipython",
    "version": 3
   },
   "file_extension": ".py",
   "mimetype": "text/x-python",
   "name": "python",
   "nbconvert_exporter": "python",
   "pygments_lexer": "ipython3",
   "version": "3.10.12"
  }
 },
 "nbformat": 4,
 "nbformat_minor": 5
}
