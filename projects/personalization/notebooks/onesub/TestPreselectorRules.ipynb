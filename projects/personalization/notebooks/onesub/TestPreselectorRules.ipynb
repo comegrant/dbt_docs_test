{
 "cells": [
  {
   "cell_type": "code",
   "execution_count": null,
   "id": "a7663ead-0a35-4ff7-960b-4f5df3df6b94",
   "metadata": {},
   "outputs": [],
   "source": [
    "import pandas as pd\n",
    "from lmkgroup_ds_utils.db.connector import DB\n",
    "from cheffelo_personalization.basket_preselector.data.customers import CustomerData\n",
    "from cheffelo_personalization.basket_preselector.pipeline import (\n",
    "    get_run_configs,\n",
    "    get_company_configs,\n",
    ")\n",
    "from cheffelo_personalization.basket_preselector.run import load_data_from_adb\n",
    "from cheffelo_personalization.basket_preselector.data.retriever import get_data_from_db\n",
    "from cheffelo_personalization.basket_preselector.data.processor import process_raw_data\n",
    "from cheffelo_personalization.basket_preselector.rules.engine import run_filter_rules"
   ]
  },
  {
   "cell_type": "code",
   "execution_count": null,
   "id": "711bdb4d-a728-4bc8-b6da-cc33a08b303b",
   "metadata": {},
   "outputs": [],
   "source": [
    "year = 2023\n",
    "week = 40\n",
    "company_id = \"6a2d0b60-84d6-4830-9945-58d518d27ac2\"\n",
    "num_quarantine_weeks = 4\n",
    "local = True\n",
    "config = \"default\"\n",
    "company = \"GL\"\n",
    "agreement_id = 1223454"
   ]
  },
  {
   "cell_type": "code",
   "execution_count": null,
   "id": "b00a2b2b-75f0-459a-a4bd-3ad05af74626",
   "metadata": {},
   "outputs": [],
   "source": [
    "run_config = get_run_configs()\n",
    "run_config"
   ]
  },
  {
   "cell_type": "markdown",
   "id": "2b9c9934-9963-4c18-ae86-2bdb8483b9d1",
   "metadata": {},
   "source": [
    "### Get data"
   ]
  },
  {
   "cell_type": "code",
   "execution_count": null,
   "id": "7317bb10-d293-4148-89cc-f74d54ca04b8",
   "metadata": {},
   "outputs": [],
   "source": [
    "(\n",
    "    df_customers,\n",
    "    df_menu,\n",
    "    df_recommendations,\n",
    "    df_preference_rules,\n",
    "    df_quarantined_dishes,\n",
    ") = load_data_from_adb(\n",
    "    local=local,\n",
    "    company=company,\n",
    "    year=year,\n",
    "    week=week,\n",
    "    config=config,\n",
    "    run_config=run_config,\n",
    ")"
   ]
  },
  {
   "cell_type": "code",
   "execution_count": null,
   "id": "750d226f-f57c-4518-b262-bb3b457760c8",
   "metadata": {},
   "outputs": [],
   "source": [
    "df_customers, df_flex_products, df_recommendations = process_raw_data(\n",
    "    df_customers, df_menu, df_recommendations, run_config\n",
    ")"
   ]
  },
  {
   "cell_type": "code",
   "execution_count": null,
   "id": "a89647ff-bd58-45fb-99a8-f6bc2f7959b8",
   "metadata": {},
   "outputs": [],
   "source": [
    "customer = df_customers[df_customers[\"agreement_id\"] == agreement_id].iloc[0]"
   ]
  },
  {
   "cell_type": "code",
   "execution_count": null,
   "id": "21d1dc4a-1751-443c-a77b-143cb0ed2316",
   "metadata": {},
   "outputs": [],
   "source": [
    "customer"
   ]
  },
  {
   "cell_type": "code",
   "execution_count": null,
   "id": "aecb7ec2-8172-4440-b52b-ca8b8d65d263",
   "metadata": {},
   "outputs": [],
   "source": [
    "df_rec = None\n",
    "if run_config[\"ranking\"][\"rec_engine\"]:\n",
    "    df_rec = df_recommendations.loc[\n",
    "        df_recommendations[\"agreement_id\"] == customer[\"agreement_id\"]\n",
    "    ]"
   ]
  },
  {
   "cell_type": "code",
   "execution_count": null,
   "id": "40ec023f-141c-4d0c-a594-8aa7633af5b8",
   "metadata": {},
   "outputs": [],
   "source": [
    "df_quarantined_dishes_for_customer = None\n",
    "if run_config[\"ranking\"][\"quarantine\"]:\n",
    "    df_quarantined_dishes_for_customer = df_quarantined_dishes.loc[\n",
    "        df_quarantined_dishes[\"agreement_id\"] == customer[\"agreement_id\"]\n",
    "    ]"
   ]
  },
  {
   "cell_type": "markdown",
   "id": "9e3b5654-ea8a-4dfe-9747-b24e586789ff",
   "metadata": {},
   "source": [
    "#### Run filter rules"
   ]
  },
  {
   "cell_type": "code",
   "execution_count": null,
   "id": "7755f9bc-fb1d-4465-bf77-c5e82c57f469",
   "metadata": {},
   "outputs": [],
   "source": [
    "debug_summary: dict[str, int] = {}\n",
    "possible_dishes, debug_summary = run_filter_rules(\n",
    "    possible_dishes=df_flex_products,\n",
    "    customer=customer,\n",
    "    run_config=run_config,\n",
    "    debug_summary=debug_summary,\n",
    ")"
   ]
  },
  {
   "cell_type": "markdown",
   "id": "a89aa16d-9036-4953-9c79-756cc8e2bfa0",
   "metadata": {},
   "source": [
    "## Dishes ranking"
   ]
  },
  {
   "cell_type": "code",
   "execution_count": null,
   "id": "fbf13343-6c7c-4084-ad76-f623b7da38fc",
   "metadata": {},
   "outputs": [],
   "source": [
    "possible_dishes[\"score\"] = 0\n",
    "possible_dishes"
   ]
  },
  {
   "cell_type": "code",
   "execution_count": null,
   "id": "cef2710c-9ebb-46cc-9758-1b6d71ea9176",
   "metadata": {},
   "outputs": [],
   "source": [
    "df_rec"
   ]
  },
  {
   "cell_type": "markdown",
   "id": "03eb7fae-01a1-48d6-96dd-cf0d396cc6a8",
   "metadata": {},
   "source": [
    "#### Rank dishes based on rec engine"
   ]
  },
  {
   "cell_type": "code",
   "execution_count": null,
   "id": "87d16b5a-da6c-44f5-8b91-cd95c3b022d6",
   "metadata": {},
   "outputs": [],
   "source": [
    "\"\"\"Rank dishes based on recommendation engine\n",
    "\n",
    "Args:\n",
    "    possible_dishes (pd.DataFrame): All possible dishes in menu\n",
    "    df_rec (pd.DataFrame): dataframe of recommendation scores\n",
    "    debug_summary (Dict): Summary of log\n",
    "\n",
    "Returns:\n",
    "    Tuple[pd.DataFrame, Dict]: possible dishes sorted by recommendation score and log summary\n",
    "\"\"\"\n",
    "if not df_rec.empty:\n",
    "    debug_summary[\"ranking_rec_engine\"] = \"Has rec engine score\"\n",
    "    possible_dishes_with_rec_engine = possible_dishes.merge(\n",
    "        df_rec[[\"product_id\", \"order_of_relevance\", \"order_of_relevance_cluster\"]],\n",
    "        on=\"product_id\",\n",
    "        how=\"left\",\n",
    "    )\n",
    "    possible_dishes_with_rec_engine[\"score\"] = possible_dishes_with_rec_engine[\"score\"] + possible_dishes_with_rec_engine[\"order_of_relevance_cluster\"]\n",
    "    debug_summary[\n",
    "        \"ranking_rec_engine\"\n",
    "    ] = \"Possible dishes reordered based on rec engine score\"\n",
    "    \n",
    "    possible_dishes = possible_dishes_with_rec_engine.sort_values(by=\"score\")"
   ]
  },
  {
   "cell_type": "code",
   "execution_count": null,
   "id": "4c90bd50-f852-4fe9-a5e8-2cd27a399e2c",
   "metadata": {},
   "outputs": [],
   "source": [
    "possible_dishes.head()"
   ]
  },
  {
   "cell_type": "markdown",
   "id": "2320e5fe-cd2a-430a-93bd-f26fce02b37d",
   "metadata": {},
   "source": [
    "### Rank dishes based on quarantine"
   ]
  },
  {
   "cell_type": "code",
   "execution_count": null,
   "id": "ed4dd559-63e4-4d63-9c8a-5e5eba4e97fa",
   "metadata": {},
   "outputs": [],
   "source": [
    "if not df_quarantined_dishes_for_customer.empty:\n",
    "    possible_dishes[\"score\"] = \n",
    "possible_dishes"
   ]
  },
  {
   "cell_type": "code",
   "execution_count": null,
   "id": "00e5b83c-6a7d-4543-a52d-72b7cccebb29",
   "metadata": {},
   "outputs": [],
   "source": [
    "# Compare basket history vs dishes in menu, dishes that the customer has recently ordered or will recieve in weeks before, rank to lower position\n",
    "\n",
    "# TODO: Implement with talks to recipes linking\n",
    "# One change from PIM, dishes can be linked together, same dish but small differences such in protein (recipes_linking).\n",
    "\n",
    "# Move dishes that has been bought last 3 weeks down 5 spots"
   ]
  },
  {
   "cell_type": "code",
   "execution_count": null,
   "id": "b93bab94-3871-4341-a501-cd3fb11542b2",
   "metadata": {},
   "outputs": [],
   "source": [
    "possible_dishes.loc[possible_dishes[\"main_recipe_id\"].isin(df_quarantined_dishes_for_customer[\"main_recipe_id\"]), \"score\"] += 5\n",
    "possible_dishes"
   ]
  },
  {
   "cell_type": "code",
   "execution_count": null,
   "id": "05995718-40f0-43c3-9f6b-954eb0e470d7",
   "metadata": {},
   "outputs": [],
   "source": []
  },
  {
   "cell_type": "code",
   "execution_count": null,
   "id": "2991d09b-5068-4802-abf0-9f5ba277d0f4",
   "metadata": {},
   "outputs": [],
   "source": []
  },
  {
   "cell_type": "code",
   "execution_count": null,
   "id": "13ef9d69-d35d-4a00-94c4-a2c2e6ea09c9",
   "metadata": {},
   "outputs": [],
   "source": []
  }
 ],
 "metadata": {
  "kernelspec": {
   "display_name": "Python 3 (ipykernel)",
   "language": "python",
   "name": "python3"
  },
  "language_info": {
   "codemirror_mode": {
    "name": "ipython",
    "version": 3
   },
   "file_extension": ".py",
   "mimetype": "text/x-python",
   "name": "python",
   "nbconvert_exporter": "python",
   "pygments_lexer": "ipython3",
   "version": "3.10.12"
  }
 },
 "nbformat": 4,
 "nbformat_minor": 5
}
