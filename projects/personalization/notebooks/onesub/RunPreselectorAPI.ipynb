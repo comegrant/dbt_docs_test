{
 "cells": [
  {
   "cell_type": "code",
   "execution_count": null,
   "id": "06f3ed35-81ef-411f-8770-7fa807b98d38",
   "metadata": {},
   "outputs": [],
   "source": [
    "import json\n",
    "import os.path as osp\n",
    "import pandas as pd\n",
    "\n",
    "from cheffelo_personalization.basket_preselector.main import run_preselector_batch, run_preselector_batch_api\n",
    "from cheffelo_personalization.basket_preselector.data.processor import process_api_data, process_raw_data, parse_recipe_information\n",
    "from cheffelo_personalization.basket_preselector.utils.paths import TEST_DATA_DIR\n",
    "from cheffelo_personalization.basket_preselector.data.customers import (\n",
    "    get_customers_with_mealbox,\n",
    ")\n",
    "from cheffelo_personalization.basket_preselector.utils.constants import (\n",
    "    FLEX_PRODUCT_TYPE_ID,\n",
    "    MEALBOX_PRODUCT_TYPE_ID,\n",
    ")"
   ]
  },
  {
   "cell_type": "code",
   "execution_count": null,
   "id": "6030514d-b881-4124-b0ed-f5ff34ad6717",
   "metadata": {},
   "outputs": [],
   "source": []
  },
  {
   "cell_type": "code",
   "execution_count": null,
   "id": "4f501ffa-116c-4a11-bfe2-d55a4387af67",
   "metadata": {},
   "outputs": [],
   "source": [
    "def open_file(fn):\n",
    "    with open(fn) as f:\n",
    "        data = json.load(f)\n",
    "    return data"
   ]
  },
  {
   "cell_type": "code",
   "execution_count": null,
   "id": "d415db6f-e773-442e-b0cc-5bf4e74a1c7b",
   "metadata": {},
   "outputs": [],
   "source": [
    "agreements = open_file(osp.join(TEST_DATA_DIR, \"agreements.json\"))\n",
    "product_information = open_file(osp.join(TEST_DATA_DIR, \"product_information.json\"))\n",
    "menu_products = open_file(osp.join(TEST_DATA_DIR, \"menu_products.json\"))\n",
    "recommendation_scores = open_file(osp.join(TEST_DATA_DIR, \"recommendation_scores.json\"))\n",
    "preference_rules = open_file(osp.join(TEST_DATA_DIR, \"product_preference_rules.json\"))"
   ]
  },
  {
   "cell_type": "code",
   "execution_count": null,
   "id": "112e7ac9-8a4d-4aae-88bb-99fcae0a9039",
   "metadata": {},
   "outputs": [],
   "source": [
    "results = run_preselector_batch_api(\n",
    "    agreements,\n",
    "    product_information,\n",
    "    menu_products,\n",
    "    recommendation_scores,\n",
    "    preference_rules\n",
    ")"
   ]
  },
  {
   "cell_type": "code",
   "execution_count": null,
   "id": "219b2d9e-26f1-4003-a0b9-75dc7505f60d",
   "metadata": {},
   "outputs": [],
   "source": [
    "results"
   ]
  },
  {
   "cell_type": "code",
   "execution_count": null,
   "id": "f6debe56-a158-440f-a3fe-a60068f50701",
   "metadata": {},
   "outputs": [],
   "source": [
    "menu_products"
   ]
  },
  {
   "cell_type": "code",
   "execution_count": null,
   "id": "fe9dcc79-ad1b-497a-9d5c-08785f5de35c",
   "metadata": {},
   "outputs": [],
   "source": []
  },
  {
   "cell_type": "code",
   "execution_count": null,
   "id": "c8c06dfe-d66b-40f5-8fdb-4bc8b54a7bb3",
   "metadata": {},
   "outputs": [],
   "source": [
    "df_products = pd.DataFrame(product_information)\n",
    "df_recipes = parse_recipe_information(recipe_information=menu_products)\n",
    "df_preference_rules = pd.DataFrame(preference_rules)\n",
    "\n",
    "df_menu = df_recipes.merge(df_products, on=\"variation_id\", how=\"left\").rename(\n",
    "    columns={\n",
    "        \"preferences\": \"preference_ids\",\n",
    "        \"product_id\": \"product_id\",\n",
    "        \"name\": \"variation\",\n",
    "        \"portions\": \"variation_portions\",\n",
    "        \"meals\": \"variation_meals\",\n",
    "        \"price\": \"variation_price\",\n",
    "        \"main_recipe_ids\": \"main_recipe_id\",\n",
    "    }\n",
    ")\n",
    "df_menu = df_menu.assign(\n",
    "    product_type_id=df_menu[\"product_type_id\"].apply(lambda s: s.upper())\n",
    ")\n",
    "\n",
    "df_customers = pd.DataFrame(agreements)"
   ]
  },
  {
   "cell_type": "code",
   "execution_count": null,
   "id": "6b442497-9cd2-4966-9bb1-dd552dd0bbb2",
   "metadata": {},
   "outputs": [],
   "source": [
    "df_menu.head()"
   ]
  },
  {
   "cell_type": "code",
   "execution_count": null,
   "id": "4c62a3f7-e55a-465b-b372-4395ce7ed314",
   "metadata": {},
   "outputs": [],
   "source": [
    "df_customers.head()"
   ]
  },
  {
   "cell_type": "code",
   "execution_count": null,
   "id": "ea11db28-b150-4a14-b4a9-c3477cbef9ec",
   "metadata": {},
   "outputs": [],
   "source": [
    "df_mealboxes = df_menu[\n",
    "    df_menu[\"product_type_id\"] == MEALBOX_PRODUCT_TYPE_ID.upper()\n",
    "][\n",
    "    [\n",
    "        \"product_id\",\n",
    "        \"variation\",\n",
    "        \"variation_id\",\n",
    "        \"variation_portions\",\n",
    "        \"variation_meals\",\n",
    "        \"variation_price\",\n",
    "    ]\n",
    "].drop_duplicates()\n",
    "df_mealboxes.head()"
   ]
  },
  {
   "cell_type": "code",
   "execution_count": null,
   "id": "0c578de7-d787-4fbd-b524-d40fe4c8cb1e",
   "metadata": {},
   "outputs": [],
   "source": [
    "df_flex_products = df_menu[\n",
    "    df_menu[\"product_type_id\"] == FLEX_PRODUCT_TYPE_ID.upper()\n",
    "]\n",
    "df_flex_products.head()"
   ]
  }
 ],
 "metadata": {
  "kernelspec": {
   "display_name": "Python 3 (ipykernel)",
   "language": "python",
   "name": "python3"
  },
  "language_info": {
   "codemirror_mode": {
    "name": "ipython",
    "version": 3
   },
   "file_extension": ".py",
   "mimetype": "text/x-python",
   "name": "python",
   "nbconvert_exporter": "python",
   "pygments_lexer": "ipython3",
   "version": "3.10.12"
  }
 },
 "nbformat": 4,
 "nbformat_minor": 5
}
