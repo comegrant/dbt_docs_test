{
 "cells": [
  {
   "cell_type": "code",
   "execution_count": null,
   "metadata": {},
   "outputs": [],
   "source": [
    "import sys\n",
    "import os, json\n",
    "\n",
    "path_parent = os.path.dirname(os.getcwd())\n",
    "os.chdir(path_parent)  # move up\n",
    "sys.path.append(os.getcwd() + \"\\\\cheffelo_personalization.menu_optimization\")\n",
    "import pandas as pd\n",
    "import numpy as np"
   ]
  },
  {
   "attachments": {},
   "cell_type": "markdown",
   "metadata": {},
   "source": [
    "Get Taxonomies csv"
   ]
  },
  {
   "cell_type": "code",
   "execution_count": null,
   "metadata": {},
   "outputs": [],
   "source": [
    "tax_df = pd.read_csv(\"notebooks/data_ex/20231_tax.csv\")\n",
    "tax_df = tax_df[[\"recipe_id\", \"average_rating\", \"TAXONOMIES_ID\"]]\n",
    "tax_df[\"TAXONOMIES_ID\"] = tax_df[\"TAXONOMIES_ID\"].apply(lambda x: f\"TAX_{x}\")\n",
    "tax_df"
   ]
  },
  {
   "cell_type": "code",
   "execution_count": null,
   "metadata": {},
   "outputs": [],
   "source": [
    "dummies = pd.get_dummies(tax_df[\"TAXONOMIES_ID\"])\n",
    "dummies_df = tax_df[[\"recipe_id\"]].join(dummies)\n",
    "out = dummies_df.groupby([\"recipe_id\"]).sum().reset_index()\n",
    "val = out.select_dtypes(exclude=[\"number\", \"bool_\", \"object_\"])\n",
    "val[val > 0] = 1\n",
    "out = out.set_index(\"recipe_id\")\n",
    "out"
   ]
  },
  {
   "cell_type": "code",
   "execution_count": null,
   "metadata": {},
   "outputs": [],
   "source": [
    "tax_avg = tax_df[[\"recipe_id\", \"average_rating\"]].groupby([\"recipe_id\"]).mean()\n",
    "tax_avg = tax_avg.fillna(3)\n",
    "tax_avg"
   ]
  },
  {
   "cell_type": "code",
   "execution_count": null,
   "metadata": {},
   "outputs": [],
   "source": [
    "tax_out = out.join(tax_avg)\n",
    "tax_out"
   ]
  },
  {
   "attachments": {},
   "cell_type": "markdown",
   "metadata": {},
   "source": [
    "Main Ingredients df"
   ]
  },
  {
   "cell_type": "code",
   "execution_count": null,
   "metadata": {},
   "outputs": [],
   "source": [
    "ing_df = pd.read_csv(\"notebooks/data_ex/20231_tax.csv\")\n",
    "ing_df = ing_df[[\"recipe_id\", \"RECIPE_MAIN_INGREDIENT_ID\"]]\n",
    "ing_df[\"RECIPE_MAIN_INGREDIENT_ID\"] = ing_df[\"RECIPE_MAIN_INGREDIENT_ID\"].apply(\n",
    "    lambda x: f\"ING_{x}\"\n",
    ")\n",
    "ing_df"
   ]
  },
  {
   "cell_type": "code",
   "execution_count": null,
   "metadata": {},
   "outputs": [],
   "source": []
  }
 ],
 "metadata": {
  "kernelspec": {
   "display_name": "dishes_gen",
   "language": "python",
   "name": "python3"
  },
  "language_info": {
   "codemirror_mode": {
    "name": "ipython",
    "version": 3
   },
   "file_extension": ".py",
   "mimetype": "text/x-python",
   "name": "python",
   "nbconvert_exporter": "python",
   "pygments_lexer": "ipython3",
   "version": "3.8.16"
  }
 },
 "nbformat": 4,
 "nbformat_minor": 2
}
