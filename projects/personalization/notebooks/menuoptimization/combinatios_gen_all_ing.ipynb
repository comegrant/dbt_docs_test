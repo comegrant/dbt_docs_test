{
 "cells": [
  {
   "cell_type": "code",
   "execution_count": null,
   "metadata": {},
   "outputs": [],
   "source": [
    "import sys\n",
    "import os, json\n",
    "\n",
    "path_parent = os.path.dirname(os.getcwd())\n",
    "os.chdir(path_parent)  # move up\n",
    "sys.path.append(os.getcwd() + \"\\\\cheffelo_personalization.menu_optimization\")\n",
    "import pandas as pd\n",
    "import numpy as np\n",
    "from optimization import *\n",
    "import math\n",
    "from lmkgroup_ds_utils.azure.storage import BlobConnector"
   ]
  },
  {
   "cell_type": "code",
   "execution_count": null,
   "metadata": {},
   "outputs": [],
   "source": [
    "def get_PIM_data():\n",
    "\n",
    "    datalake_handler = BlobConnector(\n",
    "    local = True\n",
    "    )   \n",
    "\n",
    "    url = \"https://gganalyticsdatalake.blob.core.windows.net/data-science/test-folder/MP20/PIM_RecipeBank_GL_QA\"\n",
    "    df = datalake_handler.download_json_to_df(url=url)\n",
    "\n",
    "    return df\n",
    "\n"
   ]
  },
  {
   "cell_type": "code",
   "execution_count": null,
   "metadata": {},
   "outputs": [],
   "source": [
    "ING_COLUMN = 'mainIngredientId'\n",
    "TAX_COLUMN = 'taxonomiesId'\n",
    "RECIPE_ID_COLUMN = 'recipeId'\n",
    "PRICE_COLUMN = 'price'\n",
    "RATING_COLUMN = 'averageRating'\n"
   ]
  },
  {
   "attachments": {},
   "cell_type": "markdown",
   "metadata": {},
   "source": [
    "## Input management"
   ]
  },
  {
   "cell_type": "code",
   "execution_count": null,
   "metadata": {},
   "outputs": [],
   "source": [
    "#Example of input json\n",
    "input_json = {\n",
    "\t\"companyId\": \"09ecd4f0-ae58-4539-8e8f-9275b1859a19\",\n",
    "\t\"week\": 16,\n",
    "\t\"year\": 2023,\n",
    "\t\"numRecipes\": 20,\n",
    "\t\"rules\":{\n",
    "\t\t\"taxonomies\":[\n",
    "\t\t\t{\n",
    "\t\t\t\t\"taxonomiesId\": 1019,\n",
    "\t\t\t\t\"quantity\": 10,\n",
    "\t\t\t\t\"taxonomyTypeId\": 1\n",
    "\t\t\t}\n",
    "\t\t\n",
    "\t\t],\n",
    "\t\t\"mainIngredients\": [\n",
    "\t\t\t{\n",
    "\t\t\t\t\"mainIngredientId\": 1,\n",
    "\t\t\t\t\"quantity\": 11\n",
    "\t\t\t}\n",
    "\t\t],\n",
    "\t\t\"minAverageRating\": 3.1,\n",
    "\t\t\"minRecipeCost\": 70,\n",
    "\t\t\"maxRecipeCost\": 120,\n",
    "\t\t\"excludeIngredients\":[3]\n",
    "\t}\n",
    "}"
   ]
  },
  {
   "cell_type": "code",
   "execution_count": null,
   "metadata": {},
   "outputs": [],
   "source": [
    "# Parse input data\n",
    "num_recipes = input_json[\"numRecipes\"]\n",
    "ingredients = input_json[\"rules\"][\"mainIngredients\"]\n",
    "taxonomies = input_json[\"rules\"][\"taxonomies\"]\n",
    "ingredients_to_exclude = input_json[\"rules\"][\"excludeIngredients\"]\n",
    "week = input_json[\"week\"]\n",
    "year = input_json[\"year\"]\n",
    "company_id = input_json[\"companyId\"]\n",
    "min_rating = input_json[\"rules\"][\"minAverageRating\"]\n",
    "min_recipe_cost = input_json[\"rules\"][\"minRecipeCost\"]\n",
    "max_recipe_cost = input_json[\"rules\"][\"maxRecipeCost\"]"
   ]
  },
  {
   "cell_type": "code",
   "execution_count": null,
   "metadata": {},
   "outputs": [],
   "source": [
    "ingredients"
   ]
  },
  {
   "cell_type": "code",
   "execution_count": null,
   "metadata": {},
   "outputs": [],
   "source": [
    "def get_ing_dist(ingredients, df):\n",
    "   \n",
    "    ings = []\n",
    "    not_full = []\n",
    "    for ing in ingredients:\n",
    "        output = {\n",
    "                ING_COLUMN: ing[ING_COLUMN],\n",
    "                'wanted': ing['quantity'],\n",
    "                'actual': df[f\"{ING_COLUMN}_{ing[ING_COLUMN]}\"].sum()\n",
    "            }\n",
    "        ings.append(output)\n",
    "        if output['wanted'] != output['actual']:\n",
    "            not_full.append(output[ING_COLUMN])\n",
    "            \n",
    "    return ings, not_full\n"
   ]
  },
  {
   "cell_type": "code",
   "execution_count": null,
   "metadata": {},
   "outputs": [],
   "source": [
    "def get_tax_dist(taxonomies, df):\n",
    "   \n",
    "    taxs = []\n",
    "    not_full = []\n",
    "    for tax in taxonomies:\n",
    "        \n",
    "        output = {\n",
    "                TAX_COLUMN: tax[TAX_COLUMN],\n",
    "                'taxonomyTypeId': tax['taxonomyTypeId'],\n",
    "                'wanted': tax['quantity'],\n",
    "                'actual': df[f\"{TAX_COLUMN}_{tax[TAX_COLUMN]}\"].sum()\n",
    "            }\n",
    "        taxs.append(output)\n",
    "        \n",
    "        if output['wanted'] != output['actual']:\n",
    "            not_full.append(output[TAX_COLUMN])\n",
    "    return taxs, not_full"
   ]
  },
  {
   "attachments": {},
   "cell_type": "markdown",
   "metadata": {},
   "source": [
    " Joining Taxonomies with Main ingredients"
   ]
  },
  {
   "cell_type": "code",
   "execution_count": null,
   "metadata": {},
   "outputs": [],
   "source": [
    "dist = {}\n",
    "\n",
    "#Ingredients first to prioritize\n",
    "for ingredient in ingredients:\n",
    "    dist[f\"{ING_COLUMN}_{ingredient[ING_COLUMN]}\"] = ingredient['quantity']\n",
    "\n",
    "for taxonomy in taxonomies:\n",
    "    dist[f\"{TAX_COLUMN}_{taxonomy[TAX_COLUMN]}\"] = taxonomy['quantity']\n",
    "\n",
    "\n"
   ]
  },
  {
   "attachments": {},
   "cell_type": "markdown",
   "metadata": {},
   "source": [
    "## Data Processing"
   ]
  },
  {
   "attachments": {},
   "cell_type": "markdown",
   "metadata": {},
   "source": [
    "It is assumed data from PIM comes with the formatation of the cell below"
   ]
  },
  {
   "cell_type": "code",
   "execution_count": null,
   "metadata": {},
   "outputs": [],
   "source": [
    "PIM_data = get_PIM_data().dropna()\n",
    "PIM_data"
   ]
  },
  {
   "cell_type": "code",
   "execution_count": null,
   "metadata": {},
   "outputs": [],
   "source": [
    "PIM_data.info()"
   ]
  },
  {
   "attachments": {},
   "cell_type": "markdown",
   "metadata": {},
   "source": [
    "Exclude columns based on exclude items and average rating"
   ]
  },
  {
   "cell_type": "code",
   "execution_count": null,
   "metadata": {},
   "outputs": [],
   "source": [
    "def exclude_recipes(df, min_rating, ingredients_to_exclude, min_recipe_cost, max_recipe_cost):\n",
    "\n",
    "    df_after_excluded = df[df[RATING_COLUMN] >= min_rating]\n",
    "    df_after_excluded = df_after_excluded[~df_after_excluded[ING_COLUMN].isin(ingredients_to_exclude)]\n",
    "    df_after_excluded = df_after_excluded[(df_after_excluded[PRICE_COLUMN] >= min_recipe_cost) & (df_after_excluded[PRICE_COLUMN] < max_recipe_cost)]\n",
    "    df_after_excluded = df_after_excluded[[RECIPE_ID_COLUMN, TAX_COLUMN, ING_COLUMN, RATING_COLUMN]]\n",
    "\n",
    "    return df_after_excluded"
   ]
  },
  {
   "cell_type": "code",
   "execution_count": null,
   "metadata": {},
   "outputs": [],
   "source": [
    "df_after_excluded = exclude_recipes(PIM_data, min_rating, ingredients_to_exclude, min_recipe_cost, max_recipe_cost)\n",
    "df_after_excluded"
   ]
  },
  {
   "cell_type": "code",
   "execution_count": null,
   "metadata": {},
   "outputs": [],
   "source": [
    "df_after_excluded[ING_COLUMN].unique()"
   ]
  },
  {
   "cell_type": "code",
   "execution_count": null,
   "metadata": {},
   "outputs": [],
   "source": [
    "df_grouped = df_after_excluded[[RECIPE_ID_COLUMN, RATING_COLUMN]].groupby(RECIPE_ID_COLUMN).mean()\n",
    "df_grouped"
   ]
  },
  {
   "cell_type": "code",
   "execution_count": null,
   "metadata": {},
   "outputs": [],
   "source": [
    "def get_dummies(df, df_grouped, dist):\n",
    "\n",
    "    dummies = pd.get_dummies(data=df, columns=[TAX_COLUMN, ING_COLUMN])\n",
    "    dummies_df = df[[RECIPE_ID_COLUMN]].set_index(RECIPE_ID_COLUMN).join(dummies.drop(RATING_COLUMN,axis = 1).set_index(RECIPE_ID_COLUMN))\n",
    "    out = dummies_df.groupby([RECIPE_ID_COLUMN]).sum()\n",
    "    out = out.applymap(lambda x: 1 if x > 0 else x)\n",
    "    out = out.join(df_grouped).sort_values(RATING_COLUMN, ascending = False)\n",
    "    out[\"n_overlay\"] = out[list(dist.keys())].sum(axis=1) - 1\n",
    "\n",
    "    return out\n"
   ]
  },
  {
   "cell_type": "code",
   "execution_count": null,
   "metadata": {},
   "outputs": [],
   "source": [
    "out = get_dummies(df_after_excluded, df_grouped, dist)"
   ]
  },
  {
   "cell_type": "code",
   "execution_count": null,
   "metadata": {},
   "outputs": [],
   "source": [
    "rest_df = out[out[\"n_overlay\"] < 0]\n",
    "wanted_df = out[out[\"n_overlay\"] >= 0]\n",
    "wanted_df\n"
   ]
  },
  {
   "cell_type": "code",
   "execution_count": null,
   "metadata": {},
   "outputs": [],
   "source": [
    "n_overlays = max(0, sum(dist.values()) - num_recipes)\n",
    "n_overlays"
   ]
  },
  {
   "cell_type": "code",
   "execution_count": null,
   "metadata": {},
   "outputs": [],
   "source": [
    "def update_dist(dist, df, wanted_df):\n",
    "    actual = {}\n",
    "    wanted_df = wanted_df.drop(df.index)\n",
    "    for protein in dist.keys():\n",
    "        new_quantity = dist[protein] - df[protein].sum()\n",
    "        if not new_quantity:\n",
    "            wanted_df = wanted_df[wanted_df[protein] == 0]\n",
    "            continue\n",
    "        actual[protein] = new_quantity\n",
    "    return actual, wanted_df"
   ]
  },
  {
   "cell_type": "code",
   "execution_count": null,
   "metadata": {},
   "outputs": [],
   "source": [
    "dist"
   ]
  },
  {
   "cell_type": "code",
   "execution_count": null,
   "metadata": {},
   "outputs": [],
   "source": [
    "wanted_df"
   ]
  },
  {
   "cell_type": "code",
   "execution_count": null,
   "metadata": {},
   "outputs": [],
   "source": [
    "final_df = pd.DataFrame()\n",
    "\n",
    "while len(final_df) < num_recipes and len(wanted_df) > 0:\n",
    "\n",
    "    mult_df = wanted_df[wanted_df['n_overlay'] == max(wanted_df['n_overlay'])]\n",
    "    row = mult_df.sample(1)\n",
    "    final_df = pd.concat([final_df, row])\n",
    "\n",
    "    dist, wanted_df = update_dist(dist, row, wanted_df)\n",
    "    print(dist)\n",
    "    wanted_df[\"n_overlay\"] = wanted_df[list(dist.keys())].sum(axis=1) - 1\n",
    "    wanted_df = wanted_df[wanted_df[\"n_overlay\"] >= 0]\n",
    "    \n",
    "    "
   ]
  },
  {
   "cell_type": "code",
   "execution_count": null,
   "metadata": {},
   "outputs": [],
   "source": [
    "len(final_df)"
   ]
  },
  {
   "cell_type": "code",
   "execution_count": null,
   "metadata": {},
   "outputs": [],
   "source": [
    "rest_df"
   ]
  },
  {
   "cell_type": "code",
   "execution_count": null,
   "metadata": {},
   "outputs": [],
   "source": [
    "# If there are not enough recipes, get random recipes with different main ingredients.\n",
    "if len(final_df) < num_recipes:\n",
    "    remaining = num_recipes - len(final_df)\n",
    "\n",
    "    remaining_df = rest_df.sample(remaining)\n",
    "\n",
    "    final_df = pd.concat([final_df, remaining_df])"
   ]
  },
  {
   "cell_type": "code",
   "execution_count": null,
   "metadata": {},
   "outputs": [],
   "source": [
    "len(final_df)"
   ]
  },
  {
   "cell_type": "code",
   "execution_count": null,
   "metadata": {},
   "outputs": [],
   "source": [
    "ingredients"
   ]
  },
  {
   "cell_type": "code",
   "execution_count": null,
   "metadata": {},
   "outputs": [],
   "source": [
    "def get_msg(ings_not_full, taxs_not_full):\n",
    "\n",
    "    \n",
    "\n",
    "    if not len(ings_not_full + taxs_not_full):\n",
    "        return (0, \"SUCCESS\")\n",
    "    \n",
    "    msg = ''\n",
    "    if len(taxs_not_full):\n",
    "    \n",
    "        msg += f\"TAXONOMIES {str(taxs_not_full)[1:-1]} not fulfilled.\"\n",
    "    if len(ings_not_full):\n",
    "        \n",
    "        msg += f\"INGREDIENTS {str(ings_not_full)[1:-1]} not fulfilled.\"\n",
    "\n",
    "    return (1,f\"WARNING! {msg}\")"
   ]
  },
  {
   "cell_type": "code",
   "execution_count": null,
   "metadata": {},
   "outputs": [],
   "source": [
    "ings_out, ings_not_full = get_ing_dist(ingredients, final_df)\n",
    "tax_out, taxs_not_full = get_tax_dist(taxonomies, final_df)\n",
    "status, msg = get_msg(ings_not_full, taxs_not_full)\n",
    "output = {\n",
    "        \"company_id\": company_id,\n",
    "        \"week\": week,\n",
    "        \"year\": year,\n",
    "        \"ingredients\": ings_out ,\n",
    "        \"taxonomies\": tax_out,\n",
    "        \"STATUS\": status,\n",
    "        \"STATUS_MSG\": msg,\n",
    "        \"recipes\": PIM_data[PIM_data[RECIPE_ID_COLUMN].isin(final_df.index)][\n",
    "            [RECIPE_ID_COLUMN, ING_COLUMN]\n",
    "        ].drop_duplicates().to_dict(orient=\"records\"),\n",
    "    }"
   ]
  },
  {
   "cell_type": "code",
   "execution_count": null,
   "metadata": {},
   "outputs": [],
   "source": [
    "output"
   ]
  }
 ],
 "metadata": {
  "kernelspec": {
   "display_name": "dishes_gen",
   "language": "python",
   "name": "python3"
  },
  "language_info": {
   "codemirror_mode": {
    "name": "ipython",
    "version": 3
   },
   "file_extension": ".py",
   "mimetype": "text/x-python",
   "name": "python",
   "nbconvert_exporter": "python",
   "pygments_lexer": "ipython3",
   "version": "3.8.16"
  }
 },
 "nbformat": 4,
 "nbformat_minor": 2
}
