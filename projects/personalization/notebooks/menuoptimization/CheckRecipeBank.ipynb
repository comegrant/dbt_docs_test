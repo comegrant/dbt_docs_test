{
 "cells": [
  {
   "cell_type": "code",
   "execution_count": null,
   "id": "6939061f-3254-4d43-a6e5-c6ccfb293cae",
   "metadata": {},
   "outputs": [],
   "source": [
    "import pandas as pd\n",
    "\n",
    "from lmkgroup_ds_utils.azure.storage import BlobConnector\n",
    "from lmkgroup_ds_utils.helpers.naming import camel2snake\n",
    "from cheffelo_personalization.menu_optimization.data import get_recipes_from_datalake, get_ingredients_from_datalake\n",
    "from cheffelo_personalization.menu_optimization.utils.constants import (\n",
    "    ING_COLUMN,\n",
    "    TAX_COLUMN,\n",
    "    RECIPE_ID_COLUMN,\n",
    "    RATING_COLUMN,\n",
    "    PRICE_COLUMN,\n",
    ")"
   ]
  },
  {
   "cell_type": "code",
   "execution_count": null,
   "id": "5d2cd181-b2bc-4fb3-941a-909d844a55d4",
   "metadata": {},
   "outputs": [],
   "source": [
    "COMPANY_ID = \"09ecd4f0-ae58-4539-8e8f-9275b1859a19\""
   ]
  },
  {
   "cell_type": "code",
   "execution_count": null,
   "id": "bd18b026-0964-40d5-baae-dc92749b5ebb",
   "metadata": {},
   "outputs": [],
   "source": [
    "datalake_handler = BlobConnector(local=True)"
   ]
  },
  {
   "cell_type": "code",
   "execution_count": null,
   "id": "0ca125ff-75c9-4a9f-ba7a-242b7fff2336",
   "metadata": {},
   "outputs": [],
   "source": [
    "df_recipes = get_recipes_from_datalake(company_id = COMPANY_ID, datalake_handler = datalake_handler)\n",
    "df_recipes.head()"
   ]
  },
  {
   "cell_type": "code",
   "execution_count": null,
   "id": "22a5efd0-adb6-411a-bb22-36dde71a225c",
   "metadata": {},
   "outputs": [],
   "source": [
    "df_ingredients = get_ingredients_from_datalake(company_id = COMPANY_ID, datalake_handler = datalake_handler)\n",
    "df_ingredients.head()"
   ]
  },
  {
   "cell_type": "code",
   "execution_count": null,
   "id": "a83edb0f-1369-4442-8ce4-0cfd919b0fab",
   "metadata": {},
   "outputs": [],
   "source": [
    "df_recipes[df_recipes[\"main_recipe_id\"] == 35042]"
   ]
  },
  {
   "cell_type": "code",
   "execution_count": null,
   "id": "0ff62dd7-f33d-48a6-a88e-c3dd8363537c",
   "metadata": {},
   "outputs": [],
   "source": [
    "len(df_recipes[\"recipe_id\"].unique())"
   ]
  },
  {
   "cell_type": "code",
   "execution_count": null,
   "id": "8f66faa2-8d38-419a-bd1f-7a1dd387ed2c",
   "metadata": {},
   "outputs": [],
   "source": [
    "len(df_recipes[\"main_recipe_id\"].unique())"
   ]
  },
  {
   "cell_type": "code",
   "execution_count": null,
   "id": "454be9dd-0aa0-4798-88f5-3a622f0abc84",
   "metadata": {},
   "outputs": [],
   "source": [
    "df_recipes[\"main_recipe_id\"]"
   ]
  },
  {
   "cell_type": "code",
   "execution_count": null,
   "id": "70d5f9bf-065b-4b88-88ff-dbefb3fee056",
   "metadata": {},
   "outputs": [],
   "source": [
    "df_recipes[[\"recipe_id\", \"main_recipe_id\"]].drop_duplicates().sort_values(\"main_recipe_id\")"
   ]
  },
  {
   "cell_type": "code",
   "execution_count": null,
   "id": "abde6c55-7c47-46bf-972f-a86846406288",
   "metadata": {},
   "outputs": [],
   "source": []
  },
  {
   "cell_type": "code",
   "execution_count": null,
   "id": "692acde3-1f5c-459d-81eb-e00dbccdc0a1",
   "metadata": {},
   "outputs": [],
   "source": []
  },
  {
   "cell_type": "code",
   "execution_count": null,
   "id": "f323a352-8caf-45ac-82bd-b465d5a66bb5",
   "metadata": {},
   "outputs": [],
   "source": [
    "df_ingredients[df_ingredients[\"recipe_id\"] == 55033]"
   ]
  }
 ],
 "metadata": {
  "kernelspec": {
   "display_name": "Python 3 (ipykernel)",
   "language": "python",
   "name": "python3"
  },
  "language_info": {
   "codemirror_mode": {
    "name": "ipython",
    "version": 3
   },
   "file_extension": ".py",
   "mimetype": "text/x-python",
   "name": "python",
   "nbconvert_exporter": "python",
   "pygments_lexer": "ipython3",
   "version": "3.10.12"
  }
 },
 "nbformat": 4,
 "nbformat_minor": 5
}
