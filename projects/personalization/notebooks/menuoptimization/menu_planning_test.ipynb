{
 "cells": [
  {
   "cell_type": "code",
   "execution_count": null,
   "metadata": {},
   "outputs": [],
   "source": [
    "import sys\n",
    "import os, json\n",
    "\n",
    "path_parent = os.path.dirname(os.getcwd())\n",
    "os.chdir(path_parent)  # move up\n",
    "sys.path.append(os.getcwd() + \"\\\\lmkgroup_menuoptimization\")\n",
    "import pandas as pd\n",
    "import numpy as np\n",
    "from optimization import *"
   ]
  },
  {
   "cell_type": "code",
   "execution_count": null,
   "metadata": {},
   "outputs": [],
   "source": [
    "f = open(\"notebooks/inputfile.json\", 'r')\n",
    "input_json = json.load(f)"
   ]
  },
  {
   "cell_type": "code",
   "execution_count": null,
   "metadata": {},
   "outputs": [],
   "source": [
    "\n",
    "output = generate_menu(input_json[\"numRecipes\"],input_json[\"rules\"], input_json[\"week\"], input_json[\"year\"], input_json[\"companyId\"], local = True)\n",
    "output"
   ]
  },
  {
   "cell_type": "code",
   "execution_count": null,
   "metadata": {},
   "outputs": [],
   "source": [
    "import pandas as pd\n",
    "\n",
    "df = pd.read_json('notebooks/data_ex/PIM_RecipeBank_GL_DEV.json').set_index('recipeId')\n",
    "df"
   ]
  },
  {
   "cell_type": "code",
   "execution_count": null,
   "metadata": {},
   "outputs": [],
   "source": [
    "df.loc[56513]"
   ]
  },
  {
   "cell_type": "code",
   "execution_count": null,
   "metadata": {},
   "outputs": [],
   "source": [
    "for recipe in output['recipes']:\n",
    "    print(df.loc[recipe['recipe_id']]['averageRating'].values[1])\n",
    "        "
   ]
  },
  {
   "cell_type": "code",
   "execution_count": null,
   "metadata": {},
   "outputs": [],
   "source": [
    "import numpy as\n",
    "for i in range(50):\n",
    "    output = generate_menu(input_json[\"numRecipes\"],input_json[\"rules\"], input_json[\"week\"], input_json[\"year\"], input_json[\"companyId\"], local = True)\n",
    "    for recipe in output['recipes']:\n",
    "        if df.loc[recipe['recipe_id']]['averageRating'].values[1] == np.nan:\n",
    "            print('YES SIR')"
   ]
  }
 ],
 "metadata": {
  "kernelspec": {
   "display_name": "dishes_gen",
   "language": "python",
   "name": "python3"
  },
  "language_info": {
   "codemirror_mode": {
    "name": "ipython",
    "version": 3
   },
   "file_extension": ".py",
   "mimetype": "text/x-python",
   "name": "python",
   "nbconvert_exporter": "python",
   "pygments_lexer": "ipython3",
   "version": "3.8.16"
  }
 },
 "nbformat": 4,
 "nbformat_minor": 2
}
