{
 "cells": [
  {
   "cell_type": "code",
   "execution_count": null,
   "metadata": {},
   "outputs": [],
   "source": [
    "import dotenv\n",
    "from aligned import FeatureStore\n",
    "\n",
    "dotenv.load_dotenv()"
   ]
  },
  {
   "cell_type": "code",
   "execution_count": null,
   "metadata": {},
   "outputs": [],
   "source": [
    "store = await FeatureStore.from_dir(\".\")"
   ]
  },
  {
   "cell_type": "code",
   "execution_count": null,
   "metadata": {},
   "outputs": [],
   "source": [
    "preds = await store.model(\"user_recipe_likability\").all_predictions().to_pandas()\n",
    "preds[preds[\"agreement_id\"] == 1312655]"
   ]
  },
  {
   "cell_type": "code",
   "execution_count": null,
   "metadata": {},
   "outputs": [],
   "source": [
    "recs = await store.model(\"rec_engine\").all_predictions().to_polars()"
   ]
  },
  {
   "cell_type": "code",
   "execution_count": null,
   "metadata": {},
   "outputs": [],
   "source": [
    "recs.collect()"
   ]
  },
  {
   "cell_type": "code",
   "execution_count": null,
   "metadata": {},
   "outputs": [],
   "source": [
    "recs.collect()"
   ]
  },
  {
   "cell_type": "code",
   "execution_count": null,
   "metadata": {},
   "outputs": [],
   "source": [
    "import polars as pl\n",
    "results = recs.filter(pl.col(\"order_of_relevance_cluster\") <= 8).collect()"
   ]
  },
  {
   "cell_type": "code",
   "execution_count": null,
   "metadata": {},
   "outputs": [],
   "source": [
    "import polars as pl\n",
    "data = pl.read_json(\"/Users/mats.mollestad/Downloads/PIM_RecipeBank_GL_Quality\")"
   ]
  },
  {
   "cell_type": "code",
   "execution_count": null,
   "metadata": {},
   "outputs": [],
   "source": [
    "data"
   ]
  },
  {
   "cell_type": "code",
   "execution_count": null,
   "metadata": {},
   "outputs": [],
   "source": [
    "data.write_parquet(\"/Users/mats.mollestad/Downloads/PIM_RecipeBank_GL_Quality.parquet\")"
   ]
  },
  {
   "cell_type": "code",
   "execution_count": null,
   "metadata": {},
   "outputs": [],
   "source": [
    "selected_results = results.filter(pl.col(\"predicted_at\") == pl.col(\"predicted_at\").max())\n",
    "selected_results"
   ]
  },
  {
   "cell_type": "code",
   "execution_count": null,
   "metadata": {},
   "outputs": [],
   "source": [
    "selected_results.select(pl.col(\"company_id\").unique())[0,0]"
   ]
  },
  {
   "cell_type": "code",
   "execution_count": null,
   "metadata": {},
   "outputs": [],
   "source": [
    "from datetime import datetime, date\n",
    "from cheffelo_personalization.rec_engine.data.recommendations import RecommendatedDish\n",
    "from cheffelo_personalization.rec_engine.data.recipe import RecipeTaxonomies\n",
    "\n",
    "class Orders:\n",
    "    year: int\n",
    "    week: int\n",
    "    agreement_id: int\n",
    "    order_id: str\n",
    "    recipe_name: str\n",
    "    product_id: str\n",
    "    product_name: str\n",
    "    gross_revenue_ex_vat: float\n",
    "    company_id: str\n",
    "    updated_at: datetime\n",
    "    cutoff_day: date\n",
    "    businessLogic_day: int\n",
    "    deviation_week: int\n",
    "    \n",
    "async def evaluate_recommendations(recommendations: pl.DataFrame, orders: pl.DataFrame):\n",
    "    # Get the ordered dishes for a week\n",
    "    # Get the shown recommendations\n",
    "    # Compute the number of recommended dishes and the purchased dishes\n",
    "    RecommendatedDish.raise_if_invalid(recommendations)\n",
    "    Orders.raise_if_invalid(orders)\n",
    "    \n",
    "    recommendation_for_order = recommendations.join(orders, on=[\"agreement_id\", \"year\", \"week\", \"product_id\"])\n",
    "    \n",
    "\n",
    "    \n",
    "\n",
    "from aligned import FeatureStore\n",
    "\n",
    "store = await FeatureStore.from_dir(\".\")\n",
    "\n",
    "entities = {\n",
    "    \"main_recipe_id\": [100, 101],\n",
    "    \"agreement_id\": [1312655, 1312655]\n",
    "}\n",
    "\n",
    "predictions = await store.model(\"user_recipe_likability\")\\\n",
    "    .predictions_for(entities)\\\n",
    "    .to_pandas()\n"
   ]
  },
  {
   "cell_type": "code",
   "execution_count": null,
   "metadata": {},
   "outputs": [],
   "source": [
    "from cheffelo_personalization.rec_engine.sources import adb_ml_output\n",
    "\n",
    "baseline_entities = adb_ml_output.fetch(\"SELECT agreement_id, year, week, product_id, run_timestamp as event_timestamp FROM ml_output.recommendations WHERE company_id = '09ECD4F0-AE58-4539-8E8F-9275B1859A19' AND run_timestamp >= '2023-11-15' AND order_of_relevance_cluster <= 8\")\n",
    "\n",
    "baseline = await store.model(\"rec_engine\").using_source(\n",
    "    adb_ml_output.table(\"recommendations\", mapping_keys={\"run_timestamp\": \"predicted_at\"})\n",
    ").predictions_for(baseline_entities, event_timestamp_column=\"event_timestamp\").to_polars()"
   ]
  },
  {
   "cell_type": "code",
   "execution_count": null,
   "metadata": {},
   "outputs": [],
   "source": [
    "baseline.collect().write_parquet(\"/Users/mats.mollestad/Desktop/Cheffelo/baseline_recommendations.parquet\")"
   ]
  },
  {
   "cell_type": "code",
   "execution_count": null,
   "metadata": {},
   "outputs": [],
   "source": [
    "baseline_selection = baseline.groupby([\"agreement_id\", \"year\", \"week\"]).agg([\n",
    "    pl.col(\"product_id\").alias(\"product_ids\")\n",
    "]).collect()"
   ]
  },
  {
   "cell_type": "code",
   "execution_count": null,
   "metadata": {},
   "outputs": [],
   "source": [
    "new_selection = selected_results.groupby([\"agreement_id\", \"year\", \"week\"]).agg([\n",
    "    pl.col(\"product_id\").alias(\"proudct_ids_new\")\n",
    "])"
   ]
  },
  {
   "cell_type": "code",
   "execution_count": null,
   "metadata": {},
   "outputs": [],
   "source": [
    "new_selection.join(baseline_selection, on=[\"agreement_id\", \"year\", \"week\"]).select(\n",
    "    interesection=pl.col(\"proudct_ids_new\").list.set_intersection(\"product_ids\").list.lengths(),\n",
    "    union = pl.col(\"proudct_ids_new\").list.set_union(\"product_ids\"),\n",
    ").with_columns(\n",
    "    jac_sim=pl.col(\"interesection\") / pl.col(\"union\").list.lengths(),\n",
    "    sim_prec=pl.col(\"interesection\") / 8,\n",
    ").describe()"
   ]
  },
  {
   "cell_type": "code",
   "execution_count": null,
   "metadata": {},
   "outputs": [],
   "source": [
    "from cheffelo_personalization.rec_engine.sources import azure_dl_creds\n",
    "\n",
    "pre_selector = await azure_dl_creds.csv_at(\"data-science/personalization/preselector/prod/results/09ECD4F0-AE58-4539-8E8F-9275B1859A19/2023-46/latest.csv\").to_pandas()"
   ]
  },
  {
   "cell_type": "code",
   "execution_count": null,
   "metadata": {},
   "outputs": [],
   "source": [
    "pre_selector"
   ]
  },
  {
   "cell_type": "code",
   "execution_count": null,
   "metadata": {},
   "outputs": [],
   "source": [
    "selection = await store.feature_view(\"weekly_products\").all().to_pandas()\n",
    "selection"
   ]
  },
  {
   "cell_type": "code",
   "execution_count": null,
   "metadata": {},
   "outputs": [],
   "source": [
    "selection[selection[\"is_default_raw\"].isna()]"
   ]
  },
  {
   "cell_type": "code",
   "execution_count": null,
   "metadata": {},
   "outputs": [],
   "source": [
    "selection[\"is_default\"].isna().value_counts()"
   ]
  },
  {
   "cell_type": "code",
   "execution_count": null,
   "metadata": {},
   "outputs": [],
   "source": [
    "selection[~selection[\"recipe_id\"].isna()]"
   ]
  },
  {
   "cell_type": "code",
   "execution_count": null,
   "metadata": {},
   "outputs": [],
   "source": [
    "selection[(selection[\"menu_week\"] == 50) & (selection[\"menu_year\"] == 2023) & (selection[\"company_id\"].str.lower() == \"09ecd4f0-ae58-4539-8e8f-9275b1859a19\")]"
   ]
  },
  {
   "cell_type": "code",
   "execution_count": null,
   "metadata": {},
   "outputs": [],
   "source": [
    "store.models.keys()"
   ]
  },
  {
   "cell_type": "code",
   "execution_count": null,
   "metadata": {},
   "outputs": [],
   "source": [
    "recs = await store.model(\"presented_recommendations\").all_predictions().to_pandas()"
   ]
  },
  {
   "cell_type": "code",
   "execution_count": null,
   "metadata": {},
   "outputs": [],
   "source": [
    "recs[\"company_id\"].unique()"
   ]
  },
  {
   "cell_type": "code",
   "execution_count": null,
   "metadata": {},
   "outputs": [],
   "source": [
    "gl_id = \"09ECD4F0-AE58-4539-8E8F-9275B1859A19\""
   ]
  },
  {
   "cell_type": "code",
   "execution_count": null,
   "metadata": {},
   "outputs": [],
   "source": [
    "recs[recs[\"company_id\"] == gl_id]"
   ]
  },
  {
   "cell_type": "code",
   "execution_count": null,
   "metadata": {},
   "outputs": [],
   "source": [
    "store.model(\"presented_recommendations\").model.predictions_view.application_source"
   ]
  },
  {
   "cell_type": "code",
   "execution_count": null,
   "metadata": {},
   "outputs": [],
   "source": [
    "await store.model(\"presented_recommendations\").using_source(\n",
    "    store.model(\"presented_recommendations\").model.predictions_view.application_source\n",
    ").upsert_predictions(\n",
    "    recs[recs[\"company_id\"] == gl_id]\n",
    ")"
   ]
  },
  {
   "cell_type": "code",
   "execution_count": null,
   "metadata": {},
   "outputs": [],
   "source": [
    "store.feature_views.keys()"
   ]
  },
  {
   "cell_type": "code",
   "execution_count": null,
   "metadata": {},
   "outputs": [],
   "source": [
    "from cheffelo_personalization.rec_engine.update_source import update_from_staging\n",
    "\n",
    "await update_from_staging([\n",
    "    \"ordered_recipes\"\n",
    "], store)"
   ]
  },
  {
   "cell_type": "code",
   "execution_count": null,
   "metadata": {},
   "outputs": [],
   "source": [
    "data = await store.feature_view(\"ordered_recipes\").all().to_polars()"
   ]
  },
  {
   "cell_type": "code",
   "execution_count": null,
   "metadata": {},
   "outputs": [],
   "source": [
    "data.collect()"
   ]
  },
  {
   "cell_type": "code",
   "execution_count": null,
   "metadata": {},
   "outputs": [],
   "source": [
    "rankings = await store.model(\"rec_engine\").predictions_for({\n",
    "})\n",
    "rankings"
   ]
  },
  {
   "cell_type": "code",
   "execution_count": null,
   "metadata": {},
   "outputs": [],
   "source": [
    "from cheffelo_personalization.rec_engine.run import format_ranking_recommendations\n",
    "\n",
    "formatted_recommendations = format_ranking_recommendations(\n",
    "    rankings, 8\n",
    ")\n",
    "formatted_recommendations[\"company_id\"] = rankings[\"company_id\"].unique()[0]\n",
    "formatted_recommendations[\"run_timestamp\"] = rankings[\"predicted_at\"].unique()[0]\n"
   ]
  },
  {
   "cell_type": "code",
   "execution_count": null,
   "metadata": {},
   "outputs": [],
   "source": [
    "formatted_recommendations"
   ]
  },
  {
   "cell_type": "code",
   "execution_count": null,
   "metadata": {},
   "outputs": [],
   "source": [
    "store.model(\"presented_recommendations\").model.predictions_view.application_source"
   ]
  },
  {
   "cell_type": "code",
   "execution_count": null,
   "metadata": {},
   "outputs": [],
   "source": [
    "formatted_recommendations[formatted_recommendations[\"agreement_id\"] == 1312655]"
   ]
  },
  {
   "cell_type": "code",
   "execution_count": null,
   "metadata": {},
   "outputs": [],
   "source": [
    "await store.model(\"presented_recommendations\").using_source(\n",
    "    store.model(\"presented_recommendations\").model.predictions_view.application_source\n",
    ").upsert_predictions(\n",
    "    formatted_recommendations\n",
    ")"
   ]
  },
  {
   "cell_type": "code",
   "execution_count": null,
   "metadata": {},
   "outputs": [],
   "source": [
    "store.feature_views.keys()"
   ]
  },
  {
   "cell_type": "code",
   "execution_count": null,
   "metadata": {},
   "outputs": [],
   "source": [
    "orders = await store.feature_view(\"ordered_recipes\").all().to_polars()"
   ]
  },
  {
   "cell_type": "code",
   "execution_count": null,
   "metadata": {},
   "outputs": [],
   "source": [
    "import polars as pl\n",
    "orders.filter(pl.col(\"agreement_id\") == 998320).collect()"
   ]
  },
  {
   "cell_type": "code",
   "execution_count": null,
   "metadata": {},
   "outputs": [],
   "source": [
    "formatted_recommendations[formatted_recommendations[\"agreement_id\"] == 998320]"
   ]
  },
  {
   "cell_type": "code",
   "execution_count": null,
   "metadata": {},
   "outputs": [],
   "source": [
    "rankings[(rankings[\"agreement_id\"] == 1091275) & (rankings[\"week\"] == 47)].sort_values(\"order_of_relevance_cluster\")"
   ]
  },
  {
   "cell_type": "code",
   "execution_count": null,
   "metadata": {},
   "outputs": [],
   "source": [
    "from cheffelo_personalization.rec_engine.evaluate import evaluate_predictions"
   ]
  },
  {
   "cell_type": "code",
   "execution_count": null,
   "metadata": {},
   "outputs": [],
   "source": [
    "await store.feature_view(\"recipe_taxonomies\").all().to_pandas()"
   ]
  },
  {
   "cell_type": "code",
   "execution_count": null,
   "metadata": {},
   "outputs": [],
   "source": [
    "from cheffelo_personalization.rec_engine.sources import model_preds\n",
    "predictions = await store.model(\"presented_recommendations\").using_source(model_preds.parquet_at(\"formatted_recommendations.parquet\")).all_predictions().to_pandas()"
   ]
  },
  {
   "cell_type": "code",
   "execution_count": null,
   "metadata": {},
   "outputs": [],
   "source": [
    "predictions"
   ]
  },
  {
   "cell_type": "code",
   "execution_count": null,
   "metadata": {},
   "outputs": [],
   "source": [
    "from cheffelo_personalization.sql_server import SqlServerConfig\n",
    "\n",
    "\n",
    "source = SqlServerConfig('').table(\n",
    "    \"latest_recommendations\", mapping_keys={\"run_timestamp\": \"predicted_at\"}\n",
    ")\n",
    "other = source.feature_identifier_for([\"predicted_at\"])\n",
    "\n",
    "renames = dict(zip([\"predicted_at\"], other))\n",
    "renames"
   ]
  },
  {
   "cell_type": "code",
   "execution_count": null,
   "metadata": {},
   "outputs": [],
   "source": [
    "rankings.rename(columns=renames)"
   ]
  },
  {
   "cell_type": "code",
   "execution_count": null,
   "metadata": {},
   "outputs": [],
   "source": [
    "import asyncpg\n",
    "from cheffelo_personalization.rec_engine.sources import segment_personas_db\n",
    "\n",
    "conn = await asyncpg.connect(segment_personas_db.url)"
   ]
  },
  {
   "cell_type": "code",
   "execution_count": null,
   "metadata": {},
   "outputs": [],
   "source": [
    "from cheffelo_personalization.rec_engine.sources import model_preds\n",
    "\n",
    "(await model_preds.parquet_at(\"recommendation_products.parquet\").to_polars()).head().collect()"
   ]
  },
  {
   "cell_type": "code",
   "execution_count": null,
   "metadata": {},
   "outputs": [],
   "source": [
    "(await model_preds.parquet_at(\"user_recipe_likability.parquet\").to_polars()).head().collect()"
   ]
  },
  {
   "cell_type": "code",
   "execution_count": null,
   "metadata": {},
   "outputs": [],
   "source": [
    "predictions.shape"
   ]
  },
  {
   "cell_type": "code",
   "execution_count": null,
   "metadata": {},
   "outputs": [],
   "source": [
    "await store.model(\"presented_recommendations\").upsert_predictions(predictions)"
   ]
  },
  {
   "cell_type": "code",
   "execution_count": null,
   "metadata": {},
   "outputs": [],
   "source": [
    "query = \"\"\"\n",
    "INSERT INTO recommendations(company_id, recommendation_json, agreement_id, run_timestamp)\n",
    "        VALUES ($1, $2, $3, $4)\n",
    "        ON CONFLICT (agreement_id)\n",
    "        DO UPDATE SET company_id = EXCLUDED.company_id, recommendation_json = EXCLUDED.recommendation_json, run_timestamp = EXCLUDED.run_timestamp\n",
    "\"\"\""
   ]
  },
  {
   "cell_type": "code",
   "execution_count": null,
   "metadata": {},
   "outputs": [],
   "source": [
    "import polars as pl\n",
    "predictions = pl.from_pandas(predictions).unique(\"agreement_id\")"
   ]
  },
  {
   "cell_type": "code",
   "execution_count": null,
   "metadata": {},
   "outputs": [],
   "source": [
    "predictions.with_columns(\n",
    "    pl.col(\"run_timestamp\").cast(pl.Utf8)\n",
    ")"
   ]
  },
  {
   "cell_type": "code",
   "execution_count": null,
   "metadata": {},
   "outputs": [],
   "source": [
    "await conn.executemany(query, predictions.with_columns(\n",
    "    pl.col(\"run_timestamp\").cast(pl.Utf8)\n",
    ").select([\"company_id\", \"recommendation_json\", \"agreement_id\", \"run_timestamp\"]).to_numpy())"
   ]
  },
  {
   "cell_type": "code",
   "execution_count": null,
   "metadata": {},
   "outputs": [],
   "source": [
    "taxonomies = await store.feature_view(\"recipe_taxonomies\").features_for({\n",
    "    \"main_recipe_id\": rankings[\"main_recipe_id\"].unique()\n",
    "}).to_pandas()"
   ]
  },
  {
   "cell_type": "code",
   "execution_count": null,
   "metadata": {},
   "outputs": [],
   "source": [
    "taxonomies"
   ]
  },
  {
   "cell_type": "code",
   "execution_count": null,
   "metadata": {},
   "outputs": [],
   "source": [
    "joined = predictions.merge(taxonomies, how=\"inner\", on=\"recipe_id\")"
   ]
  },
  {
   "cell_type": "code",
   "execution_count": null,
   "metadata": {},
   "outputs": [],
   "source": [
    "joined"
   ]
  },
  {
   "cell_type": "code",
   "execution_count": null,
   "metadata": {},
   "outputs": [],
   "source": [
    "crate_taxonomies = joined.groupby([\"agreement_id\", \"year\", \"week\"])[\"recipe_taxonomies\"].apply(lambda group: \",\".join(group)).str.split(\",\").reset_index()"
   ]
  },
  {
   "cell_type": "code",
   "execution_count": null,
   "metadata": {},
   "outputs": [],
   "source": [
    "with_count = crate_taxonomies.assign(\n",
    "    unique_taxonomie_count=crate_taxonomies[\"recipe_taxonomies\"].apply(lambda row: len(set(row)))\n",
    ")"
   ]
  },
  {
   "cell_type": "code",
   "execution_count": null,
   "metadata": {},
   "outputs": [],
   "source": [
    "with_count"
   ]
  },
  {
   "cell_type": "code",
   "execution_count": null,
   "metadata": {},
   "outputs": [],
   "source": [
    "set(with_count[\"recipe_taxonomies\"].iloc[0])"
   ]
  },
  {
   "cell_type": "code",
   "execution_count": null,
   "metadata": {},
   "outputs": [],
   "source": [
    "from cheffelo_personalization.rec_engine.sources import adb\n",
    "\n",
    "baseline_preds = await store.model(\"rec_engine\").using_source(\n",
    "    adb.with_schema(\"ml_output\").table(\"latest_recommendations\", mapping_keys={\n",
    "        \"run_timestamp\": \"predicted_at\",\n",
    "        \"product_id\": \"recipe_id\"\n",
    "    })\n",
    ").all_predictions().cached_at(\"/Users/mats.mollestad/Desktop/Cheffelo/latest_recommendations_2023_11_7.parquet\").to_pandas()"
   ]
  },
  {
   "cell_type": "code",
   "execution_count": null,
   "metadata": {},
   "outputs": [],
   "source": [
    "baseline_preds"
   ]
  },
  {
   "cell_type": "code",
   "execution_count": null,
   "metadata": {},
   "outputs": [],
   "source": [
    "baseline_subset = baseline_preds[baseline_preds[\"order_of_relevance_cluster\"] < 4]"
   ]
  },
  {
   "cell_type": "code",
   "execution_count": null,
   "metadata": {},
   "outputs": [],
   "source": [
    "predictions"
   ]
  },
  {
   "cell_type": "code",
   "execution_count": null,
   "metadata": {},
   "outputs": [],
   "source": [
    "product_recipe_map = (predictions[\"product_id\"] + predictions[\"year\"].astype(str) + predictions[\"week\"].astype(str) + \":\" + predictions[\"recipe_id\"].astype(str)).unique()"
   ]
  },
  {
   "cell_type": "code",
   "execution_count": null,
   "metadata": {},
   "outputs": [],
   "source": [
    "product_recipe_map = {row.split(\":\")[0]: row.split(\":\")[1] for row in product_recipe_map }"
   ]
  },
  {
   "cell_type": "code",
   "execution_count": null,
   "metadata": {},
   "outputs": [],
   "source": [
    "baseline_subset = baseline_subset.assign(\n",
    "    recipe_id=baseline_subset[[\"product_id\", \"year\", \"week\"]].apply(\n",
    "        lambda value: product_recipe_map.get(\n",
    "            value[\"product_id\"] + str(value[\"year\"]) + str(value[\"week\"])\n",
    "        ), axis=1\n",
    "    )\n",
    ")"
   ]
  },
  {
   "cell_type": "code",
   "execution_count": null,
   "metadata": {},
   "outputs": [],
   "source": [
    "baseline_subset[\"recipe_id\"].isnull().value_counts()"
   ]
  },
  {
   "cell_type": "code",
   "execution_count": null,
   "metadata": {},
   "outputs": [],
   "source": [
    "baseline_subset = baseline_subset[~baseline_subset[\"recipe_id\"].isnull()]\n",
    "baseline_subset[\"recipe_id\"] = baseline_subset[\"recipe_id\"].astype(\"int\")"
   ]
  },
  {
   "cell_type": "code",
   "execution_count": null,
   "metadata": {},
   "outputs": [],
   "source": [
    "baseline_subset"
   ]
  },
  {
   "cell_type": "code",
   "execution_count": null,
   "metadata": {},
   "outputs": [],
   "source": [
    "predictions[\"agreement_id\"].unique().shape"
   ]
  },
  {
   "cell_type": "code",
   "execution_count": null,
   "metadata": {},
   "outputs": [],
   "source": [
    "baseline_subset[\"agreement_id\"].unique().shape"
   ]
  },
  {
   "cell_type": "code",
   "execution_count": null,
   "metadata": {},
   "outputs": [],
   "source": [
    "predictions[\"recipe_id\"].unique().shape"
   ]
  },
  {
   "cell_type": "code",
   "execution_count": null,
   "metadata": {},
   "outputs": [],
   "source": [
    "baseline_subset[\"recipe_id\"].unique().shape"
   ]
  },
  {
   "cell_type": "code",
   "execution_count": null,
   "metadata": {},
   "outputs": [],
   "source": [
    "baseline_subset"
   ]
  },
  {
   "cell_type": "code",
   "execution_count": null,
   "metadata": {},
   "outputs": [],
   "source": [
    "import pandas as pd\n",
    "\n",
    "def evaluate_predictions(\n",
    "    predictions: pd.DataFrame,\n",
    "    recipe_taxonomies: pd.DataFrame\n",
    ") -> None:\n",
    "    \n",
    "    joined = predictions.merge(recipe_taxonomies, how=\"inner\", on=\"main_recipe_id\")\n",
    "    crate_taxonomies = joined.groupby([\"agreement_id\", \"year\", \"week\"])[\n",
    "        \"recipe_taxonomies\"\n",
    "    ].apply(lambda group: \",\".join(group)).str.split(\",\").reset_index()\n",
    "\n",
    "    return crate_taxonomies.assign(\n",
    "        unique_taxonomie_count=crate_taxonomies[\"recipe_taxonomies\"].apply(lambda row: len(set(row)))\n",
    "    )"
   ]
  },
  {
   "cell_type": "code",
   "execution_count": null,
   "metadata": {},
   "outputs": [],
   "source": [
    "baseline_with_recipe_id = baseline_preds.assign(\n",
    "    recipe_id=baseline_preds[[\"product_id\", \"year\", \"week\"]].apply(\n",
    "        lambda value: product_recipe_map.get(\n",
    "            value[\"product_id\"] + str(value[\"year\"]) + str(value[\"week\"])\n",
    "        ), axis=1\n",
    "    )\n",
    ")\n",
    "baseline_with_recipe_id = baseline_with_recipe_id[~baseline_with_recipe_id[\"recipe_id\"].isnull()]"
   ]
  },
  {
   "cell_type": "code",
   "execution_count": null,
   "metadata": {},
   "outputs": [],
   "source": [
    "baseline_with_recipe_id.shape"
   ]
  },
  {
   "cell_type": "code",
   "execution_count": null,
   "metadata": {},
   "outputs": [],
   "source": [
    "# Choosing 3 - 8 dishes\n",
    "for i in range(2, 8):\n",
    "    print(f\"Choosing {i}\")\n",
    "    print(\"\\nNew version\")\n",
    "    print(evaluate_predictions(rankings[rankings[\"order_of_relevance_cluster\"] < i], taxonomies)[\"unique_taxonomie_count\"].describe())\n",
    "    # print(\"\\nBaseline\")\n",
    "    # print(evaluate_predictions(baseline_with_recipe_id[baseline_with_recipe_id[\"order_of_relevance_cluster\"] < i + 1], taxonomies)[\"unique_taxonomie_count\"].describe())\n"
   ]
  },
  {
   "cell_type": "code",
   "execution_count": null,
   "metadata": {},
   "outputs": [],
   "source": [
    "baseline_with_recipe_id[\"recipe_id\"] = baseline_with_recipe_id[\"recipe_id\"].astype(\"int\")"
   ]
  },
  {
   "cell_type": "code",
   "execution_count": null,
   "metadata": {},
   "outputs": [],
   "source": [
    "import pandas as pd\n",
    "def recipe_distribution(df: pd.DataFrame):\n",
    "    df[\"product_id\"].hist(density=1, bins=df[\"product_id\"].unique().shape[0])"
   ]
  },
  {
   "cell_type": "code",
   "execution_count": null,
   "metadata": {},
   "outputs": [],
   "source": [
    "baseline_subset = baseline_with_recipe_id[baseline_with_recipe_id[\"order_of_relevance_cluster\"] <= 4]"
   ]
  },
  {
   "cell_type": "code",
   "execution_count": null,
   "metadata": {},
   "outputs": [],
   "source": [
    "recipe_distribution(baseline_subset[baseline_subset[\"week\"] == 46])"
   ]
  },
  {
   "cell_type": "code",
   "execution_count": null,
   "metadata": {},
   "outputs": [],
   "source": [
    "recipe_distribution(rankings[(rankings[\"order_of_relevance_cluster\"] < 5) & (rankings[\"week\"] == 47)])"
   ]
  },
  {
   "cell_type": "code",
   "execution_count": null,
   "metadata": {},
   "outputs": [],
   "source": [
    "baseline_subset[\"recipe_id\"].value_counts(normalize=True).describe()"
   ]
  },
  {
   "cell_type": "code",
   "execution_count": null,
   "metadata": {},
   "outputs": [],
   "source": [
    "rankings[(rankings[\"week\"] == 47) & (rankings[\"order_of_relevance_cluster\"] < 4)][\"main_recipe_id\"].value_counts(normalize=True).describe()"
   ]
  },
  {
   "cell_type": "code",
   "execution_count": null,
   "metadata": {},
   "outputs": [],
   "source": [
    "baseline_subset[baseline_subset[\"agreement_id\"].isin(predictions[\"agreement_id\"].unique())][\"recipe_id\"].value_counts()"
   ]
  },
  {
   "cell_type": "code",
   "execution_count": null,
   "metadata": {},
   "outputs": [],
   "source": [
    "baseline_subset[~baseline_subset[\"agreement_id\"].isin(predictions[\"agreement_id\"])][\"agreement_id\"].unique()"
   ]
  },
  {
   "cell_type": "code",
   "execution_count": null,
   "metadata": {},
   "outputs": [],
   "source": [
    "ratings = await store.feature_view(\"recipe_rating\").all().to_pandas()"
   ]
  },
  {
   "cell_type": "code",
   "execution_count": null,
   "metadata": {},
   "outputs": [],
   "source": [
    "len(set(ratings[\n",
    "    ratings[\"company_id\"].isin(\n",
    "        ['09ECD4F0-AE58-4539-8E8F-9275B1859A19', '5E65A955-7B1A-446C-B24F-CFE576BF52D7']\n",
    "    ) & ~ratings[\"RATING\"].isna()\n",
    "][\"agreement_id\"].to_list()))"
   ]
  },
  {
   "cell_type": "code",
   "execution_count": null,
   "metadata": {},
   "outputs": [],
   "source": [
    "len(set(baseline_subset[\"agreement_id\"].to_list()))"
   ]
  },
  {
   "cell_type": "code",
   "execution_count": null,
   "metadata": {},
   "outputs": [],
   "source": [
    "len(set(predictions[\"agreement_id\"].to_list()))"
   ]
  },
  {
   "cell_type": "code",
   "execution_count": null,
   "metadata": {},
   "outputs": [],
   "source": [
    "baseline_subset[\"product_id\"].value_counts(sort=True)"
   ]
  },
  {
   "cell_type": "code",
   "execution_count": null,
   "metadata": {},
   "outputs": [],
   "source": [
    "predictions[\"recipe_id\"].value_counts(sort=True)"
   ]
  },
  {
   "cell_type": "code",
   "execution_count": null,
   "metadata": {},
   "outputs": [],
   "source": [
    "orders = pd.DataFrame({\n",
    "    \"agreement_id\": [1, 1, 2, 2, 3],\n",
    "    \"recipe_id\": [1, 2, 1, 2, 1],\n",
    "    \"rating\": [1, 2, 2, 4, float(\"nan\")]\n",
    "})\n",
    "recipes_ratings = orders[[\"recipe_id\", \"rating\"]]\n",
    "# Assign ratings based on avg per recipe_id instead of global avg\n",
    "cleaned_reciperatings = (\n",
    "    recipes_ratings.groupby(\"recipe_id\")\n",
    "    .mean()\n",
    "    .sort_values(\"rating\", ascending=False)\n",
    ")\n",
    "# For further recipe_ids that have no ratings whatsoever, we assign them 1 assuming customers don't like them at all\n",
    "cleaned_reciperatingsNaNRemoved = pd.DataFrame(\n",
    "    cleaned_reciperatings.rating.fillna(0)\n",
    ")\n",
    "# Reset index\n",
    "cleaned_reciperatingsNaNRemoved.reset_index(inplace=True)\n",
    "# Merge on original orders df\n",
    "orders = orders.merge(\n",
    "    cleaned_reciperatingsNaNRemoved, on=\"recipe_id\", how=\"inner\"\n",
    ")\n",
    "# Clean up and make it ready for further use"
   ]
  },
  {
   "cell_type": "code",
   "execution_count": null,
   "metadata": {},
   "outputs": [],
   "source": [
    "orders"
   ]
  },
  {
   "cell_type": "code",
   "execution_count": null,
   "metadata": {},
   "outputs": [],
   "source": [
    "ratings = await store.feature_view(\"recipe_rating\").all().to_pandas()"
   ]
  },
  {
   "cell_type": "code",
   "execution_count": null,
   "metadata": {},
   "outputs": [],
   "source": [
    "ratings"
   ]
  },
  {
   "cell_type": "code",
   "execution_count": null,
   "metadata": {},
   "outputs": [],
   "source": [
    "ratings[\"rating\"].describe()"
   ]
  },
  {
   "cell_type": "code",
   "execution_count": null,
   "metadata": {},
   "outputs": [],
   "source": [
    "ratings = pd.DataFrame({\n",
    "    \"agreement_id\": [1, 1, 2, 2, 3],\n",
    "    \"recipe_id\": [1, 2, 1, 2, 1],\n",
    "    \"rating\": [1, 2, 2, 4, float(\"nan\")]\n",
    "})\n",
    "mean_recipe_rating = (\n",
    "    ratings.groupby(\"recipe_id\")[\"rating\"].mean()\n",
    ").reset_index()\n",
    "mean_recipe_rating"
   ]
  },
  {
   "cell_type": "code",
   "execution_count": null,
   "metadata": {},
   "outputs": [],
   "source": [
    "ratings[\"rating\"] = ratings[\"rating\"].fillna(\n",
    "    ratings[[\"recipe_id\"]].merge(mean_recipe_rating, on=\"recipe_id\", how=\"left\")[\"rating\"]\n",
    ").fillna(3)"
   ]
  },
  {
   "cell_type": "code",
   "execution_count": null,
   "metadata": {},
   "outputs": [],
   "source": [
    "ratings[[\"recipe_id\"]].merge(mean_recipe_rating, on=\"recipe_id\", how=\"left\")"
   ]
  },
  {
   "cell_type": "code",
   "execution_count": null,
   "metadata": {},
   "outputs": [],
   "source": [
    "ratings[\"recipe_id\"]"
   ]
  },
  {
   "cell_type": "code",
   "execution_count": null,
   "metadata": {},
   "outputs": [],
   "source": [
    "ratings"
   ]
  },
  {
   "cell_type": "code",
   "execution_count": null,
   "metadata": {},
   "outputs": [],
   "source": [
    "# KPI\n",
    "\n",
    "# Who to compute for\n",
    "# All delivered orders\n",
    "\n",
    "# What to compute\n",
    "# Percentage of recommended dishes in the delivered basket that was selected by the user\n",
    "\n",
    "# What do I need\n",
    "# The delivered basket\n",
    "# If the recipes was recommended\n",
    "# If the recieps was a default dish\n",
    "# Who deviated from the \"default\" box\n",
    "\n",
    "# Used features\n",
    "# Who deviated\n",
    "# If the product was default or not\n",
    "\n",
    "# Entities = The delivered box with it's associated billing_agreement_basket, it's year, week\n",
    "# Compare dataset = The recipes that was shown to the user when they made the last changes"
   ]
  },
  {
   "cell_type": "code",
   "execution_count": null,
   "metadata": {},
   "outputs": [],
   "source": [
    "from cheffelo_personalization.rec_engine.sources import adb\n",
    "\n",
    "ordered_products = \"\"\"SELECT \n",
    "    bab.id as billing_agreement_basket_id, \n",
    "    p.product_id, \n",
    "    ol.agreement_id, \n",
    "    ol.week, \n",
    "    ol.year, \n",
    "    le.last_edit\n",
    "FROM def.order_lines ol\n",
    "INNER JOIN cms.billing_agreement_basket bab ON bab.agreement_id = ol.agreement_id\n",
    "INNER JOIN (\n",
    "    SELECT year, week, billing_agreement_basket_id, MAX(updated_at) last_edit\n",
    "    FROM cms.billing_agreement_basket_deviation\n",
    "    WHERE year = 2023\n",
    "    AND week = 46\n",
    "    AND is_active = 1\n",
    "    GROUP BY year, week, billing_agreement_basket_id\n",
    ") le ON le.billing_agreement_basket_id = bab.id AND le.year = ol.year AND le.week = ol.week\n",
    "INNER JOIN mb.products p ON p.variation_id = ol.variation_id AND ol.company_id = p.variation_company_id\n",
    "WHERE product_type_id IN (\n",
    "        'CAC333EA-EC15-4EEA-9D8D-2B9EF60EC0C1',\n",
    "        '2F163D69-8AC1-6E0C-8793-FF0000804EB3'\n",
    "    )\"\"\"\n",
    "\n",
    "entities = adb.fetch(ordered_products)"
   ]
  },
  {
   "cell_type": "code",
   "execution_count": null,
   "metadata": {},
   "outputs": [],
   "source": [
    "from aligned import FeatureStore\n",
    "\n",
    "store = await FeatureStore.from_dir(\".\")"
   ]
  },
  {
   "cell_type": "code",
   "execution_count": null,
   "metadata": {},
   "outputs": [],
   "source": [
    "df = await store.features_for(\n",
    "    entities, \n",
    "    features=[\n",
    "        # \"model:rec_engine:order_of_relevance_cluster\",\n",
    "        \"feature_view:basket_deviation:was_user\",\n",
    "        \"feature_view:basket_deviation:was_meal_selector\",\n",
    "    ], \n",
    "    event_timestamp_column=\"last_edit\"\n",
    ").to_pandas()"
   ]
  },
  {
   "cell_type": "code",
   "execution_count": null,
   "metadata": {},
   "outputs": [],
   "source": [
    "df"
   ]
  },
  {
   "cell_type": "code",
   "execution_count": null,
   "metadata": {},
   "outputs": [],
   "source": [
    "df[\"was_meal_selector\"].value_counts()"
   ]
  },
  {
   "cell_type": "code",
   "execution_count": null,
   "metadata": {},
   "outputs": [],
   "source": [
    "df[\"was_user\"].value_counts()"
   ]
  },
  {
   "cell_type": "code",
   "execution_count": null,
   "metadata": {},
   "outputs": [],
   "source": [
    "predictions = await store.model(\"rec_engine\").using_source(\n",
    "    adb.with_schema(\"ml_output\").table(\"recommendations\", mapping_keys={\"run_timestamp\": \"predicted_at\"})\n",
    ").predictions_for(\n",
    "    entities,\n",
    "    event_timestamp_column=\"last_edit\"\n",
    ").to_pandas()"
   ]
  },
  {
   "cell_type": "code",
   "execution_count": null,
   "metadata": {},
   "outputs": [],
   "source": [
    "predictions"
   ]
  },
  {
   "cell_type": "code",
   "execution_count": null,
   "metadata": {},
   "outputs": [],
   "source": [
    "import polars as pl"
   ]
  },
  {
   "cell_type": "code",
   "execution_count": null,
   "metadata": {},
   "outputs": [],
   "source": [
    "preds = pl.from_pandas(predictions)"
   ]
  },
  {
   "cell_type": "code",
   "execution_count": null,
   "metadata": {},
   "outputs": [],
   "source": [
    "preds.groupby(\"agreement_id\").agg([pl.col(\"product_id\").count().alias(\"product_count\")]).filter(pl.col(\"product_count\") == 2)\n"
   ]
  },
  {
   "cell_type": "code",
   "execution_count": null,
   "metadata": {},
   "outputs": [],
   "source": [
    "preds"
   ]
  },
  {
   "cell_type": "code",
   "execution_count": null,
   "metadata": {},
   "outputs": [],
   "source": [
    "preds.select(pl.col(\"order_of_relevance_cluster\").null_count())"
   ]
  },
  {
   "cell_type": "code",
   "execution_count": null,
   "metadata": {},
   "outputs": [],
   "source": [
    "preds.select(pl.col(\"agreement_id\").n_unique())"
   ]
  },
  {
   "cell_type": "code",
   "execution_count": null,
   "metadata": {},
   "outputs": [],
   "source": [
    "data = pl.concat([preds, pl.from_pandas(df[[\"was_meal_selector\", \"was_user\"]])], how=\"horizontal\")"
   ]
  },
  {
   "cell_type": "code",
   "execution_count": null,
   "metadata": {},
   "outputs": [],
   "source": [
    "data"
   ]
  },
  {
   "cell_type": "code",
   "execution_count": null,
   "metadata": {},
   "outputs": [],
   "source": [
    "def compute_metrics(df: pl.DataFrame) -> pl.DataFrame:\n",
    "    return df.groupby(\"agreement_id\").agg([\n",
    "        pl.col(\"was_meal_selector\").sum().alias(\"Meal Selector deviated count\"),\n",
    "        pl.col(\"was_user\").sum().alias(\"User manually deviated count\"),\n",
    "        (pl.col(\"order_of_relevance_cluster\") <= 8).sum().alias(\"Number of recommendations in top 8 rank\"),\n",
    "        ((pl.col(\"order_of_relevance_cluster\") <= 8).sum() / pl.col(\"was_user\").count()).alias(\"Percentage of selected recommendations in box that was top 8 (aka. hopfully shown)\"),\n",
    "        (((pl.col(\"order_of_relevance_cluster\") <= 8) & pl.col(\"was_user\")).sum() / pl.col(\"was_user\").count()).alias(\"Percentage of selected recommendations in box that was top 8 and selected by the user\"),\n",
    "    ])"
   ]
  },
  {
   "cell_type": "code",
   "execution_count": null,
   "metadata": {},
   "outputs": [],
   "source": [
    "compute_metrics(data).describe()"
   ]
  },
  {
   "cell_type": "code",
   "execution_count": null,
   "metadata": {},
   "outputs": [],
   "source": [
    "from aligned.feature_source import BatchFeatureSource\n",
    "source = store.feature_source\n",
    "if not isinstance(source, BatchFeatureSource):\n",
    "    raise ValueError()\n",
    "\n",
    "source.sources[\"model:rec_engine\"] = adb.with_schema(\"ml_output\").table(\"recommendations\", mapping_keys={\"run_timestamp\": \"predicted_at\"})"
   ]
  },
  {
   "cell_type": "code",
   "execution_count": null,
   "metadata": {},
   "outputs": [],
   "source": [
    "source.sources"
   ]
  },
  {
   "cell_type": "code",
   "execution_count": null,
   "metadata": {},
   "outputs": [],
   "source": [
    "eval_metrics = await store.with_source(source).features_for(entities, features=[\n",
    "        \"model:rec_engine:order_of_relevance_cluster\",\n",
    "        \"feature_view:basket_deviation:was_user\",\n",
    "        \"feature_view:basket_deviation:was_meal_selector\",\n",
    "    ],\n",
    "    event_timestamp_column=\"last_edit\"\n",
    ").to_pandas()"
   ]
  },
  {
   "cell_type": "code",
   "execution_count": null,
   "metadata": {},
   "outputs": [],
   "source": [
    "eval_metrics"
   ]
  },
  {
   "cell_type": "code",
   "execution_count": null,
   "metadata": {},
   "outputs": [],
   "source": [
    "compute_metrics(pl.from_pandas(eval_metrics)).describe()"
   ]
  },
  {
   "cell_type": "code",
   "execution_count": null,
   "metadata": {},
   "outputs": [],
   "source": []
  }
 ],
 "metadata": {
  "kernelspec": {
   "display_name": "personalization",
   "language": "python",
   "name": "python3"
  },
  "language_info": {
   "codemirror_mode": {
    "name": "ipython",
    "version": 3
   },
   "file_extension": ".py",
   "mimetype": "text/x-python",
   "name": "python",
   "nbconvert_exporter": "python",
   "pygments_lexer": "ipython3",
   "version": "3.10.13"
  }
 },
 "nbformat": 4,
 "nbformat_minor": 2
}
