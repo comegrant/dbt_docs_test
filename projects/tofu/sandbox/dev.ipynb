{
 "cells": [
  {
   "cell_type": "code",
   "execution_count": null,
   "metadata": {},
   "outputs": [],
   "source": [
    "%load_ext autoreload\n",
    "%autoreload 2"
   ]
  },
  {
   "cell_type": "code",
   "execution_count": 37,
   "metadata": {},
   "outputs": [],
   "source": [
    "from constants.companies import get_company_by_code\n",
    "company = get_company_by_code(\"GL\")\n",
    "company_id = company.company_id"
   ]
  },
  {
   "cell_type": "code",
   "execution_count": 38,
   "metadata": {},
   "outputs": [],
   "source": [
    "from tofu.data import get_order_history, get_calendar\n",
    "\n",
    "df_order_history = get_order_history(\n",
    "    company_id=company_id\n",
    ")\n",
    "\n",
    "df_calendar = get_calendar()"
   ]
  },
  {
   "cell_type": "code",
   "execution_count": 39,
   "metadata": {},
   "outputs": [],
   "source": [
    "num_weeks = 15\n",
    "forecast_start_year, forecast_start_week = 2025, 30"
   ]
  },
  {
   "cell_type": "code",
   "execution_count": null,
   "metadata": {},
   "outputs": [],
   "source": [
    "df_order_history"
   ]
  },
  {
   "cell_type": "code",
   "execution_count": null,
   "metadata": {},
   "outputs": [],
   "source": [
    "df_order_history[(df_order_history[\"menu_year\"] == 2024) &(df_order_history[\"menu_week\"] == 26)]"
   ]
  },
  {
   "cell_type": "code",
   "execution_count": 42,
   "metadata": {},
   "outputs": [],
   "source": [
    "from tofu.analysis.preprocessing import preprocess_data\n",
    "df_known, df_future = preprocess_data(\n",
    "    df_order_history=df_order_history,\n",
    "    df_calendar=df_calendar,\n",
    "    forecast_start_year=forecast_start_year,\n",
    "    forecast_start_week=forecast_start_week,\n",
    "    num_weeks=num_weeks + 2,\n",
    ")"
   ]
  },
  {
   "cell_type": "code",
   "execution_count": null,
   "metadata": {},
   "outputs": [],
   "source": [
    "df_known.head()"
   ]
  },
  {
   "cell_type": "code",
   "execution_count": null,
   "metadata": {},
   "outputs": [],
   "source": [
    "df_future.head()"
   ]
  },
  {
   "cell_type": "markdown",
   "metadata": {},
   "source": [
    "# Orders"
   ]
  },
  {
   "cell_type": "code",
   "execution_count": null,
   "metadata": {},
   "outputs": [],
   "source": [
    "from tofu.analysis.order_history_analysis import create_total_orders_mapping_table, prepare_data_for_mapping\n",
    "from tofu.configs import holidays_to_match_dict\n",
    "\n",
    "country = company.country\n",
    "\n",
    "df_concat_with_holidays = prepare_data_for_mapping(df_known=df_known, df_future=df_future, country=country)\n",
    "holiday_to_match_list = holidays_to_match_dict[country]\n",
    "df_mapped = create_total_orders_mapping_table(\n",
    "    df_with_holidays=df_concat_with_holidays, num_years_to_map=1, holidays_to_match=holiday_to_match_list\n",
    ")"
   ]
  },
  {
   "cell_type": "code",
   "execution_count": null,
   "metadata": {},
   "outputs": [],
   "source": [
    "from tofu.analysis.order_history_analysis import add_growth_projections, add_projected_orders\n",
    "df_known_mapped, df_future_mapped = add_growth_projections(\n",
    "    df_mapped=df_mapped,\n",
    "    df_known=df_known,\n",
    "    df_future=df_future\n",
    ")\n",
    "\n",
    "df_future_mapped, projected_order_columns = add_projected_orders(\n",
    "    df_future_mapped=df_future_mapped,\n",
    "    growth_rate_columns=[\n",
    "        \"growth_rate_week_to_week\",\n",
    "        \"growth_rate_rolling_4_weeks\",\n",
    "        \"growth_rate_rolling_12_weeks\",\n",
    "        \"growth_rate_week_to_week_linear_projection\",\n",
    "    ],\n",
    ")\n",
    "df_future_mapped = df_future_mapped.head(num_weeks)"
   ]
  },
  {
   "cell_type": "markdown",
   "metadata": {},
   "source": [
    "# Flex share"
   ]
  },
  {
   "cell_type": "code",
   "execution_count": null,
   "metadata": {},
   "outputs": [],
   "source": [
    "from tofu.analysis.flex_share_analysis import add_flex_development_projections\n",
    "\n",
    "df_known_mapped_with_flex, df_future_mapped_with_flex = add_flex_development_projections(\n",
    "    df_mapped=df_mapped,\n",
    "    df_known=df_known_mapped,\n",
    "    df_future=df_future_mapped\n",
    ")\n"
   ]
  },
  {
   "cell_type": "code",
   "execution_count": null,
   "metadata": {},
   "outputs": [],
   "source": [
    "from tofu.analysis.flex_share_analysis import add_projected_flex_share\n",
    "\n",
    "\n",
    "df_future_mapped_with_flex, projected_flex_share_columns = add_projected_flex_share(\n",
    "    df_future_mapped=df_future_mapped_with_flex,\n",
    "    flex_share_development_columns=[\n",
    "        \"flex_share_development_week_to_week\",\n",
    "        \"flex_share_development_rolling_4_weeks\",\n",
    "        \"flex_share_development_rolling_12_weeks\",\n",
    "    ],\n",
    ")"
   ]
  },
  {
   "cell_type": "code",
   "execution_count": null,
   "metadata": {},
   "outputs": [],
   "source": [
    "df_known_mapped_with_flex"
   ]
  },
  {
   "cell_type": "code",
   "execution_count": null,
   "metadata": {},
   "outputs": [],
   "source": [
    "df_future_mapped.columns"
   ]
  },
  {
   "cell_type": "code",
   "execution_count": 51,
   "metadata": {},
   "outputs": [],
   "source": [
    "df_future_mapped[\"analysts_forecast_total_orders\"] = df_future_mapped[\"orders_based_on_growth_rate_rolling_4_weeks\"]\n",
    "df_future_mapped_with_flex[\"analysts_forecast_flex_share\"] = df_future_mapped_with_flex[\"projected_based_on_flex_share_development_week_to_week\"]"
   ]
  },
  {
   "cell_type": "code",
   "execution_count": null,
   "metadata": {},
   "outputs": [],
   "source": [
    "from tofu.analysis.postprocessing import calculate_forecasts\n",
    "\n",
    "df_forecast = calculate_forecasts(\n",
    "    df_future_mapped=df_future_mapped,\n",
    "    df_future_mapped_with_flex=df_future_mapped_with_flex,\n",
    ")\n",
    "\n",
    "df_forecast.head()"
   ]
  },
  {
   "cell_type": "code",
   "execution_count": 53,
   "metadata": {},
   "outputs": [],
   "source": [
    "from tofu.configs import forecast_group_ids, forecast_model_id, forecast_job_id"
   ]
  },
  {
   "cell_type": "code",
   "execution_count": 54,
   "metadata": {},
   "outputs": [],
   "source": [
    "from tofu.analysis.postprocessing import prepare_run_metadata\n",
    "from datetime import datetime\n",
    "import pytz\n",
    "import uuid\n",
    "forecast_job_run_id = str(uuid.uuid4()).upper()\n",
    "created_at = datetime.now(pytz.utc)\n",
    "\n",
    "df_run_metadata = prepare_run_metadata(\n",
    "    df_forecast=df_forecast,\n",
    "    company_id=company_id,\n",
    "    forecast_start_year=forecast_start_year,\n",
    "    forecast_start_week=forecast_start_week,\n",
    "    forecast_model_id=forecast_model_id,\n",
    "    forecast_group_ids=forecast_group_ids,\n",
    "    forecast_job_id=forecast_job_id,\n",
    "    forecast_job_run_id=forecast_job_run_id,\n",
    "    forecast_horizon=num_weeks,\n",
    "    created_at=created_at,\n",
    ")"
   ]
  },
  {
   "cell_type": "code",
   "execution_count": 55,
   "metadata": {},
   "outputs": [],
   "source": [
    "from tofu.analysis.postprocessing import prepare_job_run_data, prepare_forecast_orders_data\n",
    "df_forecast_job_runs = prepare_job_run_data(df_run_metadata=df_run_metadata)\n",
    "df_forecast_orders = prepare_forecast_orders_data(df_forecast=df_forecast, df_run_metadata=df_run_metadata, forecast_group_ids=forecast_group_ids)"
   ]
  },
  {
   "cell_type": "code",
   "execution_count": null,
   "metadata": {},
   "outputs": [],
   "source": [
    "df_forecast_orders"
   ]
  },
  {
   "cell_type": "code",
   "execution_count": null,
   "metadata": {},
   "outputs": [],
   "source": [
    "from tofu.data import get_latest_forecasts\n",
    "\n",
    "df_latest_forecasts = get_latest_forecasts(company_id=company_id)\n",
    "df_latest_forecasts"
   ]
  },
  {
   "cell_type": "code",
   "execution_count": null,
   "metadata": {},
   "outputs": [],
   "source": [
    "df_diff = df_forecast[[\n",
    "    \"menu_year\",\n",
    "    \"menu_week\",\n",
    "    \"analysts_forecast_total_orders\",\n",
    "]].merge(\n",
    "    df_latest_forecasts[[\n",
    "        \"menu_year\",\n",
    "        \"menu_week\",\n",
    "        \"forecast_total_orders\"\n",
    "    ]],\n",
    "    on=[\"menu_year\", \"menu_week\"],\n",
    "    how=\"inner\"\n",
    ")\n",
    "\n",
    "df_diff[\"difference\"] = df_diff[\"analysts_forecast_total_orders\"] - df_diff[\"forecast_total_orders\"]\n",
    "df_diff"
   ]
  },
  {
   "cell_type": "code",
   "execution_count": null,
   "metadata": {},
   "outputs": [],
   "source": [
    "for a_row in df_diff.itertuples():\n",
    "    if a_row.difference >100:\n",
    "        print(f\"• {a_row.menu_week} adjusted by + {a_row.difference} orders\")\n",
    "    elif a_row.difference < -100:\n",
    "        print(f\"• {a_row.menu_week} adjusted by - {abs(a_row.difference)} orders\")"
   ]
  },
  {
   "cell_type": "code",
   "execution_count": null,
   "metadata": {},
   "outputs": [],
   "source": [
    "df_forecast_orders"
   ]
  },
  {
   "cell_type": "code",
   "execution_count": 26,
   "metadata": {},
   "outputs": [],
   "source": [
    "from tofu.data import append_pandas_df_to_catalog\n",
    "\n",
    "append_pandas_df_to_catalog(\n",
    "    df=df_forecast_orders,\n",
    "    table_name=\"forecast_orders\",\n",
    "    schema=\"forecasting\",\n",
    ")"
   ]
  },
  {
   "cell_type": "code",
   "execution_count": 29,
   "metadata": {},
   "outputs": [],
   "source": [
    "append_pandas_df_to_catalog(\n",
    "    df=df_run_metadata,\n",
    "    table_name=\"forecast_job_run_metadata\",\n",
    "    schema=\"forecasting\",\n",
    ")"
   ]
  },
  {
   "cell_type": "code",
   "execution_count": 35,
   "metadata": {},
   "outputs": [],
   "source": [
    "\n",
    "append_pandas_df_to_catalog(\n",
    "    df=df_forecast_job_runs,\n",
    "    table_name=\"forecast_job_runs\",\n",
    "    schema=\"forecasting\",\n",
    ")\n"
   ]
  }
 ],
 "metadata": {
  "kernelspec": {
   "display_name": ".venv",
   "language": "python",
   "name": "python3"
  },
  "language_info": {
   "codemirror_mode": {
    "name": "ipython",
    "version": 3
   },
   "file_extension": ".py",
   "mimetype": "text/x-python",
   "name": "python",
   "nbconvert_exporter": "python",
   "pygments_lexer": "ipython3",
   "version": "3.11.0"
  }
 },
 "nbformat": 4,
 "nbformat_minor": 2
}
