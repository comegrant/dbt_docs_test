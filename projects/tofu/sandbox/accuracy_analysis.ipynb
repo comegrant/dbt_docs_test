{
 "cells": [
  {
   "cell_type": "code",
   "execution_count": null,
   "metadata": {},
   "outputs": [],
   "source": [
    "%load_ext autoreload\n",
    "%autoreload 2"
   ]
  },
  {
   "cell_type": "code",
   "execution_count": 78,
   "metadata": {},
   "outputs": [],
   "source": [
    "from constants.companies import get_company_by_code\n",
    "company = get_company_by_code(\"GL\")\n",
    "company_id = company.company_id"
   ]
  },
  {
   "cell_type": "code",
   "execution_count": null,
   "metadata": {},
   "outputs": [],
   "source": [
    "from tofu.data import get_order_history, get_calendar\n",
    "\n",
    "df_order_history = get_order_history(\n",
    "    company_id=company_id\n",
    ")\n",
    "\n",
    "df_calendar = get_calendar()"
   ]
  },
  {
   "cell_type": "code",
   "execution_count": 80,
   "metadata": {},
   "outputs": [],
   "source": [
    "from tofu.analysis.features import add_holiday_features\n",
    "df_order_history_with_holidays = add_holiday_features(df_order_history, country=\"Norway\")"
   ]
  },
  {
   "cell_type": "code",
   "execution_count": 81,
   "metadata": {},
   "outputs": [],
   "source": [
    "import pandas as pd\n",
    "\n",
    "df_manual_forecast = pd.read_csv(f\"./projects/tofu/test_data/df_analysts_predictions_{company.company_code}.csv\")\n",
    "df_manual_forecast = df_manual_forecast.drop_duplicates(subset=[\"year\", \"week\",\"variation_id\", \"prediction_date\"])\n",
    "df_manual_forecast_agged = pd.DataFrame(df_manual_forecast.groupby([\"year\", \"week\",\"prediction_date\"])[\"quantity\"].sum()).reset_index()\n",
    "df_manual_forecast_agged = df_manual_forecast_agged.rename(\n",
    "    columns={\"year\": \"menu_year\", \"week\": \"menu_week\"},\n",
    ")\n",
    "df_manual_forecast_agged = df_manual_forecast_agged.merge(df_calendar)\n",
    "df_manual_forecast_agged[\"num_days_before_menu_monday\"] = (pd.to_datetime(df_manual_forecast_agged[\"monday_date\"]) - pd.to_datetime(df_manual_forecast_agged[\"prediction_date\"])).dt.days\n",
    "df_manual_forecast_agged[\"num_weeks_before_menu_monday\"] = df_manual_forecast_agged[\"num_days_before_menu_monday\"] // 7"
   ]
  },
  {
   "cell_type": "code",
   "execution_count": null,
   "metadata": {},
   "outputs": [],
   "source": [
    "horizon_index_to_analyze = 6\n",
    "\n",
    "df_manual_to_analyze = df_manual_forecast_agged[df_manual_forecast_agged[\"num_weeks_before_menu_monday\"] == horizon_index_to_analyze]\n",
    "df_manual_to_analyze = df_manual_to_analyze.drop_duplicates(subset=[\"menu_year\", \"menu_week\"])\n",
    "df_manual_to_analyze_merged = df_manual_to_analyze.merge(df_order_history, on=[\"menu_year\", \"menu_week\"])\n",
    "df_manual_to_analyze_merged[\"error\"] = df_manual_to_analyze_merged[\"quantity\"] - df_manual_to_analyze_merged[\"total_orders\"]\n",
    "df_manual_to_analyze_merged[\"abs_error\"] = abs(df_manual_to_analyze_merged[\"error\"])\n",
    "df_manual_to_analyze_merged[\"abs_pct_error\"] = abs(df_manual_to_analyze_merged[\"error\"]) / df_manual_to_analyze_merged[\"total_orders\"]\n",
    "\n",
    "df_manual_to_analyze_merged.head()"
   ]
  },
  {
   "cell_type": "code",
   "execution_count": null,
   "metadata": {},
   "outputs": [],
   "source": [
    "import numpy as np\n",
    "df_tofu_list = []\n",
    "for i in np.arange(25) + 1:\n",
    "    df_tofu = pd.read_csv(f\"./projects/tofu/test_data/tofu/{company.company_code}/default_predictions_{i}.csv\")\n",
    "    df_tofu_list.append(df_tofu)\n",
    "\n",
    "df_tofu_all = pd.concat(df_tofu_list)\n",
    "df_tofu_all.head()"
   ]
  },
  {
   "cell_type": "code",
   "execution_count": 101,
   "metadata": {},
   "outputs": [],
   "source": [
    "df_tofu_to_analyze = df_tofu_all[df_tofu_all[\"horizon_index\"] == (horizon_index_to_analyze)].drop(columns=[\"total_orders\"])\n",
    "df_tofu_to_analyze_merged = df_tofu_to_analyze.merge(df_order_history, on=[\"menu_year\", \"menu_week\"])\n",
    "df_tofu_to_analyze_merged[\"error\"] = df_tofu_to_analyze_merged[\"analysts_prediction\"] - df_tofu_to_analyze_merged[\"total_orders\"]\n",
    "df_tofu_to_analyze_merged[\"abs_error\"] = abs(df_tofu_to_analyze_merged[\"error\"])\n",
    "df_tofu_to_analyze_merged[\"abs_pct_error\"] = abs(df_tofu_to_analyze_merged[\"error\"]) / df_tofu_to_analyze_merged[\"total_orders\"]"
   ]
  },
  {
   "cell_type": "code",
   "execution_count": 102,
   "metadata": {},
   "outputs": [],
   "source": [
    "df_ml_outputs = pd.read_csv(\n",
    "    f\"./projects/tofu/test_data/df_ml_outputs_{company.company_code}.csv\"\n",
    ")\n",
    "\n",
    "df_ml_outputs = df_ml_outputs.rename(\n",
    "    columns={\"year\": \"menu_year\", \"week\": \"menu_week\"},\n",
    ").merge(\n",
    "    df_calendar,\n",
    "    on=[\"menu_year\", \"menu_week\"],\n",
    "    how=\"left\",\n",
    ")\n",
    "\n",
    "df_ml_outputs[\"num_days_before_menu_monday\"] = (pd.to_datetime(df_ml_outputs[\"monday_date\"]) - pd.to_datetime(df_ml_outputs[\"prediction_date\"])).dt.days\n",
    "df_ml_outputs[\"num_weeks_before_menu_monday\"] = df_ml_outputs[\"num_days_before_menu_monday\"]//7\n"
   ]
  },
  {
   "cell_type": "code",
   "execution_count": 103,
   "metadata": {},
   "outputs": [],
   "source": [
    "df_ml_outputs_merged = df_ml_outputs.merge(\n",
    "    df_order_history,\n",
    "    on=[\"menu_year\", \"menu_week\"],\n",
    "    how=\"left\",\n",
    ")\n",
    "\n",
    "df_ml_outputs_merged_to_analyze = df_ml_outputs_merged[df_ml_outputs_merged[\"num_weeks_before_menu_monday\"] == horizon_index_to_analyze]\n",
    "df_ml_outputs_merged_to_analyze = df_ml_outputs_merged_to_analyze.sort_values(by=[\"menu_year\", \"menu_week\"])\n",
    "df_ml_outputs_merged_to_analyze[\"error\"] = df_ml_outputs_merged_to_analyze[\"num_total_orders\"] - df_ml_outputs_merged_to_analyze[\"total_orders\"]\n",
    "df_ml_outputs_merged_to_analyze[\"abs_error\"] = abs(df_ml_outputs_merged_to_analyze[\"error\"])\n",
    "df_ml_outputs_merged_to_analyze[\"abs_pct_error\"] = abs(df_ml_outputs_merged_to_analyze[\"error\"]) / df_ml_outputs_merged_to_analyze[\"total_orders\"]"
   ]
  },
  {
   "cell_type": "code",
   "execution_count": null,
   "metadata": {},
   "outputs": [],
   "source": [
    "df_ml_outputs_merged_to_analyze[[\"menu_year\", \"menu_week\", \"num_total_orders\", \"total_orders\", \"error\", \"abs_error\", \"abs_pct_error\"]].sort_values(by=[\"menu_year\", \"menu_week\"])"
   ]
  },
  {
   "cell_type": "code",
   "execution_count": null,
   "metadata": {},
   "outputs": [],
   "source": [
    "import plotly.graph_objects as go\n",
    "\n",
    "df_order_history_with_holidays = df_order_history_with_holidays.sort_values(by=[\"menu_year\", \"menu_week\"])\n",
    "df_history_to_plot = df_order_history_with_holidays[df_order_history_with_holidays[\"menu_year\"] == 2025]\n",
    "fig_order = go.Figure()\n",
    "\n",
    "fig_order.add_trace(\n",
    "    go.Scatter(\n",
    "        x=df_history_to_plot[\"menu_week\"],\n",
    "        y=df_history_to_plot[\"total_orders\"],\n",
    "        mode=\"lines+markers\",\n",
    "        marker_size=df_history_to_plot[\"num_holidays\"] * 7 + 5,\n",
    "        name=f\"total orders 2025 - actual\",\n",
    "        text=df_history_to_plot[\"holiday_list\"],\n",
    "        hovertemplate=\"week: %{x}<br>total orders: %{y}<br>holidays: %{text}\",\n",
    "    )\n",
    ")\n",
    "\n",
    "fig_order.add_trace(\n",
    "    go.Scatter(\n",
    "        x=df_manual_to_analyze_merged[\"menu_week\"],\n",
    "        y=df_manual_to_analyze_merged[\"quantity\"],\n",
    "        mode=\"lines+markers\",\n",
    "        # marker_size=df_history_to_plot[\"num_holidays\"] * 7 + 5,\n",
    "        name=f\"analysts prediction, {horizon_index_to_analyze} weeks before menu monday\",\n",
    "        # text=df_history_to_plot[\"holiday_list\"],\n",
    "        # hovertemplate=\"week: %{x}<br>total orders: %{y}<br>holidays: %{text}\",\n",
    "    )\n",
    ")\n",
    "\n",
    "fig_order.add_trace(\n",
    "    go.Scatter(\n",
    "        x=df_tofu_to_analyze_merged[\"menu_week\"],\n",
    "        y=df_tofu_to_analyze_merged[\"analysts_prediction\"],\n",
    "        mode=\"lines+markers\",\n",
    "        # marker_size=df_history_to_plot[\"num_holidays\"] * 7 + 5,\n",
    "        name=f\"tofu prediction, {horizon_index_to_analyze} weeks before menu monday\",\n",
    "        # text=df_history_to_plot[\"holiday_list\"],\n",
    "        # hovertemplate=\"week: %{x}<br>total orders: %{y}<br>holidays: %{text}\",\n",
    "    )\n",
    ")\n",
    "\n",
    "fig_order.add_trace(\n",
    "    go.Scatter(\n",
    "        x=df_ml_outputs_merged_to_analyze[\"menu_week\"],\n",
    "        y=df_ml_outputs_merged_to_analyze[\"num_total_orders\"],\n",
    "        mode=\"lines+markers\",\n",
    "        # marker_size=df_history_to_plot[\"num_holidays\"] * 7 + 5,\n",
    "        name=f\"ml prediction, {horizon_index_to_analyze} weeks before menu monday\",\n",
    "        # text=df_history_to_plot[\"holiday_list\"],\n",
    "        # hovertemplate=\"week: %{x}<br>total orders: %{y}<br>holidays: %{text}\",\n",
    "    )\n",
    ")"
   ]
  },
  {
   "cell_type": "code",
   "execution_count": null,
   "metadata": {},
   "outputs": [],
   "source": [
    "df_tofu_to_analyze_merged[\"abs_error\"].describe()"
   ]
  },
  {
   "cell_type": "code",
   "execution_count": null,
   "metadata": {},
   "outputs": [],
   "source": [
    "df_ml_outputs_merged_to_analyze[\"abs_error\"].describe()"
   ]
  },
  {
   "cell_type": "code",
   "execution_count": null,
   "metadata": {},
   "outputs": [],
   "source": [
    "df_manual_to_analyze_merged[\"abs_error\"].describe()"
   ]
  },
  {
   "cell_type": "code",
   "execution_count": null,
   "metadata": {},
   "outputs": [],
   "source": [
    "import plotly.graph_objects as go\n",
    "\n",
    "df_order_history_with_holidays = df_order_history_with_holidays.sort_values(by=[\"menu_year\", \"menu_week\"])\n",
    "df_history_to_plot = df_order_history_with_holidays[df_order_history_with_holidays[\"menu_year\"] == 2025]\n",
    "fig_error = go.Figure()\n",
    "\n",
    "fig_error.add_trace(\n",
    "    go.Scatter(\n",
    "        x=df_manual_to_analyze_merged[\"menu_week\"],\n",
    "        y=df_manual_to_analyze_merged[\"error\"],\n",
    "        mode=\"lines+markers\",\n",
    "        # marker_size=df_history_to_plot[\"num_holidays\"] * 7 + 5,\n",
    "        name=f\"analysts prediction, {horizon_index_to_analyze} weeks before menu monday\",\n",
    "        # text=df_history_to_plot[\"holiday_list\"],\n",
    "        # hovertemplate=\"week: %{x}<br>total orders: %{y}<br>holidays: %{text}\",\n",
    "    )\n",
    ")\n",
    "\n",
    "fig_error.add_trace(\n",
    "    go.Scatter(\n",
    "        x=df_tofu_to_analyze_merged[\"menu_week\"],\n",
    "        y=df_tofu_to_analyze_merged[\"error\"],\n",
    "        mode=\"lines+markers\",\n",
    "        marker_size=df_tofu_to_analyze_merged[\"num_holidays\"] * 7 + 5,\n",
    "        name=f\"tofu prediction, {horizon_index_to_analyze} weeks before menu monday\",\n",
    "        text=df_tofu_to_analyze_merged[\"holiday_list\"],\n",
    "        hovertemplate=\"week: %{x}<br>error: %{y}<br>holidays: %{text}\",\n",
    "    )\n",
    ")\n",
    "\n",
    "fig_error.add_trace(\n",
    "    go.Scatter(\n",
    "        x=df_ml_outputs_merged_to_analyze[\"menu_week\"],\n",
    "        y=df_ml_outputs_merged_to_analyze[\"error\"],\n",
    "        mode=\"lines+markers\",\n",
    "        # marker_size=df_ml_outputs_merged_to_analyze[\"num_holidays\"] * 7 + 5,\n",
    "        name=f\"ml prediction, {horizon_index_to_analyze} weeks before menu monday\",\n",
    "        # text=df_history_to_plot[\"holiday_list\"],\n",
    "        # hovertemplate=\"week: %{x}<br>total orders: %{y}<br>holidays: %{text}\",\n",
    "    )\n",
    ")\n",
    "fig_error.show()\n"
   ]
  },
  {
   "cell_type": "code",
   "execution_count": null,
   "metadata": {},
   "outputs": [],
   "source": [
    "df_tofu_to_analyze_merged"
   ]
  },
  {
   "cell_type": "code",
   "execution_count": null,
   "metadata": {},
   "outputs": [],
   "source": [
    "import plotly.graph_objects as go\n",
    "\n",
    "df_order_history_with_holidays = df_order_history_with_holidays.sort_values(by=[\"menu_year\", \"menu_week\"])\n",
    "df_history_to_plot = df_order_history_with_holidays[df_order_history_with_holidays[\"menu_year\"] == 2025]\n",
    "fig_error = go.Figure()\n",
    "\n",
    "fig_error.add_trace(\n",
    "    go.Scatter(\n",
    "        x=df_manual_to_analyze_merged[\"menu_week\"],\n",
    "        \n",
    "        y=df_manual_to_analyze_merged[\"abs_pct_error\"],\n",
    "        mode=\"lines+markers\",\n",
    "        # marker_size=df_history_to_plot[\"num_holidays\"] * 7 + 5,\n",
    "        name=f\"analysts prediction, {horizon_index_to_analyze} weeks before menu monday\",\n",
    "        # text=df_history_to_plot[\"holiday_list\"],\n",
    "        # hovertemplate=\"week: %{x}<br>total orders: %{y}<br>holidays: %{text}\",\n",
    "    )\n",
    ")\n",
    "\n",
    "fig_error.add_trace(\n",
    "    go.Scatter(\n",
    "        x=df_tofu_to_analyze_merged[\"menu_week\"],\n",
    "        y=df_tofu_to_analyze_merged[\"abs_pct_error\"],\n",
    "        mode=\"lines+markers\",\n",
    "        marker_size=df_tofu_to_analyze_merged[\"num_holidays\"] * 7 + 5,\n",
    "        name=f\"tofu prediction, {horizon_index_to_analyze} weeks before menu monday\",\n",
    "        text=df_tofu_to_analyze_merged[\"holiday_list\"],\n",
    "        # hovertemplate=\"week: %{x}<br>total orders: %{y}<br>holidays: %{text}\",\n",
    "    )\n",
    ")\n",
    "\n",
    "fig_error.add_trace(\n",
    "    go.Scatter(\n",
    "        x=df_ml_outputs_merged_to_analyze[\"menu_week\"],\n",
    "        y=df_ml_outputs_merged_to_analyze[\"abs_pct_error\"],\n",
    "        mode=\"lines+markers\",\n",
    "        # marker_size=df_tofu_to_analyze_merged[\"num_holidays\"] * 7 + 5,\n",
    "        name=f\"ml prediction, {horizon_index_to_analyze} weeks before menu monday\",\n",
    "        # text=df_history_to_plot[\"holiday_list\"],\n",
    "        # hovertemplate=\"week: %{x}<br>total orders: %{y}<br>holidays: %{text}\",\n",
    "    )\n",
    ")\n",
    "fig_error.show()\n"
   ]
  },
  {
   "cell_type": "code",
   "execution_count": null,
   "metadata": {},
   "outputs": [],
   "source": [
    "df_tofu_to_analyze_merged[\"abs_pct_error\"].describe()"
   ]
  },
  {
   "cell_type": "code",
   "execution_count": null,
   "metadata": {},
   "outputs": [],
   "source": [
    "df_manual_to_analyze_merged[\"abs_pct_error\"].describe()"
   ]
  },
  {
   "cell_type": "code",
   "execution_count": null,
   "metadata": {},
   "outputs": [],
   "source": [
    "df_ml_outputs_merged_to_analyze[\"abs_pct_error\"].describe()"
   ]
  },
  {
   "cell_type": "code",
   "execution_count": 30,
   "metadata": {},
   "outputs": [],
   "source": [
    "df_compare = df_manual_to_analyze_merged[[\"menu_year\", \"menu_week\", \"abs_error\", \"abs_pct_error\"]].rename(\n",
    "    columns={\n",
    "        \"abs_error\": \"abs_error_manual\",\n",
    "        \"abs_pct_error\": \"abs_pct_error_manual\"\n",
    "    }\n",
    ")\n",
    "df_compare = df_compare.merge(\n",
    "    df_tofu_to_analyze_merged[[\"menu_year\", \"menu_week\", \"abs_error\", \"abs_pct_error\"]].rename(\n",
    "        columns={\n",
    "            \"abs_error\": \"abs_error_tofu\",\n",
    "            \"abs_pct_error\": \"abs_pct_error_tofu\"\n",
    "        }\n",
    "    ),\n",
    "    on=[\"menu_year\", \"menu_week\"],\n",
    "    how=\"left\",\n",
    ")\n",
    "\n",
    "df_compare = df_compare.merge(\n",
    "    df_ml_outputs_merged_to_analyze[[\"menu_year\", \"menu_week\", \"abs_error\", \"abs_pct_error\"]].rename(\n",
    "        columns={\n",
    "            \"abs_error\": \"abs_error_ml\",\n",
    "            \"abs_pct_error\": \"abs_pct_error_ml\"\n",
    "        }\n",
    "    ),\n",
    "    on=[\"menu_year\", \"menu_week\"],\n",
    "    how=\"left\",\n",
    ")\n",
    "\n",
    "# minus means TOFU is better than manual\n",
    "df_compare[\"tofu_error_minus_manual\"] = df_compare[\"abs_error_tofu\"] - df_compare[\"abs_error_manual\"]\n",
    "df_compare[\"tofu_error_minus_ml\"] = df_compare[\"abs_error_tofu\"] - df_compare[\"abs_error_ml\"]\n",
    "\n",
    "\n",
    "# minus means TOFU is better than manual\n",
    "df_compare[\"tofu_pct_error_minus_manual\"] = df_compare[\"abs_pct_error_tofu\"] - df_compare[\"abs_pct_error_manual\"]\n",
    "df_compare[\"tofu_pct_error_minus_ml\"] = df_compare[\"abs_pct_error_tofu\"] - df_compare[\"abs_pct_error_ml\"]\n",
    "\n"
   ]
  },
  {
   "cell_type": "code",
   "execution_count": null,
   "metadata": {},
   "outputs": [],
   "source": [
    "df_tofu_to_analyze_merged[\"abs_error\"].describe()"
   ]
  },
  {
   "cell_type": "code",
   "execution_count": null,
   "metadata": {},
   "outputs": [],
   "source": [
    "df_ml_outputs_merged_to_analyze[\"abs_error\"].describe()"
   ]
  },
  {
   "cell_type": "code",
   "execution_count": null,
   "metadata": {},
   "outputs": [],
   "source": []
  }
 ],
 "metadata": {
  "kernelspec": {
   "display_name": ".venv",
   "language": "python",
   "name": "python3"
  },
  "language_info": {
   "codemirror_mode": {
    "name": "ipython",
    "version": 3
   },
   "file_extension": ".py",
   "mimetype": "text/x-python",
   "name": "python",
   "nbconvert_exporter": "python",
   "pygments_lexer": "ipython3",
   "version": "3.11.0"
  }
 },
 "nbformat": 4,
 "nbformat_minor": 2
}
