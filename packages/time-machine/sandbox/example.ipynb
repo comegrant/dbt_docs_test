{
 "cells": [
  {
   "cell_type": "code",
   "execution_count": 1,
   "metadata": {},
   "outputs": [],
   "source": [
    "%load_ext autoreload\n",
    "%autoreload 2"
   ]
  },
  {
   "cell_type": "code",
   "execution_count": 2,
   "metadata": {},
   "outputs": [],
   "source": [
    "# Now you can import the time_machine.holidays module\n",
    "from time_machine.holidays import *"
   ]
  },
  {
   "cell_type": "code",
   "execution_count": 3,
   "metadata": {},
   "outputs": [],
   "source": [
    "start_date = '2025-01-01'\n",
    "end_date = '2026-01-01'\n",
    "country = \"Norway\""
   ]
  },
  {
   "cell_type": "code",
   "execution_count": null,
   "metadata": {},
   "outputs": [],
   "source": [
    "df_calendar_with_holiday_features = get_calendar_dataframe_with_holiday_features(\n",
    "    start_date=start_date,\n",
    "    end_date=end_date,\n",
    "    country=country,\n",
    "    is_onehot_encode_holiday=False\n",
    ")\n",
    "df_calendar_with_holiday_features.head()"
   ]
  },
  {
   "cell_type": "code",
   "execution_count": null,
   "metadata": {},
   "outputs": [],
   "source": [
    "from time_machine.holidays import get_weekly_calendar_with_holiday_features\n",
    "df_weekly_holiday_features = get_weekly_calendar_with_holiday_features(\n",
    "    start_date=start_date,\n",
    "    end_date=end_date,\n",
    "    country=country,\n",
    "    include_onehot_encoded_holiday=False\n",
    ")\n",
    "\n",
    "df_weekly_holiday_features.head()"
   ]
  },
  {
   "cell_type": "code",
   "execution_count": null,
   "metadata": {},
   "outputs": [],
   "source": [
    "from time_machine.holidays import get_weekly_calendar_with_holiday_features\n",
    "df_weekly_calendar_with_holiday_features = get_weekly_calendar_with_holiday_features(\n",
    "    start_date=start_date,\n",
    "    end_date=end_date,\n",
    "    country=country,\n",
    "    include_onehot_encoded_holiday=True\n",
    ")\n",
    "df_weekly_calendar_with_holiday_features.columns"
   ]
  },
  {
   "cell_type": "code",
   "execution_count": null,
   "metadata": {},
   "outputs": [],
   "source": []
  }
 ],
 "metadata": {
  "kernelspec": {
   "display_name": ".venv",
   "language": "python",
   "name": "python3"
  },
  "language_info": {
   "codemirror_mode": {
    "name": "ipython",
    "version": 3
   },
   "file_extension": ".py",
   "mimetype": "text/x-python",
   "name": "python",
   "nbconvert_exporter": "python",
   "pygments_lexer": "ipython3",
   "version": "3.11.0"
  }
 },
 "nbformat": 4,
 "nbformat_minor": 2
}
